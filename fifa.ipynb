{
 "cells": [
  {
   "cell_type": "code",
   "execution_count": 3,
   "metadata": {},
   "outputs": [],
   "source": [
    "import numpy as np\n",
    "import pandas as pd\n",
    "import matplotlib.pyplot as plt\n",
    "import seaborn as sns\n",
    "import plotly.offline as pyo\n",
    "import plotly.graph_objects as go"
   ]
  },
  {
   "cell_type": "code",
   "execution_count": 4,
   "metadata": {},
   "outputs": [],
   "source": [
    "fifa_ranking = pd.read_csv('F:\\\\Aditya Projects\\\\EDA\\\\fifa_ranking_2022-10-06 - fifa_ranking_2022-10-06.csv.csv')\n",
    "matches = pd.read_csv('F:\\\\Aditya Projects\\\\EDA\\\\matches_1930_2022 - matches_1930_2022.csv.csv')\n",
    "world_cup = pd.read_csv('F:\\\\Aditya Projects\\\\EDA\\\\world_cup - world_cup.csv.csv')"
   ]
  },
  {
   "cell_type": "code",
   "execution_count": 5,
   "metadata": {},
   "outputs": [
    {
     "data": {
      "text/html": [
       "<div>\n",
       "<style scoped>\n",
       "    .dataframe tbody tr th:only-of-type {\n",
       "        vertical-align: middle;\n",
       "    }\n",
       "\n",
       "    .dataframe tbody tr th {\n",
       "        vertical-align: top;\n",
       "    }\n",
       "\n",
       "    .dataframe thead th {\n",
       "        text-align: right;\n",
       "    }\n",
       "</style>\n",
       "<table border=\"1\" class=\"dataframe\">\n",
       "  <thead>\n",
       "    <tr style=\"text-align: right;\">\n",
       "      <th></th>\n",
       "      <th>team</th>\n",
       "      <th>team_code</th>\n",
       "      <th>association</th>\n",
       "      <th>rank</th>\n",
       "      <th>previous_rank</th>\n",
       "      <th>points</th>\n",
       "      <th>previous_points</th>\n",
       "    </tr>\n",
       "  </thead>\n",
       "  <tbody>\n",
       "    <tr>\n",
       "      <th>0</th>\n",
       "      <td>Brazil</td>\n",
       "      <td>BRA</td>\n",
       "      <td>CONMEBOL</td>\n",
       "      <td>1</td>\n",
       "      <td>1</td>\n",
       "      <td>1841.30</td>\n",
       "      <td>1837.56</td>\n",
       "    </tr>\n",
       "    <tr>\n",
       "      <th>1</th>\n",
       "      <td>Belgium</td>\n",
       "      <td>BEL</td>\n",
       "      <td>UEFA</td>\n",
       "      <td>2</td>\n",
       "      <td>2</td>\n",
       "      <td>1816.71</td>\n",
       "      <td>1821.92</td>\n",
       "    </tr>\n",
       "    <tr>\n",
       "      <th>2</th>\n",
       "      <td>Argentina</td>\n",
       "      <td>ARG</td>\n",
       "      <td>CONMEBOL</td>\n",
       "      <td>3</td>\n",
       "      <td>3</td>\n",
       "      <td>1773.88</td>\n",
       "      <td>1770.65</td>\n",
       "    </tr>\n",
       "    <tr>\n",
       "      <th>3</th>\n",
       "      <td>France</td>\n",
       "      <td>FRA</td>\n",
       "      <td>UEFA</td>\n",
       "      <td>4</td>\n",
       "      <td>4</td>\n",
       "      <td>1759.78</td>\n",
       "      <td>1764.85</td>\n",
       "    </tr>\n",
       "    <tr>\n",
       "      <th>4</th>\n",
       "      <td>England</td>\n",
       "      <td>ENG</td>\n",
       "      <td>UEFA</td>\n",
       "      <td>5</td>\n",
       "      <td>5</td>\n",
       "      <td>1728.47</td>\n",
       "      <td>1737.46</td>\n",
       "    </tr>\n",
       "    <tr>\n",
       "      <th>...</th>\n",
       "      <td>...</td>\n",
       "      <td>...</td>\n",
       "      <td>...</td>\n",
       "      <td>...</td>\n",
       "      <td>...</td>\n",
       "      <td>...</td>\n",
       "      <td>...</td>\n",
       "    </tr>\n",
       "    <tr>\n",
       "      <th>206</th>\n",
       "      <td>Sri Lanka</td>\n",
       "      <td>SRI</td>\n",
       "      <td>AFC</td>\n",
       "      <td>207</td>\n",
       "      <td>207</td>\n",
       "      <td>825.25</td>\n",
       "      <td>825.25</td>\n",
       "    </tr>\n",
       "    <tr>\n",
       "      <th>207</th>\n",
       "      <td>US Virgin Islands</td>\n",
       "      <td>VIR</td>\n",
       "      <td>CONCACAF</td>\n",
       "      <td>208</td>\n",
       "      <td>208</td>\n",
       "      <td>823.97</td>\n",
       "      <td>823.97</td>\n",
       "    </tr>\n",
       "    <tr>\n",
       "      <th>208</th>\n",
       "      <td>British Virgin Islands</td>\n",
       "      <td>VGB</td>\n",
       "      <td>CONCACAF</td>\n",
       "      <td>209</td>\n",
       "      <td>209</td>\n",
       "      <td>809.32</td>\n",
       "      <td>809.32</td>\n",
       "    </tr>\n",
       "    <tr>\n",
       "      <th>209</th>\n",
       "      <td>Anguilla</td>\n",
       "      <td>AIA</td>\n",
       "      <td>CONCACAF</td>\n",
       "      <td>210</td>\n",
       "      <td>210</td>\n",
       "      <td>790.74</td>\n",
       "      <td>790.74</td>\n",
       "    </tr>\n",
       "    <tr>\n",
       "      <th>210</th>\n",
       "      <td>San Marino</td>\n",
       "      <td>SMR</td>\n",
       "      <td>UEFA</td>\n",
       "      <td>211</td>\n",
       "      <td>211</td>\n",
       "      <td>762.22</td>\n",
       "      <td>763.82</td>\n",
       "    </tr>\n",
       "  </tbody>\n",
       "</table>\n",
       "<p>211 rows × 7 columns</p>\n",
       "</div>"
      ],
      "text/plain": [
       "                       team team_code association  rank  previous_rank  \\\n",
       "0                    Brazil       BRA    CONMEBOL     1              1   \n",
       "1                   Belgium       BEL        UEFA     2              2   \n",
       "2                 Argentina       ARG    CONMEBOL     3              3   \n",
       "3                    France       FRA        UEFA     4              4   \n",
       "4                   England       ENG        UEFA     5              5   \n",
       "..                      ...       ...         ...   ...            ...   \n",
       "206               Sri Lanka       SRI         AFC   207            207   \n",
       "207       US Virgin Islands       VIR    CONCACAF   208            208   \n",
       "208  British Virgin Islands       VGB    CONCACAF   209            209   \n",
       "209                Anguilla       AIA    CONCACAF   210            210   \n",
       "210              San Marino       SMR        UEFA   211            211   \n",
       "\n",
       "      points  previous_points  \n",
       "0    1841.30          1837.56  \n",
       "1    1816.71          1821.92  \n",
       "2    1773.88          1770.65  \n",
       "3    1759.78          1764.85  \n",
       "4    1728.47          1737.46  \n",
       "..       ...              ...  \n",
       "206   825.25           825.25  \n",
       "207   823.97           823.97  \n",
       "208   809.32           809.32  \n",
       "209   790.74           790.74  \n",
       "210   762.22           763.82  \n",
       "\n",
       "[211 rows x 7 columns]"
      ]
     },
     "execution_count": 5,
     "metadata": {},
     "output_type": "execute_result"
    }
   ],
   "source": [
    "fifa_ranking"
   ]
  },
  {
   "cell_type": "code",
   "execution_count": 6,
   "metadata": {},
   "outputs": [
    {
     "data": {
      "text/html": [
       "<div>\n",
       "<style scoped>\n",
       "    .dataframe tbody tr th:only-of-type {\n",
       "        vertical-align: middle;\n",
       "    }\n",
       "\n",
       "    .dataframe tbody tr th {\n",
       "        vertical-align: top;\n",
       "    }\n",
       "\n",
       "    .dataframe thead th {\n",
       "        text-align: right;\n",
       "    }\n",
       "</style>\n",
       "<table border=\"1\" class=\"dataframe\">\n",
       "  <thead>\n",
       "    <tr style=\"text-align: right;\">\n",
       "      <th></th>\n",
       "      <th>Year</th>\n",
       "      <th>Host</th>\n",
       "      <th>Teams</th>\n",
       "      <th>Champion</th>\n",
       "      <th>Runner-Up</th>\n",
       "      <th>TopScorrer</th>\n",
       "      <th>Attendance</th>\n",
       "      <th>AttendanceAvg</th>\n",
       "      <th>Matches</th>\n",
       "    </tr>\n",
       "  </thead>\n",
       "  <tbody>\n",
       "    <tr>\n",
       "      <th>0</th>\n",
       "      <td>2022</td>\n",
       "      <td>Qatar</td>\n",
       "      <td>32</td>\n",
       "      <td>Argentina</td>\n",
       "      <td>France</td>\n",
       "      <td>Kylian Mbappé - 8</td>\n",
       "      <td>3404252</td>\n",
       "      <td>53191</td>\n",
       "      <td>64</td>\n",
       "    </tr>\n",
       "    <tr>\n",
       "      <th>1</th>\n",
       "      <td>2018</td>\n",
       "      <td>Russia</td>\n",
       "      <td>32</td>\n",
       "      <td>France</td>\n",
       "      <td>Croatia</td>\n",
       "      <td>Harry Kane - 6</td>\n",
       "      <td>3031768</td>\n",
       "      <td>47371</td>\n",
       "      <td>64</td>\n",
       "    </tr>\n",
       "    <tr>\n",
       "      <th>2</th>\n",
       "      <td>2014</td>\n",
       "      <td>Brazil</td>\n",
       "      <td>32</td>\n",
       "      <td>Germany</td>\n",
       "      <td>Argentina</td>\n",
       "      <td>James Rodríguez - 6</td>\n",
       "      <td>3429873</td>\n",
       "      <td>53592</td>\n",
       "      <td>64</td>\n",
       "    </tr>\n",
       "    <tr>\n",
       "      <th>3</th>\n",
       "      <td>2010</td>\n",
       "      <td>South Africa</td>\n",
       "      <td>32</td>\n",
       "      <td>Spain</td>\n",
       "      <td>Netherlands</td>\n",
       "      <td>Wesley Sneijder, Thomas Müller... - 5</td>\n",
       "      <td>3178856</td>\n",
       "      <td>49670</td>\n",
       "      <td>64</td>\n",
       "    </tr>\n",
       "    <tr>\n",
       "      <th>4</th>\n",
       "      <td>2006</td>\n",
       "      <td>Germany</td>\n",
       "      <td>32</td>\n",
       "      <td>Italy</td>\n",
       "      <td>France</td>\n",
       "      <td>Miroslav Klose - 5</td>\n",
       "      <td>3352605</td>\n",
       "      <td>52384</td>\n",
       "      <td>64</td>\n",
       "    </tr>\n",
       "  </tbody>\n",
       "</table>\n",
       "</div>"
      ],
      "text/plain": [
       "   Year          Host  Teams   Champion    Runner-Up  \\\n",
       "0  2022         Qatar     32  Argentina       France   \n",
       "1  2018        Russia     32     France      Croatia   \n",
       "2  2014        Brazil     32    Germany    Argentina   \n",
       "3  2010  South Africa     32      Spain  Netherlands   \n",
       "4  2006       Germany     32      Italy       France   \n",
       "\n",
       "                              TopScorrer  Attendance  AttendanceAvg  Matches  \n",
       "0                      Kylian Mbappé - 8     3404252          53191       64  \n",
       "1                         Harry Kane - 6     3031768          47371       64  \n",
       "2                    James Rodríguez - 6     3429873          53592       64  \n",
       "3  Wesley Sneijder, Thomas Müller... - 5     3178856          49670       64  \n",
       "4                     Miroslav Klose - 5     3352605          52384       64  "
      ]
     },
     "execution_count": 6,
     "metadata": {},
     "output_type": "execute_result"
    }
   ],
   "source": [
    "world_cup.head()"
   ]
  },
  {
   "cell_type": "code",
   "execution_count": 7,
   "metadata": {},
   "outputs": [
    {
     "data": {
      "text/html": [
       "<div>\n",
       "<style scoped>\n",
       "    .dataframe tbody tr th:only-of-type {\n",
       "        vertical-align: middle;\n",
       "    }\n",
       "\n",
       "    .dataframe tbody tr th {\n",
       "        vertical-align: top;\n",
       "    }\n",
       "\n",
       "    .dataframe thead th {\n",
       "        text-align: right;\n",
       "    }\n",
       "</style>\n",
       "<table border=\"1\" class=\"dataframe\">\n",
       "  <thead>\n",
       "    <tr style=\"text-align: right;\">\n",
       "      <th></th>\n",
       "      <th>home_team</th>\n",
       "      <th>away_team</th>\n",
       "      <th>home_score</th>\n",
       "      <th>home_xg</th>\n",
       "      <th>home_penalty</th>\n",
       "      <th>away_score</th>\n",
       "      <th>away_xg</th>\n",
       "      <th>away_penalty</th>\n",
       "      <th>home_manager</th>\n",
       "      <th>home_captain</th>\n",
       "      <th>...</th>\n",
       "      <th>home_penalty_shootout_miss_long</th>\n",
       "      <th>away_penalty_shootout_miss_long</th>\n",
       "      <th>home_red_card</th>\n",
       "      <th>away_red_card</th>\n",
       "      <th>home_yellow_red_card</th>\n",
       "      <th>away_yellow_red_card</th>\n",
       "      <th>home_yellow_card_long</th>\n",
       "      <th>away_yellow_card_long</th>\n",
       "      <th>home_substitute_in_long</th>\n",
       "      <th>away_substitute_in_long</th>\n",
       "    </tr>\n",
       "  </thead>\n",
       "  <tbody>\n",
       "    <tr>\n",
       "      <th>0</th>\n",
       "      <td>Argentina</td>\n",
       "      <td>France</td>\n",
       "      <td>3</td>\n",
       "      <td>3.3</td>\n",
       "      <td>4.0</td>\n",
       "      <td>3</td>\n",
       "      <td>2.2</td>\n",
       "      <td>2.0</td>\n",
       "      <td>Lionel Scaloni</td>\n",
       "      <td>Lionel Messi</td>\n",
       "      <td>...</td>\n",
       "      <td>NaN</td>\n",
       "      <td>['3|1:1|Kingsley Coman', '5|2:1|Aurélien Tchou...</td>\n",
       "      <td>NaN</td>\n",
       "      <td>NaN</td>\n",
       "      <td>NaN</td>\n",
       "      <td>NaN</td>\n",
       "      <td>['45+7&amp;rsquor;|2:0|Enzo Fernández', '90+8&amp;rsqu...</td>\n",
       "      <td>['55&amp;rsquor;|2:0|Adrien Rabiot', '87&amp;rsquor;|2...</td>\n",
       "      <td>['64&amp;rsquor;|2:0|Marcos Acuña|for Ángel Di Mar...</td>\n",
       "      <td>['41&amp;rsquor;|2:0|Randal Kolo Muani|for Ousmane...</td>\n",
       "    </tr>\n",
       "    <tr>\n",
       "      <th>1</th>\n",
       "      <td>Croatia</td>\n",
       "      <td>Morocco</td>\n",
       "      <td>2</td>\n",
       "      <td>0.7</td>\n",
       "      <td>NaN</td>\n",
       "      <td>1</td>\n",
       "      <td>1.2</td>\n",
       "      <td>NaN</td>\n",
       "      <td>Zlatko Dalić</td>\n",
       "      <td>Luka Modrić</td>\n",
       "      <td>...</td>\n",
       "      <td>NaN</td>\n",
       "      <td>NaN</td>\n",
       "      <td>NaN</td>\n",
       "      <td>NaN</td>\n",
       "      <td>NaN</td>\n",
       "      <td>NaN</td>\n",
       "      <td>NaN</td>\n",
       "      <td>['69&amp;rsquor;|2:1|Azzedine Ounahi', '84&amp;rsquor;...</td>\n",
       "      <td>['61&amp;rsquor;|2:1|Nikola Vlašić|for Andrej Kram...</td>\n",
       "      <td>['46&amp;rsquor;|2:1|Ilias Chair|for Abdelhamid Sa...</td>\n",
       "    </tr>\n",
       "    <tr>\n",
       "      <th>2</th>\n",
       "      <td>France</td>\n",
       "      <td>Morocco</td>\n",
       "      <td>2</td>\n",
       "      <td>2.0</td>\n",
       "      <td>NaN</td>\n",
       "      <td>0</td>\n",
       "      <td>0.9</td>\n",
       "      <td>NaN</td>\n",
       "      <td>Didier Deschamps</td>\n",
       "      <td>Hugo Lloris</td>\n",
       "      <td>...</td>\n",
       "      <td>NaN</td>\n",
       "      <td>NaN</td>\n",
       "      <td>NaN</td>\n",
       "      <td>NaN</td>\n",
       "      <td>NaN</td>\n",
       "      <td>NaN</td>\n",
       "      <td>NaN</td>\n",
       "      <td>['27&amp;rsquor;|1:0|Sofiane Boufal']</td>\n",
       "      <td>['65&amp;rsquor;|1:0|Marcus Thuram|for Olivier Gir...</td>\n",
       "      <td>['21&amp;rsquor;|1:0|Selim Amallah|for Romain Saïs...</td>\n",
       "    </tr>\n",
       "    <tr>\n",
       "      <th>3</th>\n",
       "      <td>Argentina</td>\n",
       "      <td>Croatia</td>\n",
       "      <td>3</td>\n",
       "      <td>2.3</td>\n",
       "      <td>NaN</td>\n",
       "      <td>0</td>\n",
       "      <td>0.5</td>\n",
       "      <td>NaN</td>\n",
       "      <td>Lionel Scaloni</td>\n",
       "      <td>Lionel Messi</td>\n",
       "      <td>...</td>\n",
       "      <td>NaN</td>\n",
       "      <td>NaN</td>\n",
       "      <td>NaN</td>\n",
       "      <td>NaN</td>\n",
       "      <td>NaN</td>\n",
       "      <td>NaN</td>\n",
       "      <td>['68&amp;rsquor;|2:0|Cristian Romero', '71&amp;rsquor;...</td>\n",
       "      <td>['32&amp;rsquor;|0:0|Mateo Kovačić', '32&amp;rsquor;|0...</td>\n",
       "      <td>['62&amp;rsquor;|2:0|Lisandro Martínez|for Leandro...</td>\n",
       "      <td>['46&amp;rsquor;|2:0|Mislav Oršić|for Borna Sosa',...</td>\n",
       "    </tr>\n",
       "    <tr>\n",
       "      <th>4</th>\n",
       "      <td>Morocco</td>\n",
       "      <td>Portugal</td>\n",
       "      <td>1</td>\n",
       "      <td>1.4</td>\n",
       "      <td>NaN</td>\n",
       "      <td>0</td>\n",
       "      <td>0.9</td>\n",
       "      <td>NaN</td>\n",
       "      <td>Hoalid Regragui</td>\n",
       "      <td>Romain Saïss</td>\n",
       "      <td>...</td>\n",
       "      <td>NaN</td>\n",
       "      <td>NaN</td>\n",
       "      <td>NaN</td>\n",
       "      <td>NaN</td>\n",
       "      <td>Walid Cheddira · 90+3</td>\n",
       "      <td>NaN</td>\n",
       "      <td>['70&amp;rsquor;|1:0|Achraf Dari', '90+1&amp;rsquor;|1...</td>\n",
       "      <td>['87&amp;rsquor;|1:0|Vitinha']</td>\n",
       "      <td>['57&amp;rsquor;|1:0|Achraf Dari|for Romain Saïss'...</td>\n",
       "      <td>['51&amp;rsquor;|1:0|João Cancelo|for Raphaël Guer...</td>\n",
       "    </tr>\n",
       "  </tbody>\n",
       "</table>\n",
       "<p>5 rows × 44 columns</p>\n",
       "</div>"
      ],
      "text/plain": [
       "   home_team away_team  home_score  home_xg  home_penalty  away_score  \\\n",
       "0  Argentina    France           3      3.3           4.0           3   \n",
       "1    Croatia   Morocco           2      0.7           NaN           1   \n",
       "2     France   Morocco           2      2.0           NaN           0   \n",
       "3  Argentina   Croatia           3      2.3           NaN           0   \n",
       "4    Morocco  Portugal           1      1.4           NaN           0   \n",
       "\n",
       "   away_xg  away_penalty      home_manager  home_captain  ...  \\\n",
       "0      2.2           2.0    Lionel Scaloni  Lionel Messi  ...   \n",
       "1      1.2           NaN      Zlatko Dalić   Luka Modrić  ...   \n",
       "2      0.9           NaN  Didier Deschamps   Hugo Lloris  ...   \n",
       "3      0.5           NaN    Lionel Scaloni  Lionel Messi  ...   \n",
       "4      0.9           NaN   Hoalid Regragui  Romain Saïss  ...   \n",
       "\n",
       "  home_penalty_shootout_miss_long  \\\n",
       "0                             NaN   \n",
       "1                             NaN   \n",
       "2                             NaN   \n",
       "3                             NaN   \n",
       "4                             NaN   \n",
       "\n",
       "                     away_penalty_shootout_miss_long  home_red_card  \\\n",
       "0  ['3|1:1|Kingsley Coman', '5|2:1|Aurélien Tchou...            NaN   \n",
       "1                                                NaN            NaN   \n",
       "2                                                NaN            NaN   \n",
       "3                                                NaN            NaN   \n",
       "4                                                NaN            NaN   \n",
       "\n",
       "  away_red_card   home_yellow_red_card away_yellow_red_card  \\\n",
       "0           NaN                    NaN                  NaN   \n",
       "1           NaN                    NaN                  NaN   \n",
       "2           NaN                    NaN                  NaN   \n",
       "3           NaN                    NaN                  NaN   \n",
       "4           NaN  Walid Cheddira · 90+3                  NaN   \n",
       "\n",
       "                               home_yellow_card_long  \\\n",
       "0  ['45+7&rsquor;|2:0|Enzo Fernández', '90+8&rsqu...   \n",
       "1                                                NaN   \n",
       "2                                                NaN   \n",
       "3  ['68&rsquor;|2:0|Cristian Romero', '71&rsquor;...   \n",
       "4  ['70&rsquor;|1:0|Achraf Dari', '90+1&rsquor;|1...   \n",
       "\n",
       "                               away_yellow_card_long  \\\n",
       "0  ['55&rsquor;|2:0|Adrien Rabiot', '87&rsquor;|2...   \n",
       "1  ['69&rsquor;|2:1|Azzedine Ounahi', '84&rsquor;...   \n",
       "2                  ['27&rsquor;|1:0|Sofiane Boufal']   \n",
       "3  ['32&rsquor;|0:0|Mateo Kovačić', '32&rsquor;|0...   \n",
       "4                         ['87&rsquor;|1:0|Vitinha']   \n",
       "\n",
       "                             home_substitute_in_long  \\\n",
       "0  ['64&rsquor;|2:0|Marcos Acuña|for Ángel Di Mar...   \n",
       "1  ['61&rsquor;|2:1|Nikola Vlašić|for Andrej Kram...   \n",
       "2  ['65&rsquor;|1:0|Marcus Thuram|for Olivier Gir...   \n",
       "3  ['62&rsquor;|2:0|Lisandro Martínez|for Leandro...   \n",
       "4  ['57&rsquor;|1:0|Achraf Dari|for Romain Saïss'...   \n",
       "\n",
       "                             away_substitute_in_long  \n",
       "0  ['41&rsquor;|2:0|Randal Kolo Muani|for Ousmane...  \n",
       "1  ['46&rsquor;|2:1|Ilias Chair|for Abdelhamid Sa...  \n",
       "2  ['21&rsquor;|1:0|Selim Amallah|for Romain Saïs...  \n",
       "3  ['46&rsquor;|2:0|Mislav Oršić|for Borna Sosa',...  \n",
       "4  ['51&rsquor;|1:0|João Cancelo|for Raphaël Guer...  \n",
       "\n",
       "[5 rows x 44 columns]"
      ]
     },
     "execution_count": 7,
     "metadata": {},
     "output_type": "execute_result"
    }
   ],
   "source": [
    "matches.head()"
   ]
  },
  {
   "cell_type": "markdown",
   "metadata": {},
   "source": []
  },
  {
   "cell_type": "code",
   "execution_count": 8,
   "metadata": {},
   "outputs": [
    {
     "data": {
      "text/plain": [
       "Index(['home_team', 'away_team', 'home_score', 'home_xg', 'home_penalty',\n",
       "       'away_score', 'away_xg', 'away_penalty', 'home_manager', 'home_captain',\n",
       "       'away_manager', 'away_captain', 'Attendance', 'Venue', 'Officials',\n",
       "       'Round', 'Date', 'Score', 'Referee', 'Notes', 'Host', 'Year',\n",
       "       'home_goal', 'away_goal', 'home_goal_long', 'away_goal_long',\n",
       "       'home_own_goal', 'away_own_goal', 'home_penalty_goal',\n",
       "       'away_penalty_goal', 'home_penalty_miss_long', 'away_penalty_miss_long',\n",
       "       'home_penalty_shootout_goal_long', 'away_penalty_shootout_goal_long',\n",
       "       'home_penalty_shootout_miss_long', 'away_penalty_shootout_miss_long',\n",
       "       'home_red_card', 'away_red_card', 'home_yellow_red_card',\n",
       "       'away_yellow_red_card', 'home_yellow_card_long',\n",
       "       'away_yellow_card_long', 'home_substitute_in_long',\n",
       "       'away_substitute_in_long'],\n",
       "      dtype='object')"
      ]
     },
     "execution_count": 8,
     "metadata": {},
     "output_type": "execute_result"
    }
   ],
   "source": [
    "matches.columns"
   ]
  },
  {
   "cell_type": "markdown",
   "metadata": {},
   "source": [
    "EDA"
   ]
  },
  {
   "cell_type": "markdown",
   "metadata": {},
   "source": []
  },
  {
   "cell_type": "code",
   "execution_count": 9,
   "metadata": {},
   "outputs": [
    {
     "name": "stdout",
     "output_type": "stream",
     "text": [
      "The shape of fifa_ranking data is  (211, 7)\n",
      "The shape of matches data is  (964, 44)\n",
      "The shape of world_cup data is  (22, 9)\n"
     ]
    }
   ],
   "source": [
    "print(\"The shape of fifa_ranking data is \",fifa_ranking.shape)\n",
    "print(\"The shape of matches data is \",matches.shape)\n",
    "print(\"The shape of world_cup data is \",world_cup.shape)"
   ]
  },
  {
   "cell_type": "code",
   "execution_count": 10,
   "metadata": {},
   "outputs": [
    {
     "name": "stdout",
     "output_type": "stream",
     "text": [
      "Checking null values in fifa_ranking dataset \n"
     ]
    },
    {
     "data": {
      "text/plain": [
       "team               0\n",
       "team_code          0\n",
       "association        0\n",
       "rank               0\n",
       "previous_rank      0\n",
       "points             0\n",
       "previous_points    0\n",
       "dtype: int64"
      ]
     },
     "execution_count": 10,
     "metadata": {},
     "output_type": "execute_result"
    }
   ],
   "source": [
    "# checking null values\n",
    "print(\"Checking null values in fifa_ranking dataset \")\n",
    "fifa_ranking.isnull().sum()\n",
    "\n"
   ]
  },
  {
   "cell_type": "code",
   "execution_count": 11,
   "metadata": {},
   "outputs": [
    {
     "name": "stdout",
     "output_type": "stream",
     "text": [
      "Checking null values in world_cup dataset \n"
     ]
    },
    {
     "data": {
      "text/plain": [
       "Year             0\n",
       "Host             0\n",
       "Teams            0\n",
       "Champion         0\n",
       "Runner-Up        0\n",
       "TopScorrer       0\n",
       "Attendance       0\n",
       "AttendanceAvg    0\n",
       "Matches          0\n",
       "dtype: int64"
      ]
     },
     "execution_count": 11,
     "metadata": {},
     "output_type": "execute_result"
    }
   ],
   "source": [
    "print(\"Checking null values in world_cup dataset \")\n",
    "world_cup.isnull().sum()"
   ]
  },
  {
   "cell_type": "code",
   "execution_count": 12,
   "metadata": {},
   "outputs": [
    {
     "name": "stdout",
     "output_type": "stream",
     "text": [
      "Checking null values in matches dataset \n"
     ]
    },
    {
     "data": {
      "text/plain": [
       "home_xg                            86.721992\n",
       "home_penalty                       96.369295\n",
       "away_xg                            86.721992\n",
       "away_penalty                       96.369295\n",
       "Notes                              92.427386\n",
       "home_own_goal                      95.954357\n",
       "away_own_goal                      98.236515\n",
       "home_penalty_goal                  87.966805\n",
       "away_penalty_goal                  91.286307\n",
       "home_penalty_miss_long             99.377593\n",
       "away_penalty_miss_long             99.066390\n",
       "home_penalty_shootout_goal_long    96.473029\n",
       "away_penalty_shootout_goal_long    96.473029\n",
       "home_penalty_shootout_miss_long    97.510373\n",
       "away_penalty_shootout_miss_long    96.887967\n",
       "home_red_card                      94.709544\n",
       "away_red_card                      94.398340\n",
       "home_yellow_red_card               97.614108\n",
       "away_yellow_red_card               96.784232\n",
       "dtype: float64"
      ]
     },
     "execution_count": 12,
     "metadata": {},
     "output_type": "execute_result"
    }
   ],
   "source": [
    "print(\"Checking null values in matches dataset \")\n",
    "null_values=(matches.isnull().sum()/len(matches))*100\n",
    "null_values[null_values>50.0000]\n"
   ]
  },
  {
   "cell_type": "code",
   "execution_count": 13,
   "metadata": {},
   "outputs": [
    {
     "name": "stdout",
     "output_type": "stream",
     "text": [
      "Duplicates value of fifa_ranking datasets is  0\n",
      "Duplicates value of matches datasets is  0\n",
      "Duplicates value of world_cup datasets is  0\n"
     ]
    }
   ],
   "source": [
    "# Checking duplicates\n",
    "print(\"Duplicates value of fifa_ranking datasets is \",fifa_ranking.duplicated().sum())\n",
    "print(\"Duplicates value of matches datasets is \",matches.duplicated().sum())\n",
    "print(\"Duplicates value of world_cup datasets is \",world_cup.duplicated().sum())"
   ]
  },
  {
   "cell_type": "code",
   "execution_count": 14,
   "metadata": {},
   "outputs": [
    {
     "data": {
      "text/plain": [
       "array(['Argentina', 'Croatia', 'France', 'Morocco', 'England',\n",
       "       'Netherlands', 'Portugal', 'Japan', 'Brazil', 'Korea Republic',\n",
       "       'Ghana', 'Cameroon', 'Serbia', 'Canada', 'Costa Rica', 'Australia',\n",
       "       'Tunisia', 'Saudi Arabia', 'Poland', 'Ecuador', 'IR Iran', 'Wales',\n",
       "       'Belgium', 'Spain', 'Qatar', 'Switzerland', 'Uruguay', 'Germany',\n",
       "       'Denmark', 'Mexico', 'Senegal', 'United States', 'Sweden',\n",
       "       'Russia', 'Colombia', 'Panama', 'Iceland', 'Nigeria', 'Peru',\n",
       "       'Egypt', 'Algeria', 'Bosnia and Herzegovina', 'Honduras', 'Italy',\n",
       "       'Greece', \"Côte d'Ivoire\", 'Chile', 'Paraguay', 'Korea DPR',\n",
       "       'Slovakia', 'Slovenia', 'South Africa', 'New Zealand', 'Ukraine',\n",
       "       'Togo', 'Czech Republic', 'Serbia and Montenegro', 'Angola',\n",
       "       'Trinidad and Tobago', 'Türkiye', 'China PR',\n",
       "       'Republic of Ireland', 'Romania', 'Scotland', 'FR Yugoslavia',\n",
       "       'Jamaica', 'Bulgaria', 'Bolivia', 'Norway', 'West Germany',\n",
       "       'Yugoslavia', 'Czechoslovakia', 'Austria', 'United Arab Emirates',\n",
       "       'Soviet Union', 'Northern Ireland', 'Iraq', 'Hungary',\n",
       "       'Germany DR', 'Zaire', 'Haiti', 'Cuba'], dtype=object)"
      ]
     },
     "execution_count": 14,
     "metadata": {},
     "output_type": "execute_result"
    }
   ],
   "source": [
    "matches['home_team'].unique()"
   ]
  },
  {
   "cell_type": "code",
   "execution_count": 15,
   "metadata": {},
   "outputs": [
    {
     "data": {
      "text/plain": [
       "(3, 44)"
      ]
     },
     "execution_count": 15,
     "metadata": {},
     "output_type": "execute_result"
    }
   ],
   "source": [
    "matches[matches['home_team']=='Germany DR'].shape"
   ]
  },
  {
   "cell_type": "code",
   "execution_count": 16,
   "metadata": {},
   "outputs": [
    {
     "data": {
      "text/plain": [
       "(3, 44)"
      ]
     },
     "execution_count": 16,
     "metadata": {},
     "output_type": "execute_result"
    }
   ],
   "source": [
    "matches[matches['away_team']=='Germany DR'].shape"
   ]
  },
  {
   "cell_type": "code",
   "execution_count": 17,
   "metadata": {},
   "outputs": [
    {
     "data": {
      "text/plain": [
       "(38, 44)"
      ]
     },
     "execution_count": 17,
     "metadata": {},
     "output_type": "execute_result"
    }
   ],
   "source": [
    "matches[matches['home_team']=='West Germany'].shape"
   ]
  },
  {
   "cell_type": "code",
   "execution_count": 18,
   "metadata": {},
   "outputs": [
    {
     "data": {
      "text/plain": [
       "(18, 44)"
      ]
     },
     "execution_count": 18,
     "metadata": {},
     "output_type": "execute_result"
    }
   ],
   "source": [
    "matches[matches['away_team']=='West Germany'].shape"
   ]
  },
  {
   "cell_type": "code",
   "execution_count": 19,
   "metadata": {},
   "outputs": [
    {
     "data": {
      "text/plain": [
       "82"
      ]
     },
     "execution_count": 19,
     "metadata": {},
     "output_type": "execute_result"
    }
   ],
   "source": [
    "np.count_nonzero(matches['home_team'].unique())"
   ]
  },
  {
   "cell_type": "code",
   "execution_count": 20,
   "metadata": {},
   "outputs": [],
   "source": [
    "# Replacing  the Germany DR with West Germany as  both are same \n",
    "matches['home_team'] = matches['home_team'].apply(lambda x:x.replace('Germany DR','West Germany'))\n",
    "matches['away_team'] = matches['away_team'].apply(lambda x:x.replace('Germany DR','West Germany'))"
   ]
  },
  {
   "cell_type": "code",
   "execution_count": 21,
   "metadata": {},
   "outputs": [
    {
     "data": {
      "text/plain": [
       "81"
      ]
     },
     "execution_count": 21,
     "metadata": {},
     "output_type": "execute_result"
    }
   ],
   "source": [
    "np.count_nonzero(matches['home_team'].unique())"
   ]
  },
  {
   "cell_type": "code",
   "execution_count": 22,
   "metadata": {},
   "outputs": [
    {
     "data": {
      "text/html": [
       "<div>\n",
       "<style scoped>\n",
       "    .dataframe tbody tr th:only-of-type {\n",
       "        vertical-align: middle;\n",
       "    }\n",
       "\n",
       "    .dataframe tbody tr th {\n",
       "        vertical-align: top;\n",
       "    }\n",
       "\n",
       "    .dataframe thead th {\n",
       "        text-align: right;\n",
       "    }\n",
       "</style>\n",
       "<table border=\"1\" class=\"dataframe\">\n",
       "  <thead>\n",
       "    <tr style=\"text-align: right;\">\n",
       "      <th></th>\n",
       "      <th>home_team</th>\n",
       "      <th>away_team</th>\n",
       "      <th>home_score</th>\n",
       "      <th>home_xg</th>\n",
       "      <th>home_penalty</th>\n",
       "      <th>away_score</th>\n",
       "      <th>away_xg</th>\n",
       "      <th>away_penalty</th>\n",
       "      <th>home_manager</th>\n",
       "      <th>home_captain</th>\n",
       "      <th>...</th>\n",
       "      <th>home_penalty_shootout_miss_long</th>\n",
       "      <th>away_penalty_shootout_miss_long</th>\n",
       "      <th>home_red_card</th>\n",
       "      <th>away_red_card</th>\n",
       "      <th>home_yellow_red_card</th>\n",
       "      <th>away_yellow_red_card</th>\n",
       "      <th>home_yellow_card_long</th>\n",
       "      <th>away_yellow_card_long</th>\n",
       "      <th>home_substitute_in_long</th>\n",
       "      <th>away_substitute_in_long</th>\n",
       "    </tr>\n",
       "  </thead>\n",
       "  <tbody>\n",
       "    <tr>\n",
       "      <th>0</th>\n",
       "      <td>Argentina</td>\n",
       "      <td>France</td>\n",
       "      <td>3</td>\n",
       "      <td>3.3</td>\n",
       "      <td>4.0</td>\n",
       "      <td>3</td>\n",
       "      <td>2.2</td>\n",
       "      <td>2.0</td>\n",
       "      <td>Lionel Scaloni</td>\n",
       "      <td>Lionel Messi</td>\n",
       "      <td>...</td>\n",
       "      <td>NaN</td>\n",
       "      <td>['3|1:1|Kingsley Coman', '5|2:1|Aurélien Tchou...</td>\n",
       "      <td>NaN</td>\n",
       "      <td>NaN</td>\n",
       "      <td>NaN</td>\n",
       "      <td>NaN</td>\n",
       "      <td>['45+7&amp;rsquor;|2:0|Enzo Fernández', '90+8&amp;rsqu...</td>\n",
       "      <td>['55&amp;rsquor;|2:0|Adrien Rabiot', '87&amp;rsquor;|2...</td>\n",
       "      <td>['64&amp;rsquor;|2:0|Marcos Acuña|for Ángel Di Mar...</td>\n",
       "      <td>['41&amp;rsquor;|2:0|Randal Kolo Muani|for Ousmane...</td>\n",
       "    </tr>\n",
       "    <tr>\n",
       "      <th>1</th>\n",
       "      <td>Croatia</td>\n",
       "      <td>Morocco</td>\n",
       "      <td>2</td>\n",
       "      <td>0.7</td>\n",
       "      <td>NaN</td>\n",
       "      <td>1</td>\n",
       "      <td>1.2</td>\n",
       "      <td>NaN</td>\n",
       "      <td>Zlatko Dalić</td>\n",
       "      <td>Luka Modrić</td>\n",
       "      <td>...</td>\n",
       "      <td>NaN</td>\n",
       "      <td>NaN</td>\n",
       "      <td>NaN</td>\n",
       "      <td>NaN</td>\n",
       "      <td>NaN</td>\n",
       "      <td>NaN</td>\n",
       "      <td>NaN</td>\n",
       "      <td>['69&amp;rsquor;|2:1|Azzedine Ounahi', '84&amp;rsquor;...</td>\n",
       "      <td>['61&amp;rsquor;|2:1|Nikola Vlašić|for Andrej Kram...</td>\n",
       "      <td>['46&amp;rsquor;|2:1|Ilias Chair|for Abdelhamid Sa...</td>\n",
       "    </tr>\n",
       "    <tr>\n",
       "      <th>2</th>\n",
       "      <td>France</td>\n",
       "      <td>Morocco</td>\n",
       "      <td>2</td>\n",
       "      <td>2.0</td>\n",
       "      <td>NaN</td>\n",
       "      <td>0</td>\n",
       "      <td>0.9</td>\n",
       "      <td>NaN</td>\n",
       "      <td>Didier Deschamps</td>\n",
       "      <td>Hugo Lloris</td>\n",
       "      <td>...</td>\n",
       "      <td>NaN</td>\n",
       "      <td>NaN</td>\n",
       "      <td>NaN</td>\n",
       "      <td>NaN</td>\n",
       "      <td>NaN</td>\n",
       "      <td>NaN</td>\n",
       "      <td>NaN</td>\n",
       "      <td>['27&amp;rsquor;|1:0|Sofiane Boufal']</td>\n",
       "      <td>['65&amp;rsquor;|1:0|Marcus Thuram|for Olivier Gir...</td>\n",
       "      <td>['21&amp;rsquor;|1:0|Selim Amallah|for Romain Saïs...</td>\n",
       "    </tr>\n",
       "    <tr>\n",
       "      <th>3</th>\n",
       "      <td>Argentina</td>\n",
       "      <td>Croatia</td>\n",
       "      <td>3</td>\n",
       "      <td>2.3</td>\n",
       "      <td>NaN</td>\n",
       "      <td>0</td>\n",
       "      <td>0.5</td>\n",
       "      <td>NaN</td>\n",
       "      <td>Lionel Scaloni</td>\n",
       "      <td>Lionel Messi</td>\n",
       "      <td>...</td>\n",
       "      <td>NaN</td>\n",
       "      <td>NaN</td>\n",
       "      <td>NaN</td>\n",
       "      <td>NaN</td>\n",
       "      <td>NaN</td>\n",
       "      <td>NaN</td>\n",
       "      <td>['68&amp;rsquor;|2:0|Cristian Romero', '71&amp;rsquor;...</td>\n",
       "      <td>['32&amp;rsquor;|0:0|Mateo Kovačić', '32&amp;rsquor;|0...</td>\n",
       "      <td>['62&amp;rsquor;|2:0|Lisandro Martínez|for Leandro...</td>\n",
       "      <td>['46&amp;rsquor;|2:0|Mislav Oršić|for Borna Sosa',...</td>\n",
       "    </tr>\n",
       "    <tr>\n",
       "      <th>4</th>\n",
       "      <td>Morocco</td>\n",
       "      <td>Portugal</td>\n",
       "      <td>1</td>\n",
       "      <td>1.4</td>\n",
       "      <td>NaN</td>\n",
       "      <td>0</td>\n",
       "      <td>0.9</td>\n",
       "      <td>NaN</td>\n",
       "      <td>Hoalid Regragui</td>\n",
       "      <td>Romain Saïss</td>\n",
       "      <td>...</td>\n",
       "      <td>NaN</td>\n",
       "      <td>NaN</td>\n",
       "      <td>NaN</td>\n",
       "      <td>NaN</td>\n",
       "      <td>Walid Cheddira · 90+3</td>\n",
       "      <td>NaN</td>\n",
       "      <td>['70&amp;rsquor;|1:0|Achraf Dari', '90+1&amp;rsquor;|1...</td>\n",
       "      <td>['87&amp;rsquor;|1:0|Vitinha']</td>\n",
       "      <td>['57&amp;rsquor;|1:0|Achraf Dari|for Romain Saïss'...</td>\n",
       "      <td>['51&amp;rsquor;|1:0|João Cancelo|for Raphaël Guer...</td>\n",
       "    </tr>\n",
       "  </tbody>\n",
       "</table>\n",
       "<p>5 rows × 44 columns</p>\n",
       "</div>"
      ],
      "text/plain": [
       "   home_team away_team  home_score  home_xg  home_penalty  away_score  \\\n",
       "0  Argentina    France           3      3.3           4.0           3   \n",
       "1    Croatia   Morocco           2      0.7           NaN           1   \n",
       "2     France   Morocco           2      2.0           NaN           0   \n",
       "3  Argentina   Croatia           3      2.3           NaN           0   \n",
       "4    Morocco  Portugal           1      1.4           NaN           0   \n",
       "\n",
       "   away_xg  away_penalty      home_manager  home_captain  ...  \\\n",
       "0      2.2           2.0    Lionel Scaloni  Lionel Messi  ...   \n",
       "1      1.2           NaN      Zlatko Dalić   Luka Modrić  ...   \n",
       "2      0.9           NaN  Didier Deschamps   Hugo Lloris  ...   \n",
       "3      0.5           NaN    Lionel Scaloni  Lionel Messi  ...   \n",
       "4      0.9           NaN   Hoalid Regragui  Romain Saïss  ...   \n",
       "\n",
       "  home_penalty_shootout_miss_long  \\\n",
       "0                             NaN   \n",
       "1                             NaN   \n",
       "2                             NaN   \n",
       "3                             NaN   \n",
       "4                             NaN   \n",
       "\n",
       "                     away_penalty_shootout_miss_long  home_red_card  \\\n",
       "0  ['3|1:1|Kingsley Coman', '5|2:1|Aurélien Tchou...            NaN   \n",
       "1                                                NaN            NaN   \n",
       "2                                                NaN            NaN   \n",
       "3                                                NaN            NaN   \n",
       "4                                                NaN            NaN   \n",
       "\n",
       "  away_red_card   home_yellow_red_card away_yellow_red_card  \\\n",
       "0           NaN                    NaN                  NaN   \n",
       "1           NaN                    NaN                  NaN   \n",
       "2           NaN                    NaN                  NaN   \n",
       "3           NaN                    NaN                  NaN   \n",
       "4           NaN  Walid Cheddira · 90+3                  NaN   \n",
       "\n",
       "                               home_yellow_card_long  \\\n",
       "0  ['45+7&rsquor;|2:0|Enzo Fernández', '90+8&rsqu...   \n",
       "1                                                NaN   \n",
       "2                                                NaN   \n",
       "3  ['68&rsquor;|2:0|Cristian Romero', '71&rsquor;...   \n",
       "4  ['70&rsquor;|1:0|Achraf Dari', '90+1&rsquor;|1...   \n",
       "\n",
       "                               away_yellow_card_long  \\\n",
       "0  ['55&rsquor;|2:0|Adrien Rabiot', '87&rsquor;|2...   \n",
       "1  ['69&rsquor;|2:1|Azzedine Ounahi', '84&rsquor;...   \n",
       "2                  ['27&rsquor;|1:0|Sofiane Boufal']   \n",
       "3  ['32&rsquor;|0:0|Mateo Kovačić', '32&rsquor;|0...   \n",
       "4                         ['87&rsquor;|1:0|Vitinha']   \n",
       "\n",
       "                             home_substitute_in_long  \\\n",
       "0  ['64&rsquor;|2:0|Marcos Acuña|for Ángel Di Mar...   \n",
       "1  ['61&rsquor;|2:1|Nikola Vlašić|for Andrej Kram...   \n",
       "2  ['65&rsquor;|1:0|Marcus Thuram|for Olivier Gir...   \n",
       "3  ['62&rsquor;|2:0|Lisandro Martínez|for Leandro...   \n",
       "4  ['57&rsquor;|1:0|Achraf Dari|for Romain Saïss'...   \n",
       "\n",
       "                             away_substitute_in_long  \n",
       "0  ['41&rsquor;|2:0|Randal Kolo Muani|for Ousmane...  \n",
       "1  ['46&rsquor;|2:1|Ilias Chair|for Abdelhamid Sa...  \n",
       "2  ['21&rsquor;|1:0|Selim Amallah|for Romain Saïs...  \n",
       "3  ['46&rsquor;|2:0|Mislav Oršić|for Borna Sosa',...  \n",
       "4  ['51&rsquor;|1:0|João Cancelo|for Raphaël Guer...  \n",
       "\n",
       "[5 rows x 44 columns]"
      ]
     },
     "execution_count": 22,
     "metadata": {},
     "output_type": "execute_result"
    }
   ],
   "source": [
    "matches.head()"
   ]
  },
  {
   "cell_type": "code",
   "execution_count": 23,
   "metadata": {},
   "outputs": [
    {
     "name": "stdout",
     "output_type": "stream",
     "text": [
      "964\n",
      "2720\n",
      "2.821576763485477\n",
      "44048413\n",
      "45693.3744813278\n"
     ]
    }
   ],
   "source": [
    "# Total number of matches played till 2022\n",
    "print(len(matches))\n",
    "# Total goals scored(exclude penalty goals)\n",
    "print(matches['home_score'].sum() + matches['away_score'].sum())\n",
    "# Average goals scored per match \n",
    "print(matches['home_score'].mean() + matches['away_score'].mean())\n",
    "# Total attendance over time\n",
    "print(matches['Attendance'].sum())\n",
    "# Average attendence over time \n",
    "print(matches['Attendance'].mean())"
   ]
  },
  {
   "cell_type": "code",
   "execution_count": 24,
   "metadata": {},
   "outputs": [],
   "source": [
    "# Times when a country is winner,First Runner up or second runner up\n",
    "winner=world_cup[['Champion']].value_counts().reset_index().rename(columns={'count':'Number of times winner'})"
   ]
  },
  {
   "cell_type": "code",
   "execution_count": 25,
   "metadata": {},
   "outputs": [
    {
     "data": {
      "text/plain": [
       "'temp-plot.html'"
      ]
     },
     "execution_count": 25,
     "metadata": {},
     "output_type": "execute_result"
    }
   ],
   "source": [
    "trace = go.Scatter(x=winner['Champion'],y=winner['Number of times winner'],mode='lines+markers')\n",
    "data =[trace]\n",
    "layout = go.Layout(title='Fifa World Cup Winners')\n",
    "fig = go.Figure(data=data,layout = layout)\n",
    "pyo.plot(fig)"
   ]
  },
  {
   "cell_type": "code",
   "execution_count": 26,
   "metadata": {},
   "outputs": [
    {
     "data": {
      "application/vnd.plotly.v1+json": {
       "config": {
        "plotlyServerURL": "https://plot.ly"
       },
       "data": [
        {
         "domain": {
          "x": [
           0,
           1
          ],
          "y": [
           0,
           1
          ]
         },
         "hovertemplate": "Champion=%{label}<br>Number of times winner=%{value}<extra></extra>",
         "labels": [
          "Brazil",
          "Italy",
          "Argentina",
          "France",
          "Germany",
          "Uruguay",
          "West Germany",
          "England",
          "Spain"
         ],
         "legendgroup": "",
         "name": "",
         "showlegend": true,
         "textinfo": "label+value",
         "type": "pie",
         "values": [
          5,
          4,
          3,
          2,
          2,
          2,
          2,
          1,
          1
         ]
        }
       ],
       "layout": {
        "legend": {
         "tracegroupgap": 0
        },
        "template": {
         "data": {
          "bar": [
           {
            "error_x": {
             "color": "#2a3f5f"
            },
            "error_y": {
             "color": "#2a3f5f"
            },
            "marker": {
             "line": {
              "color": "#E5ECF6",
              "width": 0.5
             },
             "pattern": {
              "fillmode": "overlay",
              "size": 10,
              "solidity": 0.2
             }
            },
            "type": "bar"
           }
          ],
          "barpolar": [
           {
            "marker": {
             "line": {
              "color": "#E5ECF6",
              "width": 0.5
             },
             "pattern": {
              "fillmode": "overlay",
              "size": 10,
              "solidity": 0.2
             }
            },
            "type": "barpolar"
           }
          ],
          "carpet": [
           {
            "aaxis": {
             "endlinecolor": "#2a3f5f",
             "gridcolor": "white",
             "linecolor": "white",
             "minorgridcolor": "white",
             "startlinecolor": "#2a3f5f"
            },
            "baxis": {
             "endlinecolor": "#2a3f5f",
             "gridcolor": "white",
             "linecolor": "white",
             "minorgridcolor": "white",
             "startlinecolor": "#2a3f5f"
            },
            "type": "carpet"
           }
          ],
          "choropleth": [
           {
            "colorbar": {
             "outlinewidth": 0,
             "ticks": ""
            },
            "type": "choropleth"
           }
          ],
          "contour": [
           {
            "colorbar": {
             "outlinewidth": 0,
             "ticks": ""
            },
            "colorscale": [
             [
              0,
              "#0d0887"
             ],
             [
              0.1111111111111111,
              "#46039f"
             ],
             [
              0.2222222222222222,
              "#7201a8"
             ],
             [
              0.3333333333333333,
              "#9c179e"
             ],
             [
              0.4444444444444444,
              "#bd3786"
             ],
             [
              0.5555555555555556,
              "#d8576b"
             ],
             [
              0.6666666666666666,
              "#ed7953"
             ],
             [
              0.7777777777777778,
              "#fb9f3a"
             ],
             [
              0.8888888888888888,
              "#fdca26"
             ],
             [
              1,
              "#f0f921"
             ]
            ],
            "type": "contour"
           }
          ],
          "contourcarpet": [
           {
            "colorbar": {
             "outlinewidth": 0,
             "ticks": ""
            },
            "type": "contourcarpet"
           }
          ],
          "heatmap": [
           {
            "colorbar": {
             "outlinewidth": 0,
             "ticks": ""
            },
            "colorscale": [
             [
              0,
              "#0d0887"
             ],
             [
              0.1111111111111111,
              "#46039f"
             ],
             [
              0.2222222222222222,
              "#7201a8"
             ],
             [
              0.3333333333333333,
              "#9c179e"
             ],
             [
              0.4444444444444444,
              "#bd3786"
             ],
             [
              0.5555555555555556,
              "#d8576b"
             ],
             [
              0.6666666666666666,
              "#ed7953"
             ],
             [
              0.7777777777777778,
              "#fb9f3a"
             ],
             [
              0.8888888888888888,
              "#fdca26"
             ],
             [
              1,
              "#f0f921"
             ]
            ],
            "type": "heatmap"
           }
          ],
          "heatmapgl": [
           {
            "colorbar": {
             "outlinewidth": 0,
             "ticks": ""
            },
            "colorscale": [
             [
              0,
              "#0d0887"
             ],
             [
              0.1111111111111111,
              "#46039f"
             ],
             [
              0.2222222222222222,
              "#7201a8"
             ],
             [
              0.3333333333333333,
              "#9c179e"
             ],
             [
              0.4444444444444444,
              "#bd3786"
             ],
             [
              0.5555555555555556,
              "#d8576b"
             ],
             [
              0.6666666666666666,
              "#ed7953"
             ],
             [
              0.7777777777777778,
              "#fb9f3a"
             ],
             [
              0.8888888888888888,
              "#fdca26"
             ],
             [
              1,
              "#f0f921"
             ]
            ],
            "type": "heatmapgl"
           }
          ],
          "histogram": [
           {
            "marker": {
             "pattern": {
              "fillmode": "overlay",
              "size": 10,
              "solidity": 0.2
             }
            },
            "type": "histogram"
           }
          ],
          "histogram2d": [
           {
            "colorbar": {
             "outlinewidth": 0,
             "ticks": ""
            },
            "colorscale": [
             [
              0,
              "#0d0887"
             ],
             [
              0.1111111111111111,
              "#46039f"
             ],
             [
              0.2222222222222222,
              "#7201a8"
             ],
             [
              0.3333333333333333,
              "#9c179e"
             ],
             [
              0.4444444444444444,
              "#bd3786"
             ],
             [
              0.5555555555555556,
              "#d8576b"
             ],
             [
              0.6666666666666666,
              "#ed7953"
             ],
             [
              0.7777777777777778,
              "#fb9f3a"
             ],
             [
              0.8888888888888888,
              "#fdca26"
             ],
             [
              1,
              "#f0f921"
             ]
            ],
            "type": "histogram2d"
           }
          ],
          "histogram2dcontour": [
           {
            "colorbar": {
             "outlinewidth": 0,
             "ticks": ""
            },
            "colorscale": [
             [
              0,
              "#0d0887"
             ],
             [
              0.1111111111111111,
              "#46039f"
             ],
             [
              0.2222222222222222,
              "#7201a8"
             ],
             [
              0.3333333333333333,
              "#9c179e"
             ],
             [
              0.4444444444444444,
              "#bd3786"
             ],
             [
              0.5555555555555556,
              "#d8576b"
             ],
             [
              0.6666666666666666,
              "#ed7953"
             ],
             [
              0.7777777777777778,
              "#fb9f3a"
             ],
             [
              0.8888888888888888,
              "#fdca26"
             ],
             [
              1,
              "#f0f921"
             ]
            ],
            "type": "histogram2dcontour"
           }
          ],
          "mesh3d": [
           {
            "colorbar": {
             "outlinewidth": 0,
             "ticks": ""
            },
            "type": "mesh3d"
           }
          ],
          "parcoords": [
           {
            "line": {
             "colorbar": {
              "outlinewidth": 0,
              "ticks": ""
             }
            },
            "type": "parcoords"
           }
          ],
          "pie": [
           {
            "automargin": true,
            "type": "pie"
           }
          ],
          "scatter": [
           {
            "fillpattern": {
             "fillmode": "overlay",
             "size": 10,
             "solidity": 0.2
            },
            "type": "scatter"
           }
          ],
          "scatter3d": [
           {
            "line": {
             "colorbar": {
              "outlinewidth": 0,
              "ticks": ""
             }
            },
            "marker": {
             "colorbar": {
              "outlinewidth": 0,
              "ticks": ""
             }
            },
            "type": "scatter3d"
           }
          ],
          "scattercarpet": [
           {
            "marker": {
             "colorbar": {
              "outlinewidth": 0,
              "ticks": ""
             }
            },
            "type": "scattercarpet"
           }
          ],
          "scattergeo": [
           {
            "marker": {
             "colorbar": {
              "outlinewidth": 0,
              "ticks": ""
             }
            },
            "type": "scattergeo"
           }
          ],
          "scattergl": [
           {
            "marker": {
             "colorbar": {
              "outlinewidth": 0,
              "ticks": ""
             }
            },
            "type": "scattergl"
           }
          ],
          "scattermapbox": [
           {
            "marker": {
             "colorbar": {
              "outlinewidth": 0,
              "ticks": ""
             }
            },
            "type": "scattermapbox"
           }
          ],
          "scatterpolar": [
           {
            "marker": {
             "colorbar": {
              "outlinewidth": 0,
              "ticks": ""
             }
            },
            "type": "scatterpolar"
           }
          ],
          "scatterpolargl": [
           {
            "marker": {
             "colorbar": {
              "outlinewidth": 0,
              "ticks": ""
             }
            },
            "type": "scatterpolargl"
           }
          ],
          "scatterternary": [
           {
            "marker": {
             "colorbar": {
              "outlinewidth": 0,
              "ticks": ""
             }
            },
            "type": "scatterternary"
           }
          ],
          "surface": [
           {
            "colorbar": {
             "outlinewidth": 0,
             "ticks": ""
            },
            "colorscale": [
             [
              0,
              "#0d0887"
             ],
             [
              0.1111111111111111,
              "#46039f"
             ],
             [
              0.2222222222222222,
              "#7201a8"
             ],
             [
              0.3333333333333333,
              "#9c179e"
             ],
             [
              0.4444444444444444,
              "#bd3786"
             ],
             [
              0.5555555555555556,
              "#d8576b"
             ],
             [
              0.6666666666666666,
              "#ed7953"
             ],
             [
              0.7777777777777778,
              "#fb9f3a"
             ],
             [
              0.8888888888888888,
              "#fdca26"
             ],
             [
              1,
              "#f0f921"
             ]
            ],
            "type": "surface"
           }
          ],
          "table": [
           {
            "cells": {
             "fill": {
              "color": "#EBF0F8"
             },
             "line": {
              "color": "white"
             }
            },
            "header": {
             "fill": {
              "color": "#C8D4E3"
             },
             "line": {
              "color": "white"
             }
            },
            "type": "table"
           }
          ]
         },
         "layout": {
          "annotationdefaults": {
           "arrowcolor": "#2a3f5f",
           "arrowhead": 0,
           "arrowwidth": 1
          },
          "autotypenumbers": "strict",
          "coloraxis": {
           "colorbar": {
            "outlinewidth": 0,
            "ticks": ""
           }
          },
          "colorscale": {
           "diverging": [
            [
             0,
             "#8e0152"
            ],
            [
             0.1,
             "#c51b7d"
            ],
            [
             0.2,
             "#de77ae"
            ],
            [
             0.3,
             "#f1b6da"
            ],
            [
             0.4,
             "#fde0ef"
            ],
            [
             0.5,
             "#f7f7f7"
            ],
            [
             0.6,
             "#e6f5d0"
            ],
            [
             0.7,
             "#b8e186"
            ],
            [
             0.8,
             "#7fbc41"
            ],
            [
             0.9,
             "#4d9221"
            ],
            [
             1,
             "#276419"
            ]
           ],
           "sequential": [
            [
             0,
             "#0d0887"
            ],
            [
             0.1111111111111111,
             "#46039f"
            ],
            [
             0.2222222222222222,
             "#7201a8"
            ],
            [
             0.3333333333333333,
             "#9c179e"
            ],
            [
             0.4444444444444444,
             "#bd3786"
            ],
            [
             0.5555555555555556,
             "#d8576b"
            ],
            [
             0.6666666666666666,
             "#ed7953"
            ],
            [
             0.7777777777777778,
             "#fb9f3a"
            ],
            [
             0.8888888888888888,
             "#fdca26"
            ],
            [
             1,
             "#f0f921"
            ]
           ],
           "sequentialminus": [
            [
             0,
             "#0d0887"
            ],
            [
             0.1111111111111111,
             "#46039f"
            ],
            [
             0.2222222222222222,
             "#7201a8"
            ],
            [
             0.3333333333333333,
             "#9c179e"
            ],
            [
             0.4444444444444444,
             "#bd3786"
            ],
            [
             0.5555555555555556,
             "#d8576b"
            ],
            [
             0.6666666666666666,
             "#ed7953"
            ],
            [
             0.7777777777777778,
             "#fb9f3a"
            ],
            [
             0.8888888888888888,
             "#fdca26"
            ],
            [
             1,
             "#f0f921"
            ]
           ]
          },
          "colorway": [
           "#636efa",
           "#EF553B",
           "#00cc96",
           "#ab63fa",
           "#FFA15A",
           "#19d3f3",
           "#FF6692",
           "#B6E880",
           "#FF97FF",
           "#FECB52"
          ],
          "font": {
           "color": "#2a3f5f"
          },
          "geo": {
           "bgcolor": "white",
           "lakecolor": "white",
           "landcolor": "#E5ECF6",
           "showlakes": true,
           "showland": true,
           "subunitcolor": "white"
          },
          "hoverlabel": {
           "align": "left"
          },
          "hovermode": "closest",
          "mapbox": {
           "style": "light"
          },
          "paper_bgcolor": "white",
          "plot_bgcolor": "#E5ECF6",
          "polar": {
           "angularaxis": {
            "gridcolor": "white",
            "linecolor": "white",
            "ticks": ""
           },
           "bgcolor": "#E5ECF6",
           "radialaxis": {
            "gridcolor": "white",
            "linecolor": "white",
            "ticks": ""
           }
          },
          "scene": {
           "xaxis": {
            "backgroundcolor": "#E5ECF6",
            "gridcolor": "white",
            "gridwidth": 2,
            "linecolor": "white",
            "showbackground": true,
            "ticks": "",
            "zerolinecolor": "white"
           },
           "yaxis": {
            "backgroundcolor": "#E5ECF6",
            "gridcolor": "white",
            "gridwidth": 2,
            "linecolor": "white",
            "showbackground": true,
            "ticks": "",
            "zerolinecolor": "white"
           },
           "zaxis": {
            "backgroundcolor": "#E5ECF6",
            "gridcolor": "white",
            "gridwidth": 2,
            "linecolor": "white",
            "showbackground": true,
            "ticks": "",
            "zerolinecolor": "white"
           }
          },
          "shapedefaults": {
           "line": {
            "color": "#2a3f5f"
           }
          },
          "ternary": {
           "aaxis": {
            "gridcolor": "white",
            "linecolor": "white",
            "ticks": ""
           },
           "baxis": {
            "gridcolor": "white",
            "linecolor": "white",
            "ticks": ""
           },
           "bgcolor": "#E5ECF6",
           "caxis": {
            "gridcolor": "white",
            "linecolor": "white",
            "ticks": ""
           }
          },
          "title": {
           "x": 0.05
          },
          "xaxis": {
           "automargin": true,
           "gridcolor": "white",
           "linecolor": "white",
           "ticks": "",
           "title": {
            "standoff": 15
           },
           "zerolinecolor": "white",
           "zerolinewidth": 2
          },
          "yaxis": {
           "automargin": true,
           "gridcolor": "white",
           "linecolor": "white",
           "ticks": "",
           "title": {
            "standoff": 15
           },
           "zerolinecolor": "white",
           "zerolinewidth": 2
          }
         }
        },
        "title": {
         "text": "Fifa winners"
        }
       }
      }
     },
     "metadata": {},
     "output_type": "display_data"
    }
   ],
   "source": [
    "import plotly.express as px\n",
    "fig=px.pie(winner,names='Champion',values='Number of times winner',title='Fifa winners')\n",
    "fig.update_traces(textinfo='label+value')\n",
    "fig.show()"
   ]
  },
  {
   "cell_type": "code",
   "execution_count": 27,
   "metadata": {},
   "outputs": [
    {
     "data": {
      "text/html": [
       "<div>\n",
       "<style scoped>\n",
       "    .dataframe tbody tr th:only-of-type {\n",
       "        vertical-align: middle;\n",
       "    }\n",
       "\n",
       "    .dataframe tbody tr th {\n",
       "        vertical-align: top;\n",
       "    }\n",
       "\n",
       "    .dataframe thead th {\n",
       "        text-align: right;\n",
       "    }\n",
       "</style>\n",
       "<table border=\"1\" class=\"dataframe\">\n",
       "  <thead>\n",
       "    <tr style=\"text-align: right;\">\n",
       "      <th></th>\n",
       "      <th>Year</th>\n",
       "      <th>Host</th>\n",
       "      <th>Teams</th>\n",
       "      <th>Champion</th>\n",
       "      <th>Runner-Up</th>\n",
       "      <th>TopScorrer</th>\n",
       "      <th>Attendance</th>\n",
       "      <th>AttendanceAvg</th>\n",
       "      <th>Matches</th>\n",
       "    </tr>\n",
       "  </thead>\n",
       "  <tbody>\n",
       "    <tr>\n",
       "      <th>0</th>\n",
       "      <td>2022</td>\n",
       "      <td>Qatar</td>\n",
       "      <td>32</td>\n",
       "      <td>Argentina</td>\n",
       "      <td>France</td>\n",
       "      <td>Kylian Mbappé - 8</td>\n",
       "      <td>3404252</td>\n",
       "      <td>53191</td>\n",
       "      <td>64</td>\n",
       "    </tr>\n",
       "  </tbody>\n",
       "</table>\n",
       "</div>"
      ],
      "text/plain": [
       "   Year   Host  Teams   Champion Runner-Up         TopScorrer  Attendance  \\\n",
       "0  2022  Qatar     32  Argentina    France  Kylian Mbappé - 8     3404252   \n",
       "\n",
       "   AttendanceAvg  Matches  \n",
       "0          53191       64  "
      ]
     },
     "execution_count": 27,
     "metadata": {},
     "output_type": "execute_result"
    }
   ],
   "source": [
    "world_cup.head(1)"
   ]
  },
  {
   "cell_type": "code",
   "execution_count": 28,
   "metadata": {},
   "outputs": [],
   "source": [
    "runner_up=world_cup['Runner-Up'].value_counts().reset_index().rename(columns={'count':'Number of times runner_up'})\n"
   ]
  },
  {
   "cell_type": "code",
   "execution_count": 29,
   "metadata": {},
   "outputs": [
    {
     "data": {
      "text/plain": [
       "Index(['home_team', 'away_team', 'home_score', 'home_xg', 'home_penalty',\n",
       "       'away_score', 'away_xg', 'away_penalty', 'home_manager', 'home_captain',\n",
       "       'away_manager', 'away_captain', 'Attendance', 'Venue', 'Officials',\n",
       "       'Round', 'Date', 'Score', 'Referee', 'Notes', 'Host', 'Year',\n",
       "       'home_goal', 'away_goal', 'home_goal_long', 'away_goal_long',\n",
       "       'home_own_goal', 'away_own_goal', 'home_penalty_goal',\n",
       "       'away_penalty_goal', 'home_penalty_miss_long', 'away_penalty_miss_long',\n",
       "       'home_penalty_shootout_goal_long', 'away_penalty_shootout_goal_long',\n",
       "       'home_penalty_shootout_miss_long', 'away_penalty_shootout_miss_long',\n",
       "       'home_red_card', 'away_red_card', 'home_yellow_red_card',\n",
       "       'away_yellow_red_card', 'home_yellow_card_long',\n",
       "       'away_yellow_card_long', 'home_substitute_in_long',\n",
       "       'away_substitute_in_long'],\n",
       "      dtype='object')"
      ]
     },
     "execution_count": 29,
     "metadata": {},
     "output_type": "execute_result"
    }
   ],
   "source": [
    "matches.columns"
   ]
  },
  {
   "cell_type": "code",
   "execution_count": 30,
   "metadata": {},
   "outputs": [
    {
     "data": {
      "text/plain": [
       "array(['Final', 'Third-place match', 'Semi-finals', 'Quarter-finals',\n",
       "       'Round of 16', 'Group stage', 'Second group stage',\n",
       "       'First group stage', 'Second round', 'First round',\n",
       "       'Group stage play-off', 'Final stage'], dtype=object)"
      ]
     },
     "execution_count": 30,
     "metadata": {},
     "output_type": "execute_result"
    }
   ],
   "source": [
    "matches['Round'].unique()"
   ]
  },
  {
   "cell_type": "code",
   "execution_count": 31,
   "metadata": {},
   "outputs": [
    {
     "data": {
      "text/html": [
       "<div>\n",
       "<style scoped>\n",
       "    .dataframe tbody tr th:only-of-type {\n",
       "        vertical-align: middle;\n",
       "    }\n",
       "\n",
       "    .dataframe tbody tr th {\n",
       "        vertical-align: top;\n",
       "    }\n",
       "\n",
       "    .dataframe thead th {\n",
       "        text-align: right;\n",
       "    }\n",
       "</style>\n",
       "<table border=\"1\" class=\"dataframe\">\n",
       "  <thead>\n",
       "    <tr style=\"text-align: right;\">\n",
       "      <th></th>\n",
       "      <th>home_team</th>\n",
       "      <th>away_team</th>\n",
       "      <th>home_score</th>\n",
       "      <th>home_xg</th>\n",
       "      <th>home_penalty</th>\n",
       "      <th>away_score</th>\n",
       "      <th>away_xg</th>\n",
       "      <th>away_penalty</th>\n",
       "      <th>home_manager</th>\n",
       "      <th>home_captain</th>\n",
       "      <th>...</th>\n",
       "      <th>home_penalty_shootout_miss_long</th>\n",
       "      <th>away_penalty_shootout_miss_long</th>\n",
       "      <th>home_red_card</th>\n",
       "      <th>away_red_card</th>\n",
       "      <th>home_yellow_red_card</th>\n",
       "      <th>away_yellow_red_card</th>\n",
       "      <th>home_yellow_card_long</th>\n",
       "      <th>away_yellow_card_long</th>\n",
       "      <th>home_substitute_in_long</th>\n",
       "      <th>away_substitute_in_long</th>\n",
       "    </tr>\n",
       "  </thead>\n",
       "  <tbody>\n",
       "    <tr>\n",
       "      <th>0</th>\n",
       "      <td>Argentina</td>\n",
       "      <td>France</td>\n",
       "      <td>3</td>\n",
       "      <td>3.3</td>\n",
       "      <td>4.0</td>\n",
       "      <td>3</td>\n",
       "      <td>2.2</td>\n",
       "      <td>2.0</td>\n",
       "      <td>Lionel Scaloni</td>\n",
       "      <td>Lionel Messi</td>\n",
       "      <td>...</td>\n",
       "      <td>NaN</td>\n",
       "      <td>['3|1:1|Kingsley Coman', '5|2:1|Aurélien Tchou...</td>\n",
       "      <td>NaN</td>\n",
       "      <td>NaN</td>\n",
       "      <td>NaN</td>\n",
       "      <td>NaN</td>\n",
       "      <td>['45+7&amp;rsquor;|2:0|Enzo Fernández', '90+8&amp;rsqu...</td>\n",
       "      <td>['55&amp;rsquor;|2:0|Adrien Rabiot', '87&amp;rsquor;|2...</td>\n",
       "      <td>['64&amp;rsquor;|2:0|Marcos Acuña|for Ángel Di Mar...</td>\n",
       "      <td>['41&amp;rsquor;|2:0|Randal Kolo Muani|for Ousmane...</td>\n",
       "    </tr>\n",
       "    <tr>\n",
       "      <th>1</th>\n",
       "      <td>Croatia</td>\n",
       "      <td>Morocco</td>\n",
       "      <td>2</td>\n",
       "      <td>0.7</td>\n",
       "      <td>NaN</td>\n",
       "      <td>1</td>\n",
       "      <td>1.2</td>\n",
       "      <td>NaN</td>\n",
       "      <td>Zlatko Dalić</td>\n",
       "      <td>Luka Modrić</td>\n",
       "      <td>...</td>\n",
       "      <td>NaN</td>\n",
       "      <td>NaN</td>\n",
       "      <td>NaN</td>\n",
       "      <td>NaN</td>\n",
       "      <td>NaN</td>\n",
       "      <td>NaN</td>\n",
       "      <td>NaN</td>\n",
       "      <td>['69&amp;rsquor;|2:1|Azzedine Ounahi', '84&amp;rsquor;...</td>\n",
       "      <td>['61&amp;rsquor;|2:1|Nikola Vlašić|for Andrej Kram...</td>\n",
       "      <td>['46&amp;rsquor;|2:1|Ilias Chair|for Abdelhamid Sa...</td>\n",
       "    </tr>\n",
       "    <tr>\n",
       "      <th>2</th>\n",
       "      <td>France</td>\n",
       "      <td>Morocco</td>\n",
       "      <td>2</td>\n",
       "      <td>2.0</td>\n",
       "      <td>NaN</td>\n",
       "      <td>0</td>\n",
       "      <td>0.9</td>\n",
       "      <td>NaN</td>\n",
       "      <td>Didier Deschamps</td>\n",
       "      <td>Hugo Lloris</td>\n",
       "      <td>...</td>\n",
       "      <td>NaN</td>\n",
       "      <td>NaN</td>\n",
       "      <td>NaN</td>\n",
       "      <td>NaN</td>\n",
       "      <td>NaN</td>\n",
       "      <td>NaN</td>\n",
       "      <td>NaN</td>\n",
       "      <td>['27&amp;rsquor;|1:0|Sofiane Boufal']</td>\n",
       "      <td>['65&amp;rsquor;|1:0|Marcus Thuram|for Olivier Gir...</td>\n",
       "      <td>['21&amp;rsquor;|1:0|Selim Amallah|for Romain Saïs...</td>\n",
       "    </tr>\n",
       "  </tbody>\n",
       "</table>\n",
       "<p>3 rows × 44 columns</p>\n",
       "</div>"
      ],
      "text/plain": [
       "   home_team away_team  home_score  home_xg  home_penalty  away_score  \\\n",
       "0  Argentina    France           3      3.3           4.0           3   \n",
       "1    Croatia   Morocco           2      0.7           NaN           1   \n",
       "2     France   Morocco           2      2.0           NaN           0   \n",
       "\n",
       "   away_xg  away_penalty      home_manager  home_captain  ...  \\\n",
       "0      2.2           2.0    Lionel Scaloni  Lionel Messi  ...   \n",
       "1      1.2           NaN      Zlatko Dalić   Luka Modrić  ...   \n",
       "2      0.9           NaN  Didier Deschamps   Hugo Lloris  ...   \n",
       "\n",
       "  home_penalty_shootout_miss_long  \\\n",
       "0                             NaN   \n",
       "1                             NaN   \n",
       "2                             NaN   \n",
       "\n",
       "                     away_penalty_shootout_miss_long  home_red_card  \\\n",
       "0  ['3|1:1|Kingsley Coman', '5|2:1|Aurélien Tchou...            NaN   \n",
       "1                                                NaN            NaN   \n",
       "2                                                NaN            NaN   \n",
       "\n",
       "  away_red_card home_yellow_red_card away_yellow_red_card  \\\n",
       "0           NaN                  NaN                  NaN   \n",
       "1           NaN                  NaN                  NaN   \n",
       "2           NaN                  NaN                  NaN   \n",
       "\n",
       "                               home_yellow_card_long  \\\n",
       "0  ['45+7&rsquor;|2:0|Enzo Fernández', '90+8&rsqu...   \n",
       "1                                                NaN   \n",
       "2                                                NaN   \n",
       "\n",
       "                               away_yellow_card_long  \\\n",
       "0  ['55&rsquor;|2:0|Adrien Rabiot', '87&rsquor;|2...   \n",
       "1  ['69&rsquor;|2:1|Azzedine Ounahi', '84&rsquor;...   \n",
       "2                  ['27&rsquor;|1:0|Sofiane Boufal']   \n",
       "\n",
       "                             home_substitute_in_long  \\\n",
       "0  ['64&rsquor;|2:0|Marcos Acuña|for Ángel Di Mar...   \n",
       "1  ['61&rsquor;|2:1|Nikola Vlašić|for Andrej Kram...   \n",
       "2  ['65&rsquor;|1:0|Marcus Thuram|for Olivier Gir...   \n",
       "\n",
       "                             away_substitute_in_long  \n",
       "0  ['41&rsquor;|2:0|Randal Kolo Muani|for Ousmane...  \n",
       "1  ['46&rsquor;|2:1|Ilias Chair|for Abdelhamid Sa...  \n",
       "2  ['21&rsquor;|1:0|Selim Amallah|for Romain Saïs...  \n",
       "\n",
       "[3 rows x 44 columns]"
      ]
     },
     "execution_count": 31,
     "metadata": {},
     "output_type": "execute_result"
    }
   ],
   "source": [
    "matches.head(3)"
   ]
  },
  {
   "cell_type": "code",
   "execution_count": 32,
   "metadata": {},
   "outputs": [],
   "source": [
    "matches['away_penalty'].fillna(0,inplace=True)\n",
    "matches['home_penalty'].fillna(0,inplace=True)"
   ]
  },
  {
   "cell_type": "code",
   "execution_count": 33,
   "metadata": {},
   "outputs": [
    {
     "data": {
      "text/html": [
       "<div>\n",
       "<style scoped>\n",
       "    .dataframe tbody tr th:only-of-type {\n",
       "        vertical-align: middle;\n",
       "    }\n",
       "\n",
       "    .dataframe tbody tr th {\n",
       "        vertical-align: top;\n",
       "    }\n",
       "\n",
       "    .dataframe thead th {\n",
       "        text-align: right;\n",
       "    }\n",
       "</style>\n",
       "<table border=\"1\" class=\"dataframe\">\n",
       "  <thead>\n",
       "    <tr style=\"text-align: right;\">\n",
       "      <th></th>\n",
       "      <th>home_team</th>\n",
       "      <th>away_team</th>\n",
       "      <th>home_score</th>\n",
       "      <th>home_xg</th>\n",
       "      <th>home_penalty</th>\n",
       "      <th>away_score</th>\n",
       "      <th>away_xg</th>\n",
       "      <th>away_penalty</th>\n",
       "      <th>home_manager</th>\n",
       "      <th>home_captain</th>\n",
       "      <th>...</th>\n",
       "      <th>home_penalty_shootout_miss_long</th>\n",
       "      <th>away_penalty_shootout_miss_long</th>\n",
       "      <th>home_red_card</th>\n",
       "      <th>away_red_card</th>\n",
       "      <th>home_yellow_red_card</th>\n",
       "      <th>away_yellow_red_card</th>\n",
       "      <th>home_yellow_card_long</th>\n",
       "      <th>away_yellow_card_long</th>\n",
       "      <th>home_substitute_in_long</th>\n",
       "      <th>away_substitute_in_long</th>\n",
       "    </tr>\n",
       "  </thead>\n",
       "  <tbody>\n",
       "    <tr>\n",
       "      <th>0</th>\n",
       "      <td>Argentina</td>\n",
       "      <td>France</td>\n",
       "      <td>3</td>\n",
       "      <td>3.3</td>\n",
       "      <td>4.0</td>\n",
       "      <td>3</td>\n",
       "      <td>2.2</td>\n",
       "      <td>2.0</td>\n",
       "      <td>Lionel Scaloni</td>\n",
       "      <td>Lionel Messi</td>\n",
       "      <td>...</td>\n",
       "      <td>NaN</td>\n",
       "      <td>['3|1:1|Kingsley Coman', '5|2:1|Aurélien Tchou...</td>\n",
       "      <td>NaN</td>\n",
       "      <td>NaN</td>\n",
       "      <td>NaN</td>\n",
       "      <td>NaN</td>\n",
       "      <td>['45+7&amp;rsquor;|2:0|Enzo Fernández', '90+8&amp;rsqu...</td>\n",
       "      <td>['55&amp;rsquor;|2:0|Adrien Rabiot', '87&amp;rsquor;|2...</td>\n",
       "      <td>['64&amp;rsquor;|2:0|Marcos Acuña|for Ángel Di Mar...</td>\n",
       "      <td>['41&amp;rsquor;|2:0|Randal Kolo Muani|for Ousmane...</td>\n",
       "    </tr>\n",
       "    <tr>\n",
       "      <th>1</th>\n",
       "      <td>Croatia</td>\n",
       "      <td>Morocco</td>\n",
       "      <td>2</td>\n",
       "      <td>0.7</td>\n",
       "      <td>0.0</td>\n",
       "      <td>1</td>\n",
       "      <td>1.2</td>\n",
       "      <td>0.0</td>\n",
       "      <td>Zlatko Dalić</td>\n",
       "      <td>Luka Modrić</td>\n",
       "      <td>...</td>\n",
       "      <td>NaN</td>\n",
       "      <td>NaN</td>\n",
       "      <td>NaN</td>\n",
       "      <td>NaN</td>\n",
       "      <td>NaN</td>\n",
       "      <td>NaN</td>\n",
       "      <td>NaN</td>\n",
       "      <td>['69&amp;rsquor;|2:1|Azzedine Ounahi', '84&amp;rsquor;...</td>\n",
       "      <td>['61&amp;rsquor;|2:1|Nikola Vlašić|for Andrej Kram...</td>\n",
       "      <td>['46&amp;rsquor;|2:1|Ilias Chair|for Abdelhamid Sa...</td>\n",
       "    </tr>\n",
       "    <tr>\n",
       "      <th>2</th>\n",
       "      <td>France</td>\n",
       "      <td>Morocco</td>\n",
       "      <td>2</td>\n",
       "      <td>2.0</td>\n",
       "      <td>0.0</td>\n",
       "      <td>0</td>\n",
       "      <td>0.9</td>\n",
       "      <td>0.0</td>\n",
       "      <td>Didier Deschamps</td>\n",
       "      <td>Hugo Lloris</td>\n",
       "      <td>...</td>\n",
       "      <td>NaN</td>\n",
       "      <td>NaN</td>\n",
       "      <td>NaN</td>\n",
       "      <td>NaN</td>\n",
       "      <td>NaN</td>\n",
       "      <td>NaN</td>\n",
       "      <td>NaN</td>\n",
       "      <td>['27&amp;rsquor;|1:0|Sofiane Boufal']</td>\n",
       "      <td>['65&amp;rsquor;|1:0|Marcus Thuram|for Olivier Gir...</td>\n",
       "      <td>['21&amp;rsquor;|1:0|Selim Amallah|for Romain Saïs...</td>\n",
       "    </tr>\n",
       "  </tbody>\n",
       "</table>\n",
       "<p>3 rows × 44 columns</p>\n",
       "</div>"
      ],
      "text/plain": [
       "   home_team away_team  home_score  home_xg  home_penalty  away_score  \\\n",
       "0  Argentina    France           3      3.3           4.0           3   \n",
       "1    Croatia   Morocco           2      0.7           0.0           1   \n",
       "2     France   Morocco           2      2.0           0.0           0   \n",
       "\n",
       "   away_xg  away_penalty      home_manager  home_captain  ...  \\\n",
       "0      2.2           2.0    Lionel Scaloni  Lionel Messi  ...   \n",
       "1      1.2           0.0      Zlatko Dalić   Luka Modrić  ...   \n",
       "2      0.9           0.0  Didier Deschamps   Hugo Lloris  ...   \n",
       "\n",
       "  home_penalty_shootout_miss_long  \\\n",
       "0                             NaN   \n",
       "1                             NaN   \n",
       "2                             NaN   \n",
       "\n",
       "                     away_penalty_shootout_miss_long  home_red_card  \\\n",
       "0  ['3|1:1|Kingsley Coman', '5|2:1|Aurélien Tchou...            NaN   \n",
       "1                                                NaN            NaN   \n",
       "2                                                NaN            NaN   \n",
       "\n",
       "  away_red_card home_yellow_red_card away_yellow_red_card  \\\n",
       "0           NaN                  NaN                  NaN   \n",
       "1           NaN                  NaN                  NaN   \n",
       "2           NaN                  NaN                  NaN   \n",
       "\n",
       "                               home_yellow_card_long  \\\n",
       "0  ['45+7&rsquor;|2:0|Enzo Fernández', '90+8&rsqu...   \n",
       "1                                                NaN   \n",
       "2                                                NaN   \n",
       "\n",
       "                               away_yellow_card_long  \\\n",
       "0  ['55&rsquor;|2:0|Adrien Rabiot', '87&rsquor;|2...   \n",
       "1  ['69&rsquor;|2:1|Azzedine Ounahi', '84&rsquor;...   \n",
       "2                  ['27&rsquor;|1:0|Sofiane Boufal']   \n",
       "\n",
       "                             home_substitute_in_long  \\\n",
       "0  ['64&rsquor;|2:0|Marcos Acuña|for Ángel Di Mar...   \n",
       "1  ['61&rsquor;|2:1|Nikola Vlašić|for Andrej Kram...   \n",
       "2  ['65&rsquor;|1:0|Marcus Thuram|for Olivier Gir...   \n",
       "\n",
       "                             away_substitute_in_long  \n",
       "0  ['41&rsquor;|2:0|Randal Kolo Muani|for Ousmane...  \n",
       "1  ['46&rsquor;|2:1|Ilias Chair|for Abdelhamid Sa...  \n",
       "2  ['21&rsquor;|1:0|Selim Amallah|for Romain Saïs...  \n",
       "\n",
       "[3 rows x 44 columns]"
      ]
     },
     "execution_count": 33,
     "metadata": {},
     "output_type": "execute_result"
    }
   ],
   "source": [
    "matches.head(3)"
   ]
  },
  {
   "cell_type": "code",
   "execution_count": 34,
   "metadata": {},
   "outputs": [],
   "source": [
    "matches['h_total'] = matches['home_score'] + matches['home_penalty']\n",
    "matches['a_total'] = matches['away_score'] + matches['away_penalty']"
   ]
  },
  {
   "cell_type": "code",
   "execution_count": 35,
   "metadata": {},
   "outputs": [
    {
     "data": {
      "text/html": [
       "<div>\n",
       "<style scoped>\n",
       "    .dataframe tbody tr th:only-of-type {\n",
       "        vertical-align: middle;\n",
       "    }\n",
       "\n",
       "    .dataframe tbody tr th {\n",
       "        vertical-align: top;\n",
       "    }\n",
       "\n",
       "    .dataframe thead th {\n",
       "        text-align: right;\n",
       "    }\n",
       "</style>\n",
       "<table border=\"1\" class=\"dataframe\">\n",
       "  <thead>\n",
       "    <tr style=\"text-align: right;\">\n",
       "      <th></th>\n",
       "      <th>home_team</th>\n",
       "      <th>away_team</th>\n",
       "      <th>h_total</th>\n",
       "      <th>a_total</th>\n",
       "    </tr>\n",
       "  </thead>\n",
       "  <tbody>\n",
       "    <tr>\n",
       "      <th>1</th>\n",
       "      <td>Croatia</td>\n",
       "      <td>Morocco</td>\n",
       "      <td>2.0</td>\n",
       "      <td>1.0</td>\n",
       "    </tr>\n",
       "    <tr>\n",
       "      <th>65</th>\n",
       "      <td>Belgium</td>\n",
       "      <td>England</td>\n",
       "      <td>2.0</td>\n",
       "      <td>0.0</td>\n",
       "    </tr>\n",
       "    <tr>\n",
       "      <th>129</th>\n",
       "      <td>Brazil</td>\n",
       "      <td>Netherlands</td>\n",
       "      <td>0.0</td>\n",
       "      <td>3.0</td>\n",
       "    </tr>\n",
       "    <tr>\n",
       "      <th>193</th>\n",
       "      <td>Uruguay</td>\n",
       "      <td>Germany</td>\n",
       "      <td>2.0</td>\n",
       "      <td>3.0</td>\n",
       "    </tr>\n",
       "    <tr>\n",
       "      <th>257</th>\n",
       "      <td>Germany</td>\n",
       "      <td>Portugal</td>\n",
       "      <td>3.0</td>\n",
       "      <td>1.0</td>\n",
       "    </tr>\n",
       "    <tr>\n",
       "      <th>321</th>\n",
       "      <td>Korea Republic</td>\n",
       "      <td>Türkiye</td>\n",
       "      <td>2.0</td>\n",
       "      <td>3.0</td>\n",
       "    </tr>\n",
       "    <tr>\n",
       "      <th>385</th>\n",
       "      <td>Netherlands</td>\n",
       "      <td>Croatia</td>\n",
       "      <td>1.0</td>\n",
       "      <td>2.0</td>\n",
       "    </tr>\n",
       "    <tr>\n",
       "      <th>449</th>\n",
       "      <td>Sweden</td>\n",
       "      <td>Bulgaria</td>\n",
       "      <td>4.0</td>\n",
       "      <td>0.0</td>\n",
       "    </tr>\n",
       "    <tr>\n",
       "      <th>501</th>\n",
       "      <td>Italy</td>\n",
       "      <td>England</td>\n",
       "      <td>2.0</td>\n",
       "      <td>1.0</td>\n",
       "    </tr>\n",
       "    <tr>\n",
       "      <th>553</th>\n",
       "      <td>France</td>\n",
       "      <td>Belgium</td>\n",
       "      <td>4.0</td>\n",
       "      <td>2.0</td>\n",
       "    </tr>\n",
       "    <tr>\n",
       "      <th>605</th>\n",
       "      <td>Poland</td>\n",
       "      <td>France</td>\n",
       "      <td>3.0</td>\n",
       "      <td>2.0</td>\n",
       "    </tr>\n",
       "    <tr>\n",
       "      <th>657</th>\n",
       "      <td>Brazil</td>\n",
       "      <td>Italy</td>\n",
       "      <td>2.0</td>\n",
       "      <td>1.0</td>\n",
       "    </tr>\n",
       "    <tr>\n",
       "      <th>695</th>\n",
       "      <td>Brazil</td>\n",
       "      <td>Poland</td>\n",
       "      <td>0.0</td>\n",
       "      <td>1.0</td>\n",
       "    </tr>\n",
       "    <tr>\n",
       "      <th>733</th>\n",
       "      <td>West Germany</td>\n",
       "      <td>Uruguay</td>\n",
       "      <td>1.0</td>\n",
       "      <td>0.0</td>\n",
       "    </tr>\n",
       "    <tr>\n",
       "      <th>765</th>\n",
       "      <td>Portugal</td>\n",
       "      <td>Soviet Union</td>\n",
       "      <td>2.0</td>\n",
       "      <td>1.0</td>\n",
       "    </tr>\n",
       "    <tr>\n",
       "      <th>797</th>\n",
       "      <td>Chile</td>\n",
       "      <td>Yugoslavia</td>\n",
       "      <td>1.0</td>\n",
       "      <td>0.0</td>\n",
       "    </tr>\n",
       "    <tr>\n",
       "      <th>829</th>\n",
       "      <td>France</td>\n",
       "      <td>West Germany</td>\n",
       "      <td>6.0</td>\n",
       "      <td>3.0</td>\n",
       "    </tr>\n",
       "    <tr>\n",
       "      <th>864</th>\n",
       "      <td>Austria</td>\n",
       "      <td>Uruguay</td>\n",
       "      <td>3.0</td>\n",
       "      <td>1.0</td>\n",
       "    </tr>\n",
       "    <tr>\n",
       "      <th>911</th>\n",
       "      <td>Brazil</td>\n",
       "      <td>Sweden</td>\n",
       "      <td>4.0</td>\n",
       "      <td>2.0</td>\n",
       "    </tr>\n",
       "    <tr>\n",
       "      <th>930</th>\n",
       "      <td>Germany</td>\n",
       "      <td>Austria</td>\n",
       "      <td>3.0</td>\n",
       "      <td>2.0</td>\n",
       "    </tr>\n",
       "  </tbody>\n",
       "</table>\n",
       "</div>"
      ],
      "text/plain": [
       "          home_team     away_team  h_total  a_total\n",
       "1           Croatia       Morocco      2.0      1.0\n",
       "65          Belgium       England      2.0      0.0\n",
       "129          Brazil   Netherlands      0.0      3.0\n",
       "193         Uruguay       Germany      2.0      3.0\n",
       "257         Germany      Portugal      3.0      1.0\n",
       "321  Korea Republic       Türkiye      2.0      3.0\n",
       "385     Netherlands       Croatia      1.0      2.0\n",
       "449          Sweden      Bulgaria      4.0      0.0\n",
       "501           Italy       England      2.0      1.0\n",
       "553          France       Belgium      4.0      2.0\n",
       "605          Poland        France      3.0      2.0\n",
       "657          Brazil         Italy      2.0      1.0\n",
       "695          Brazil        Poland      0.0      1.0\n",
       "733    West Germany       Uruguay      1.0      0.0\n",
       "765        Portugal  Soviet Union      2.0      1.0\n",
       "797           Chile    Yugoslavia      1.0      0.0\n",
       "829          France  West Germany      6.0      3.0\n",
       "864         Austria       Uruguay      3.0      1.0\n",
       "911          Brazil        Sweden      4.0      2.0\n",
       "930         Germany       Austria      3.0      2.0"
      ]
     },
     "execution_count": 35,
     "metadata": {},
     "output_type": "execute_result"
    }
   ],
   "source": [
    "second_runner_df=matches[matches['Round']=='Third-place match'][['home_team','away_team','h_total','a_total']]\n",
    "second_runner_df"
   ]
  },
  {
   "cell_type": "code",
   "execution_count": 36,
   "metadata": {},
   "outputs": [],
   "source": [
    "def team(row):\n",
    "    if(row['h_total']>row['a_total']):\n",
    "        return row['home_team']\n",
    "    else:\n",
    "        return row['away_team']\n",
    "    "
   ]
  },
  {
   "cell_type": "code",
   "execution_count": 37,
   "metadata": {},
   "outputs": [
    {
     "data": {
      "text/html": [
       "<div>\n",
       "<style scoped>\n",
       "    .dataframe tbody tr th:only-of-type {\n",
       "        vertical-align: middle;\n",
       "    }\n",
       "\n",
       "    .dataframe tbody tr th {\n",
       "        vertical-align: top;\n",
       "    }\n",
       "\n",
       "    .dataframe thead th {\n",
       "        text-align: right;\n",
       "    }\n",
       "</style>\n",
       "<table border=\"1\" class=\"dataframe\">\n",
       "  <thead>\n",
       "    <tr style=\"text-align: right;\">\n",
       "      <th></th>\n",
       "      <th>home_team</th>\n",
       "      <th>away_team</th>\n",
       "      <th>h_total</th>\n",
       "      <th>a_total</th>\n",
       "      <th>winner</th>\n",
       "    </tr>\n",
       "  </thead>\n",
       "  <tbody>\n",
       "    <tr>\n",
       "      <th>1</th>\n",
       "      <td>Croatia</td>\n",
       "      <td>Morocco</td>\n",
       "      <td>2.0</td>\n",
       "      <td>1.0</td>\n",
       "      <td>Croatia</td>\n",
       "    </tr>\n",
       "    <tr>\n",
       "      <th>65</th>\n",
       "      <td>Belgium</td>\n",
       "      <td>England</td>\n",
       "      <td>2.0</td>\n",
       "      <td>0.0</td>\n",
       "      <td>Belgium</td>\n",
       "    </tr>\n",
       "    <tr>\n",
       "      <th>129</th>\n",
       "      <td>Brazil</td>\n",
       "      <td>Netherlands</td>\n",
       "      <td>0.0</td>\n",
       "      <td>3.0</td>\n",
       "      <td>Netherlands</td>\n",
       "    </tr>\n",
       "    <tr>\n",
       "      <th>193</th>\n",
       "      <td>Uruguay</td>\n",
       "      <td>Germany</td>\n",
       "      <td>2.0</td>\n",
       "      <td>3.0</td>\n",
       "      <td>Germany</td>\n",
       "    </tr>\n",
       "    <tr>\n",
       "      <th>257</th>\n",
       "      <td>Germany</td>\n",
       "      <td>Portugal</td>\n",
       "      <td>3.0</td>\n",
       "      <td>1.0</td>\n",
       "      <td>Germany</td>\n",
       "    </tr>\n",
       "    <tr>\n",
       "      <th>321</th>\n",
       "      <td>Korea Republic</td>\n",
       "      <td>Türkiye</td>\n",
       "      <td>2.0</td>\n",
       "      <td>3.0</td>\n",
       "      <td>Türkiye</td>\n",
       "    </tr>\n",
       "    <tr>\n",
       "      <th>385</th>\n",
       "      <td>Netherlands</td>\n",
       "      <td>Croatia</td>\n",
       "      <td>1.0</td>\n",
       "      <td>2.0</td>\n",
       "      <td>Croatia</td>\n",
       "    </tr>\n",
       "    <tr>\n",
       "      <th>449</th>\n",
       "      <td>Sweden</td>\n",
       "      <td>Bulgaria</td>\n",
       "      <td>4.0</td>\n",
       "      <td>0.0</td>\n",
       "      <td>Sweden</td>\n",
       "    </tr>\n",
       "    <tr>\n",
       "      <th>501</th>\n",
       "      <td>Italy</td>\n",
       "      <td>England</td>\n",
       "      <td>2.0</td>\n",
       "      <td>1.0</td>\n",
       "      <td>Italy</td>\n",
       "    </tr>\n",
       "    <tr>\n",
       "      <th>553</th>\n",
       "      <td>France</td>\n",
       "      <td>Belgium</td>\n",
       "      <td>4.0</td>\n",
       "      <td>2.0</td>\n",
       "      <td>France</td>\n",
       "    </tr>\n",
       "    <tr>\n",
       "      <th>605</th>\n",
       "      <td>Poland</td>\n",
       "      <td>France</td>\n",
       "      <td>3.0</td>\n",
       "      <td>2.0</td>\n",
       "      <td>Poland</td>\n",
       "    </tr>\n",
       "    <tr>\n",
       "      <th>657</th>\n",
       "      <td>Brazil</td>\n",
       "      <td>Italy</td>\n",
       "      <td>2.0</td>\n",
       "      <td>1.0</td>\n",
       "      <td>Brazil</td>\n",
       "    </tr>\n",
       "    <tr>\n",
       "      <th>695</th>\n",
       "      <td>Brazil</td>\n",
       "      <td>Poland</td>\n",
       "      <td>0.0</td>\n",
       "      <td>1.0</td>\n",
       "      <td>Poland</td>\n",
       "    </tr>\n",
       "    <tr>\n",
       "      <th>733</th>\n",
       "      <td>West Germany</td>\n",
       "      <td>Uruguay</td>\n",
       "      <td>1.0</td>\n",
       "      <td>0.0</td>\n",
       "      <td>West Germany</td>\n",
       "    </tr>\n",
       "    <tr>\n",
       "      <th>765</th>\n",
       "      <td>Portugal</td>\n",
       "      <td>Soviet Union</td>\n",
       "      <td>2.0</td>\n",
       "      <td>1.0</td>\n",
       "      <td>Portugal</td>\n",
       "    </tr>\n",
       "    <tr>\n",
       "      <th>797</th>\n",
       "      <td>Chile</td>\n",
       "      <td>Yugoslavia</td>\n",
       "      <td>1.0</td>\n",
       "      <td>0.0</td>\n",
       "      <td>Chile</td>\n",
       "    </tr>\n",
       "    <tr>\n",
       "      <th>829</th>\n",
       "      <td>France</td>\n",
       "      <td>West Germany</td>\n",
       "      <td>6.0</td>\n",
       "      <td>3.0</td>\n",
       "      <td>France</td>\n",
       "    </tr>\n",
       "    <tr>\n",
       "      <th>864</th>\n",
       "      <td>Austria</td>\n",
       "      <td>Uruguay</td>\n",
       "      <td>3.0</td>\n",
       "      <td>1.0</td>\n",
       "      <td>Austria</td>\n",
       "    </tr>\n",
       "    <tr>\n",
       "      <th>911</th>\n",
       "      <td>Brazil</td>\n",
       "      <td>Sweden</td>\n",
       "      <td>4.0</td>\n",
       "      <td>2.0</td>\n",
       "      <td>Brazil</td>\n",
       "    </tr>\n",
       "    <tr>\n",
       "      <th>930</th>\n",
       "      <td>Germany</td>\n",
       "      <td>Austria</td>\n",
       "      <td>3.0</td>\n",
       "      <td>2.0</td>\n",
       "      <td>Germany</td>\n",
       "    </tr>\n",
       "  </tbody>\n",
       "</table>\n",
       "</div>"
      ],
      "text/plain": [
       "          home_team     away_team  h_total  a_total        winner\n",
       "1           Croatia       Morocco      2.0      1.0       Croatia\n",
       "65          Belgium       England      2.0      0.0       Belgium\n",
       "129          Brazil   Netherlands      0.0      3.0   Netherlands\n",
       "193         Uruguay       Germany      2.0      3.0       Germany\n",
       "257         Germany      Portugal      3.0      1.0       Germany\n",
       "321  Korea Republic       Türkiye      2.0      3.0       Türkiye\n",
       "385     Netherlands       Croatia      1.0      2.0       Croatia\n",
       "449          Sweden      Bulgaria      4.0      0.0        Sweden\n",
       "501           Italy       England      2.0      1.0         Italy\n",
       "553          France       Belgium      4.0      2.0        France\n",
       "605          Poland        France      3.0      2.0        Poland\n",
       "657          Brazil         Italy      2.0      1.0        Brazil\n",
       "695          Brazil        Poland      0.0      1.0        Poland\n",
       "733    West Germany       Uruguay      1.0      0.0  West Germany\n",
       "765        Portugal  Soviet Union      2.0      1.0      Portugal\n",
       "797           Chile    Yugoslavia      1.0      0.0         Chile\n",
       "829          France  West Germany      6.0      3.0        France\n",
       "864         Austria       Uruguay      3.0      1.0       Austria\n",
       "911          Brazil        Sweden      4.0      2.0        Brazil\n",
       "930         Germany       Austria      3.0      2.0       Germany"
      ]
     },
     "execution_count": 37,
     "metadata": {},
     "output_type": "execute_result"
    }
   ],
   "source": [
    "second_runner_df['winner'] = second_runner_df.apply(team,axis=1)\n",
    "second_runner_df"
   ]
  },
  {
   "cell_type": "code",
   "execution_count": 38,
   "metadata": {},
   "outputs": [
    {
     "data": {
      "text/html": [
       "<div>\n",
       "<style scoped>\n",
       "    .dataframe tbody tr th:only-of-type {\n",
       "        vertical-align: middle;\n",
       "    }\n",
       "\n",
       "    .dataframe tbody tr th {\n",
       "        vertical-align: top;\n",
       "    }\n",
       "\n",
       "    .dataframe thead th {\n",
       "        text-align: right;\n",
       "    }\n",
       "</style>\n",
       "<table border=\"1\" class=\"dataframe\">\n",
       "  <thead>\n",
       "    <tr style=\"text-align: right;\">\n",
       "      <th></th>\n",
       "      <th>winner</th>\n",
       "      <th>Number of times third</th>\n",
       "    </tr>\n",
       "  </thead>\n",
       "  <tbody>\n",
       "    <tr>\n",
       "      <th>0</th>\n",
       "      <td>Germany</td>\n",
       "      <td>3</td>\n",
       "    </tr>\n",
       "    <tr>\n",
       "      <th>1</th>\n",
       "      <td>Croatia</td>\n",
       "      <td>2</td>\n",
       "    </tr>\n",
       "    <tr>\n",
       "      <th>2</th>\n",
       "      <td>France</td>\n",
       "      <td>2</td>\n",
       "    </tr>\n",
       "    <tr>\n",
       "      <th>3</th>\n",
       "      <td>Poland</td>\n",
       "      <td>2</td>\n",
       "    </tr>\n",
       "    <tr>\n",
       "      <th>4</th>\n",
       "      <td>Brazil</td>\n",
       "      <td>2</td>\n",
       "    </tr>\n",
       "    <tr>\n",
       "      <th>5</th>\n",
       "      <td>Belgium</td>\n",
       "      <td>1</td>\n",
       "    </tr>\n",
       "    <tr>\n",
       "      <th>6</th>\n",
       "      <td>Netherlands</td>\n",
       "      <td>1</td>\n",
       "    </tr>\n",
       "    <tr>\n",
       "      <th>7</th>\n",
       "      <td>Türkiye</td>\n",
       "      <td>1</td>\n",
       "    </tr>\n",
       "    <tr>\n",
       "      <th>8</th>\n",
       "      <td>Sweden</td>\n",
       "      <td>1</td>\n",
       "    </tr>\n",
       "    <tr>\n",
       "      <th>9</th>\n",
       "      <td>Italy</td>\n",
       "      <td>1</td>\n",
       "    </tr>\n",
       "    <tr>\n",
       "      <th>10</th>\n",
       "      <td>West Germany</td>\n",
       "      <td>1</td>\n",
       "    </tr>\n",
       "    <tr>\n",
       "      <th>11</th>\n",
       "      <td>Portugal</td>\n",
       "      <td>1</td>\n",
       "    </tr>\n",
       "    <tr>\n",
       "      <th>12</th>\n",
       "      <td>Chile</td>\n",
       "      <td>1</td>\n",
       "    </tr>\n",
       "    <tr>\n",
       "      <th>13</th>\n",
       "      <td>Austria</td>\n",
       "      <td>1</td>\n",
       "    </tr>\n",
       "  </tbody>\n",
       "</table>\n",
       "</div>"
      ],
      "text/plain": [
       "          winner  Number of times third\n",
       "0        Germany                      3\n",
       "1        Croatia                      2\n",
       "2         France                      2\n",
       "3         Poland                      2\n",
       "4         Brazil                      2\n",
       "5        Belgium                      1\n",
       "6    Netherlands                      1\n",
       "7        Türkiye                      1\n",
       "8         Sweden                      1\n",
       "9          Italy                      1\n",
       "10  West Germany                      1\n",
       "11      Portugal                      1\n",
       "12         Chile                      1\n",
       "13       Austria                      1"
      ]
     },
     "execution_count": 38,
     "metadata": {},
     "output_type": "execute_result"
    }
   ],
   "source": [
    "third_place=second_runner_df['winner'].value_counts().reset_index().rename(columns={'count':'Number of times third'})\n",
    "third_place"
   ]
  },
  {
   "cell_type": "code",
   "execution_count": 39,
   "metadata": {},
   "outputs": [
    {
     "data": {
      "application/vnd.plotly.v1+json": {
       "config": {
        "plotlyServerURL": "https://plot.ly"
       },
       "data": [
        {
         "type": "bar",
         "x": [
          "Germany",
          "Croatia",
          "France",
          "Poland",
          "Brazil",
          "Belgium",
          "Netherlands",
          "Türkiye",
          "Sweden",
          "Italy",
          "West Germany",
          "Portugal",
          "Chile",
          "Austria"
         ],
         "xaxis": "x",
         "y": [
          3,
          2,
          2,
          2,
          2,
          1,
          1,
          1,
          1,
          1,
          1,
          1,
          1,
          1
         ],
         "yaxis": "y"
        },
        {
         "type": "bar",
         "x": [
          "Argentina",
          "Netherlands",
          "West Germany",
          "France",
          "Brazil",
          "Italy",
          "Czechoslovakia",
          "Hungary",
          "Croatia",
          "Germany",
          "Sweden"
         ],
         "xaxis": "x2",
         "y": [
          3,
          3,
          3,
          2,
          2,
          2,
          2,
          2,
          1,
          1,
          1
         ],
         "yaxis": "y2"
        }
       ],
       "layout": {
        "annotations": [
         {
          "font": {
           "size": 16
          },
          "showarrow": false,
          "text": "Second Runner up",
          "x": 0.225,
          "xanchor": "center",
          "xref": "paper",
          "y": 1,
          "yanchor": "bottom",
          "yref": "paper"
         },
         {
          "font": {
           "size": 16
          },
          "showarrow": false,
          "text": "First Runner up",
          "x": 0.775,
          "xanchor": "center",
          "xref": "paper",
          "y": 1,
          "yanchor": "bottom",
          "yref": "paper"
         }
        ],
        "template": {
         "data": {
          "bar": [
           {
            "error_x": {
             "color": "#2a3f5f"
            },
            "error_y": {
             "color": "#2a3f5f"
            },
            "marker": {
             "line": {
              "color": "#E5ECF6",
              "width": 0.5
             },
             "pattern": {
              "fillmode": "overlay",
              "size": 10,
              "solidity": 0.2
             }
            },
            "type": "bar"
           }
          ],
          "barpolar": [
           {
            "marker": {
             "line": {
              "color": "#E5ECF6",
              "width": 0.5
             },
             "pattern": {
              "fillmode": "overlay",
              "size": 10,
              "solidity": 0.2
             }
            },
            "type": "barpolar"
           }
          ],
          "carpet": [
           {
            "aaxis": {
             "endlinecolor": "#2a3f5f",
             "gridcolor": "white",
             "linecolor": "white",
             "minorgridcolor": "white",
             "startlinecolor": "#2a3f5f"
            },
            "baxis": {
             "endlinecolor": "#2a3f5f",
             "gridcolor": "white",
             "linecolor": "white",
             "minorgridcolor": "white",
             "startlinecolor": "#2a3f5f"
            },
            "type": "carpet"
           }
          ],
          "choropleth": [
           {
            "colorbar": {
             "outlinewidth": 0,
             "ticks": ""
            },
            "type": "choropleth"
           }
          ],
          "contour": [
           {
            "colorbar": {
             "outlinewidth": 0,
             "ticks": ""
            },
            "colorscale": [
             [
              0,
              "#0d0887"
             ],
             [
              0.1111111111111111,
              "#46039f"
             ],
             [
              0.2222222222222222,
              "#7201a8"
             ],
             [
              0.3333333333333333,
              "#9c179e"
             ],
             [
              0.4444444444444444,
              "#bd3786"
             ],
             [
              0.5555555555555556,
              "#d8576b"
             ],
             [
              0.6666666666666666,
              "#ed7953"
             ],
             [
              0.7777777777777778,
              "#fb9f3a"
             ],
             [
              0.8888888888888888,
              "#fdca26"
             ],
             [
              1,
              "#f0f921"
             ]
            ],
            "type": "contour"
           }
          ],
          "contourcarpet": [
           {
            "colorbar": {
             "outlinewidth": 0,
             "ticks": ""
            },
            "type": "contourcarpet"
           }
          ],
          "heatmap": [
           {
            "colorbar": {
             "outlinewidth": 0,
             "ticks": ""
            },
            "colorscale": [
             [
              0,
              "#0d0887"
             ],
             [
              0.1111111111111111,
              "#46039f"
             ],
             [
              0.2222222222222222,
              "#7201a8"
             ],
             [
              0.3333333333333333,
              "#9c179e"
             ],
             [
              0.4444444444444444,
              "#bd3786"
             ],
             [
              0.5555555555555556,
              "#d8576b"
             ],
             [
              0.6666666666666666,
              "#ed7953"
             ],
             [
              0.7777777777777778,
              "#fb9f3a"
             ],
             [
              0.8888888888888888,
              "#fdca26"
             ],
             [
              1,
              "#f0f921"
             ]
            ],
            "type": "heatmap"
           }
          ],
          "heatmapgl": [
           {
            "colorbar": {
             "outlinewidth": 0,
             "ticks": ""
            },
            "colorscale": [
             [
              0,
              "#0d0887"
             ],
             [
              0.1111111111111111,
              "#46039f"
             ],
             [
              0.2222222222222222,
              "#7201a8"
             ],
             [
              0.3333333333333333,
              "#9c179e"
             ],
             [
              0.4444444444444444,
              "#bd3786"
             ],
             [
              0.5555555555555556,
              "#d8576b"
             ],
             [
              0.6666666666666666,
              "#ed7953"
             ],
             [
              0.7777777777777778,
              "#fb9f3a"
             ],
             [
              0.8888888888888888,
              "#fdca26"
             ],
             [
              1,
              "#f0f921"
             ]
            ],
            "type": "heatmapgl"
           }
          ],
          "histogram": [
           {
            "marker": {
             "pattern": {
              "fillmode": "overlay",
              "size": 10,
              "solidity": 0.2
             }
            },
            "type": "histogram"
           }
          ],
          "histogram2d": [
           {
            "colorbar": {
             "outlinewidth": 0,
             "ticks": ""
            },
            "colorscale": [
             [
              0,
              "#0d0887"
             ],
             [
              0.1111111111111111,
              "#46039f"
             ],
             [
              0.2222222222222222,
              "#7201a8"
             ],
             [
              0.3333333333333333,
              "#9c179e"
             ],
             [
              0.4444444444444444,
              "#bd3786"
             ],
             [
              0.5555555555555556,
              "#d8576b"
             ],
             [
              0.6666666666666666,
              "#ed7953"
             ],
             [
              0.7777777777777778,
              "#fb9f3a"
             ],
             [
              0.8888888888888888,
              "#fdca26"
             ],
             [
              1,
              "#f0f921"
             ]
            ],
            "type": "histogram2d"
           }
          ],
          "histogram2dcontour": [
           {
            "colorbar": {
             "outlinewidth": 0,
             "ticks": ""
            },
            "colorscale": [
             [
              0,
              "#0d0887"
             ],
             [
              0.1111111111111111,
              "#46039f"
             ],
             [
              0.2222222222222222,
              "#7201a8"
             ],
             [
              0.3333333333333333,
              "#9c179e"
             ],
             [
              0.4444444444444444,
              "#bd3786"
             ],
             [
              0.5555555555555556,
              "#d8576b"
             ],
             [
              0.6666666666666666,
              "#ed7953"
             ],
             [
              0.7777777777777778,
              "#fb9f3a"
             ],
             [
              0.8888888888888888,
              "#fdca26"
             ],
             [
              1,
              "#f0f921"
             ]
            ],
            "type": "histogram2dcontour"
           }
          ],
          "mesh3d": [
           {
            "colorbar": {
             "outlinewidth": 0,
             "ticks": ""
            },
            "type": "mesh3d"
           }
          ],
          "parcoords": [
           {
            "line": {
             "colorbar": {
              "outlinewidth": 0,
              "ticks": ""
             }
            },
            "type": "parcoords"
           }
          ],
          "pie": [
           {
            "automargin": true,
            "type": "pie"
           }
          ],
          "scatter": [
           {
            "fillpattern": {
             "fillmode": "overlay",
             "size": 10,
             "solidity": 0.2
            },
            "type": "scatter"
           }
          ],
          "scatter3d": [
           {
            "line": {
             "colorbar": {
              "outlinewidth": 0,
              "ticks": ""
             }
            },
            "marker": {
             "colorbar": {
              "outlinewidth": 0,
              "ticks": ""
             }
            },
            "type": "scatter3d"
           }
          ],
          "scattercarpet": [
           {
            "marker": {
             "colorbar": {
              "outlinewidth": 0,
              "ticks": ""
             }
            },
            "type": "scattercarpet"
           }
          ],
          "scattergeo": [
           {
            "marker": {
             "colorbar": {
              "outlinewidth": 0,
              "ticks": ""
             }
            },
            "type": "scattergeo"
           }
          ],
          "scattergl": [
           {
            "marker": {
             "colorbar": {
              "outlinewidth": 0,
              "ticks": ""
             }
            },
            "type": "scattergl"
           }
          ],
          "scattermapbox": [
           {
            "marker": {
             "colorbar": {
              "outlinewidth": 0,
              "ticks": ""
             }
            },
            "type": "scattermapbox"
           }
          ],
          "scatterpolar": [
           {
            "marker": {
             "colorbar": {
              "outlinewidth": 0,
              "ticks": ""
             }
            },
            "type": "scatterpolar"
           }
          ],
          "scatterpolargl": [
           {
            "marker": {
             "colorbar": {
              "outlinewidth": 0,
              "ticks": ""
             }
            },
            "type": "scatterpolargl"
           }
          ],
          "scatterternary": [
           {
            "marker": {
             "colorbar": {
              "outlinewidth": 0,
              "ticks": ""
             }
            },
            "type": "scatterternary"
           }
          ],
          "surface": [
           {
            "colorbar": {
             "outlinewidth": 0,
             "ticks": ""
            },
            "colorscale": [
             [
              0,
              "#0d0887"
             ],
             [
              0.1111111111111111,
              "#46039f"
             ],
             [
              0.2222222222222222,
              "#7201a8"
             ],
             [
              0.3333333333333333,
              "#9c179e"
             ],
             [
              0.4444444444444444,
              "#bd3786"
             ],
             [
              0.5555555555555556,
              "#d8576b"
             ],
             [
              0.6666666666666666,
              "#ed7953"
             ],
             [
              0.7777777777777778,
              "#fb9f3a"
             ],
             [
              0.8888888888888888,
              "#fdca26"
             ],
             [
              1,
              "#f0f921"
             ]
            ],
            "type": "surface"
           }
          ],
          "table": [
           {
            "cells": {
             "fill": {
              "color": "#EBF0F8"
             },
             "line": {
              "color": "white"
             }
            },
            "header": {
             "fill": {
              "color": "#C8D4E3"
             },
             "line": {
              "color": "white"
             }
            },
            "type": "table"
           }
          ]
         },
         "layout": {
          "annotationdefaults": {
           "arrowcolor": "#2a3f5f",
           "arrowhead": 0,
           "arrowwidth": 1
          },
          "autotypenumbers": "strict",
          "coloraxis": {
           "colorbar": {
            "outlinewidth": 0,
            "ticks": ""
           }
          },
          "colorscale": {
           "diverging": [
            [
             0,
             "#8e0152"
            ],
            [
             0.1,
             "#c51b7d"
            ],
            [
             0.2,
             "#de77ae"
            ],
            [
             0.3,
             "#f1b6da"
            ],
            [
             0.4,
             "#fde0ef"
            ],
            [
             0.5,
             "#f7f7f7"
            ],
            [
             0.6,
             "#e6f5d0"
            ],
            [
             0.7,
             "#b8e186"
            ],
            [
             0.8,
             "#7fbc41"
            ],
            [
             0.9,
             "#4d9221"
            ],
            [
             1,
             "#276419"
            ]
           ],
           "sequential": [
            [
             0,
             "#0d0887"
            ],
            [
             0.1111111111111111,
             "#46039f"
            ],
            [
             0.2222222222222222,
             "#7201a8"
            ],
            [
             0.3333333333333333,
             "#9c179e"
            ],
            [
             0.4444444444444444,
             "#bd3786"
            ],
            [
             0.5555555555555556,
             "#d8576b"
            ],
            [
             0.6666666666666666,
             "#ed7953"
            ],
            [
             0.7777777777777778,
             "#fb9f3a"
            ],
            [
             0.8888888888888888,
             "#fdca26"
            ],
            [
             1,
             "#f0f921"
            ]
           ],
           "sequentialminus": [
            [
             0,
             "#0d0887"
            ],
            [
             0.1111111111111111,
             "#46039f"
            ],
            [
             0.2222222222222222,
             "#7201a8"
            ],
            [
             0.3333333333333333,
             "#9c179e"
            ],
            [
             0.4444444444444444,
             "#bd3786"
            ],
            [
             0.5555555555555556,
             "#d8576b"
            ],
            [
             0.6666666666666666,
             "#ed7953"
            ],
            [
             0.7777777777777778,
             "#fb9f3a"
            ],
            [
             0.8888888888888888,
             "#fdca26"
            ],
            [
             1,
             "#f0f921"
            ]
           ]
          },
          "colorway": [
           "#636efa",
           "#EF553B",
           "#00cc96",
           "#ab63fa",
           "#FFA15A",
           "#19d3f3",
           "#FF6692",
           "#B6E880",
           "#FF97FF",
           "#FECB52"
          ],
          "font": {
           "color": "#2a3f5f"
          },
          "geo": {
           "bgcolor": "white",
           "lakecolor": "white",
           "landcolor": "#E5ECF6",
           "showlakes": true,
           "showland": true,
           "subunitcolor": "white"
          },
          "hoverlabel": {
           "align": "left"
          },
          "hovermode": "closest",
          "mapbox": {
           "style": "light"
          },
          "paper_bgcolor": "white",
          "plot_bgcolor": "#E5ECF6",
          "polar": {
           "angularaxis": {
            "gridcolor": "white",
            "linecolor": "white",
            "ticks": ""
           },
           "bgcolor": "#E5ECF6",
           "radialaxis": {
            "gridcolor": "white",
            "linecolor": "white",
            "ticks": ""
           }
          },
          "scene": {
           "xaxis": {
            "backgroundcolor": "#E5ECF6",
            "gridcolor": "white",
            "gridwidth": 2,
            "linecolor": "white",
            "showbackground": true,
            "ticks": "",
            "zerolinecolor": "white"
           },
           "yaxis": {
            "backgroundcolor": "#E5ECF6",
            "gridcolor": "white",
            "gridwidth": 2,
            "linecolor": "white",
            "showbackground": true,
            "ticks": "",
            "zerolinecolor": "white"
           },
           "zaxis": {
            "backgroundcolor": "#E5ECF6",
            "gridcolor": "white",
            "gridwidth": 2,
            "linecolor": "white",
            "showbackground": true,
            "ticks": "",
            "zerolinecolor": "white"
           }
          },
          "shapedefaults": {
           "line": {
            "color": "#2a3f5f"
           }
          },
          "ternary": {
           "aaxis": {
            "gridcolor": "white",
            "linecolor": "white",
            "ticks": ""
           },
           "baxis": {
            "gridcolor": "white",
            "linecolor": "white",
            "ticks": ""
           },
           "bgcolor": "#E5ECF6",
           "caxis": {
            "gridcolor": "white",
            "linecolor": "white",
            "ticks": ""
           }
          },
          "title": {
           "x": 0.05
          },
          "xaxis": {
           "automargin": true,
           "gridcolor": "white",
           "linecolor": "white",
           "ticks": "",
           "title": {
            "standoff": 15
           },
           "zerolinecolor": "white",
           "zerolinewidth": 2
          },
          "yaxis": {
           "automargin": true,
           "gridcolor": "white",
           "linecolor": "white",
           "ticks": "",
           "title": {
            "standoff": 15
           },
           "zerolinecolor": "white",
           "zerolinewidth": 2
          }
         }
        },
        "xaxis": {
         "anchor": "y",
         "domain": [
          0,
          0.45
         ]
        },
        "xaxis2": {
         "anchor": "y2",
         "domain": [
          0.55,
          1
         ]
        },
        "yaxis": {
         "anchor": "x",
         "domain": [
          0,
          1
         ]
        },
        "yaxis2": {
         "anchor": "x2",
         "domain": [
          0,
          1
         ]
        }
       }
      }
     },
     "metadata": {},
     "output_type": "display_data"
    }
   ],
   "source": [
    "from plotly.subplots import make_subplots\n",
    "trace1 = go.Bar(x=third_place['winner'],y=third_place['Number of times third'])\n",
    "trace2 = go.Bar(x=runner_up['Runner-Up'],y=runner_up['Number of times runner_up'])\n",
    "fig = make_subplots(rows=1,cols=2,subplot_titles=('Second Runner up','First Runner up'))\n",
    "fig.append_trace(trace1,1,1)\n",
    "fig.append_trace(trace2,1,2)\n",
    "fig.show()"
   ]
  },
  {
   "cell_type": "code",
   "execution_count": 40,
   "metadata": {},
   "outputs": [
    {
     "data": {
      "text/html": [
       "<div>\n",
       "<style scoped>\n",
       "    .dataframe tbody tr th:only-of-type {\n",
       "        vertical-align: middle;\n",
       "    }\n",
       "\n",
       "    .dataframe tbody tr th {\n",
       "        vertical-align: top;\n",
       "    }\n",
       "\n",
       "    .dataframe thead th {\n",
       "        text-align: right;\n",
       "    }\n",
       "</style>\n",
       "<table border=\"1\" class=\"dataframe\">\n",
       "  <thead>\n",
       "    <tr style=\"text-align: right;\">\n",
       "      <th></th>\n",
       "      <th>Runner-Up</th>\n",
       "      <th>Number of times runner_up</th>\n",
       "    </tr>\n",
       "  </thead>\n",
       "  <tbody>\n",
       "    <tr>\n",
       "      <th>0</th>\n",
       "      <td>Argentina</td>\n",
       "      <td>3</td>\n",
       "    </tr>\n",
       "    <tr>\n",
       "      <th>1</th>\n",
       "      <td>Netherlands</td>\n",
       "      <td>3</td>\n",
       "    </tr>\n",
       "    <tr>\n",
       "      <th>2</th>\n",
       "      <td>West Germany</td>\n",
       "      <td>3</td>\n",
       "    </tr>\n",
       "    <tr>\n",
       "      <th>3</th>\n",
       "      <td>France</td>\n",
       "      <td>2</td>\n",
       "    </tr>\n",
       "    <tr>\n",
       "      <th>4</th>\n",
       "      <td>Brazil</td>\n",
       "      <td>2</td>\n",
       "    </tr>\n",
       "    <tr>\n",
       "      <th>5</th>\n",
       "      <td>Italy</td>\n",
       "      <td>2</td>\n",
       "    </tr>\n",
       "    <tr>\n",
       "      <th>6</th>\n",
       "      <td>Czechoslovakia</td>\n",
       "      <td>2</td>\n",
       "    </tr>\n",
       "    <tr>\n",
       "      <th>7</th>\n",
       "      <td>Hungary</td>\n",
       "      <td>2</td>\n",
       "    </tr>\n",
       "    <tr>\n",
       "      <th>8</th>\n",
       "      <td>Croatia</td>\n",
       "      <td>1</td>\n",
       "    </tr>\n",
       "    <tr>\n",
       "      <th>9</th>\n",
       "      <td>Germany</td>\n",
       "      <td>1</td>\n",
       "    </tr>\n",
       "    <tr>\n",
       "      <th>10</th>\n",
       "      <td>Sweden</td>\n",
       "      <td>1</td>\n",
       "    </tr>\n",
       "  </tbody>\n",
       "</table>\n",
       "</div>"
      ],
      "text/plain": [
       "         Runner-Up  Number of times runner_up\n",
       "0        Argentina                          3\n",
       "1      Netherlands                          3\n",
       "2     West Germany                          3\n",
       "3           France                          2\n",
       "4           Brazil                          2\n",
       "5            Italy                          2\n",
       "6   Czechoslovakia                          2\n",
       "7          Hungary                          2\n",
       "8          Croatia                          1\n",
       "9          Germany                          1\n",
       "10          Sweden                          1"
      ]
     },
     "execution_count": 40,
     "metadata": {},
     "output_type": "execute_result"
    }
   ],
   "source": [
    "runner_up"
   ]
  },
  {
   "cell_type": "markdown",
   "metadata": {},
   "source": [
    "### Conclusions \n",
    "1. Brazil won the most world cup followed by Italy and Aregentina\n",
    "2. Argentina,Netherland and West Germany  won most number of runner up title.\n",
    "3. Germany was Second runner up for most of the titles"
   ]
  },
  {
   "cell_type": "markdown",
   "metadata": {},
   "source": []
  },
  {
   "cell_type": "code",
   "execution_count": 41,
   "metadata": {},
   "outputs": [
    {
     "data": {
      "text/html": [
       "<div>\n",
       "<style scoped>\n",
       "    .dataframe tbody tr th:only-of-type {\n",
       "        vertical-align: middle;\n",
       "    }\n",
       "\n",
       "    .dataframe tbody tr th {\n",
       "        vertical-align: top;\n",
       "    }\n",
       "\n",
       "    .dataframe thead th {\n",
       "        text-align: right;\n",
       "    }\n",
       "</style>\n",
       "<table border=\"1\" class=\"dataframe\">\n",
       "  <thead>\n",
       "    <tr style=\"text-align: right;\">\n",
       "      <th></th>\n",
       "      <th>home</th>\n",
       "      <th>away</th>\n",
       "      <th>teams</th>\n",
       "      <th>number</th>\n",
       "    </tr>\n",
       "    <tr>\n",
       "      <th>Year</th>\n",
       "      <th></th>\n",
       "      <th></th>\n",
       "      <th></th>\n",
       "      <th></th>\n",
       "    </tr>\n",
       "  </thead>\n",
       "  <tbody>\n",
       "    <tr>\n",
       "      <th>1930</th>\n",
       "      <td>[Uruguay, Uruguay, Argentina, Argentina, Urugu...</td>\n",
       "      <td>[Argentina, Yugoslavia, United States, Chile, ...</td>\n",
       "      <td>[United States, Argentina, Belgium, Chile, Uru...</td>\n",
       "      <td>13</td>\n",
       "    </tr>\n",
       "    <tr>\n",
       "      <th>1934</th>\n",
       "      <td>[Italy, Germany, Czechoslovakia, Italy, Italy,...</td>\n",
       "      <td>[Czechoslovakia, Austria, Germany, Austria, Sp...</td>\n",
       "      <td>[Italy, Germany, Austria, Sweden, Egypt, Argen...</td>\n",
       "      <td>16</td>\n",
       "    </tr>\n",
       "    <tr>\n",
       "      <th>1938</th>\n",
       "      <td>[Brazil, Italy, Hungary, Italy, Brazil, Sweden...</td>\n",
       "      <td>[Sweden, Hungary, Sweden, Brazil, Czechoslovak...</td>\n",
       "      <td>[Italy, Germany, Sweden, Belgium, Poland, Fran...</td>\n",
       "      <td>15</td>\n",
       "    </tr>\n",
       "    <tr>\n",
       "      <th>1950</th>\n",
       "      <td>[Sweden, Uruguay, Brazil, Uruguay, Brazil, Uru...</td>\n",
       "      <td>[Spain, Brazil, Spain, Sweden, Sweden, Spain, ...</td>\n",
       "      <td>[Italy, Sweden, United States, Chile, Uruguay,...</td>\n",
       "      <td>13</td>\n",
       "    </tr>\n",
       "    <tr>\n",
       "      <th>1954</th>\n",
       "      <td>[Germany, Austria, Hungary, Germany, Germany, ...</td>\n",
       "      <td>[Hungary, Uruguay, Uruguay, Austria, Yugoslavi...</td>\n",
       "      <td>[Germany, Italy, Austria, Belgium, Uruguay, Ko...</td>\n",
       "      <td>16</td>\n",
       "    </tr>\n",
       "    <tr>\n",
       "      <th>1958</th>\n",
       "      <td>[Brazil, France, Sweden, Brazil, France, West ...</td>\n",
       "      <td>[Sweden, West Germany, West Germany, France, N...</td>\n",
       "      <td>[Wales, Sweden, Austria, Argentina, Soviet Uni...</td>\n",
       "      <td>16</td>\n",
       "    </tr>\n",
       "    <tr>\n",
       "      <th>1962</th>\n",
       "      <td>[Brazil, Chile, Brazil, Czechoslovakia, Chile,...</td>\n",
       "      <td>[Czechoslovakia, Yugoslavia, Chile, Yugoslavia...</td>\n",
       "      <td>[Italy, Bulgaria, Argentina, Soviet Union, Chi...</td>\n",
       "      <td>16</td>\n",
       "    </tr>\n",
       "    <tr>\n",
       "      <th>1966</th>\n",
       "      <td>[England, Portugal, England, West Germany, Por...</td>\n",
       "      <td>[West Germany, Soviet Union, Portugal, Soviet ...</td>\n",
       "      <td>[Portugal, Italy, Bulgaria, Argentina, Soviet ...</td>\n",
       "      <td>16</td>\n",
       "    </tr>\n",
       "    <tr>\n",
       "      <th>1970</th>\n",
       "      <td>[Brazil, West Germany, Italy, Brazil, Brazil, ...</td>\n",
       "      <td>[Italy, Uruguay, West Germany, Uruguay, Peru, ...</td>\n",
       "      <td>[Italy, Bulgaria, Sweden, El Salvador, Belgium...</td>\n",
       "      <td>16</td>\n",
       "    </tr>\n",
       "    <tr>\n",
       "      <th>1974</th>\n",
       "      <td>[Netherlands, Brazil, Poland, Netherlands, Arg...</td>\n",
       "      <td>[West Germany, Poland, West Germany, Brazil, W...</td>\n",
       "      <td>[Italy, Australia, Bulgaria, Zaire, Sweden, Ha...</td>\n",
       "      <td>15</td>\n",
       "    </tr>\n",
       "    <tr>\n",
       "      <th>1978</th>\n",
       "      <td>[Argentina, Brazil, Netherlands, Austria, Braz...</td>\n",
       "      <td>[Netherlands, Italy, Italy, West Germany, Pola...</td>\n",
       "      <td>[Italy, Austria, Sweden, Argentina, Poland, Tu...</td>\n",
       "      <td>16</td>\n",
       "    </tr>\n",
       "    <tr>\n",
       "      <th>1982</th>\n",
       "      <td>[Italy, Poland, Poland, West Germany, Italy, S...</td>\n",
       "      <td>[West Germany, France, Italy, France, Brazil, ...</td>\n",
       "      <td>[Austria, Belgium, Honduras, Cameroon, France,...</td>\n",
       "      <td>24</td>\n",
       "    </tr>\n",
       "    <tr>\n",
       "      <th>1986</th>\n",
       "      <td>[Argentina, France, France, Argentina, Argenti...</td>\n",
       "      <td>[West Germany, Belgium, West Germany, Belgium,...</td>\n",
       "      <td>[Bulgaria, Belgium, France, Brazil, Paraguay, ...</td>\n",
       "      <td>24</td>\n",
       "    </tr>\n",
       "    <tr>\n",
       "      <th>1990</th>\n",
       "      <td>[West Germany, Italy, West Germany, Italy, Wes...</td>\n",
       "      <td>[Argentina, England, England, Argentina, Czech...</td>\n",
       "      <td>[Sweden, Austria, Belgium, Egypt, Cameroon, Br...</td>\n",
       "      <td>24</td>\n",
       "    </tr>\n",
       "    <tr>\n",
       "      <th>1994</th>\n",
       "      <td>[Brazil, Sweden, Bulgaria, Sweden, Bulgaria, R...</td>\n",
       "      <td>[Italy, Bulgaria, Italy, Brazil, Germany, Swed...</td>\n",
       "      <td>[Bulgaria, Sweden, Belgium, Cameroon, Brazil, ...</td>\n",
       "      <td>24</td>\n",
       "    </tr>\n",
       "    <tr>\n",
       "      <th>1998</th>\n",
       "      <td>[Brazil, Netherlands, France, Brazil, Netherla...</td>\n",
       "      <td>[France, Croatia, Croatia, Netherlands, Argent...</td>\n",
       "      <td>[Bulgaria, Austria, Belgium, Tunisia, Cameroon...</td>\n",
       "      <td>32</td>\n",
       "    </tr>\n",
       "    <tr>\n",
       "      <th>2002</th>\n",
       "      <td>[Germany, Korea Republic, Brazil, Germany, Spa...</td>\n",
       "      <td>[Brazil, Türkiye, Türkiye, Korea Republic, Kor...</td>\n",
       "      <td>[Sweden, Belgium, Tunisia, Cameroon, France, B...</td>\n",
       "      <td>32</td>\n",
       "    </tr>\n",
       "    <tr>\n",
       "      <th>2006</th>\n",
       "      <td>[Italy, Germany, Portugal, Germany, England, B...</td>\n",
       "      <td>[France, Portugal, France, Italy, Portugal, Fr...</td>\n",
       "      <td>[Sweden, Tunisia, France, Brazil, Paraguay, Ja...</td>\n",
       "      <td>32</td>\n",
       "    </tr>\n",
       "    <tr>\n",
       "      <th>2010</th>\n",
       "      <td>[Netherlands, Uruguay, Germany, Uruguay, Argen...</td>\n",
       "      <td>[Spain, Germany, Spain, Netherlands, Germany, ...</td>\n",
       "      <td>[Honduras, Cameroon, Korea DPR, France, Paragu...</td>\n",
       "      <td>32</td>\n",
       "    </tr>\n",
       "    <tr>\n",
       "      <th>2014</th>\n",
       "      <td>[Germany, Brazil, Netherlands, Brazil, Argenti...</td>\n",
       "      <td>[Argentina, Netherlands, Argentina, Germany, B...</td>\n",
       "      <td>[Belgium, Honduras, Cameroon, France, Brazil, ...</td>\n",
       "      <td>32</td>\n",
       "    </tr>\n",
       "    <tr>\n",
       "      <th>2018</th>\n",
       "      <td>[France, Belgium, Croatia, France, Sweden, Rus...</td>\n",
       "      <td>[Croatia, England, England, Belgium, England, ...</td>\n",
       "      <td>[Sweden, Egypt, Belgium, Tunisia, France, Braz...</td>\n",
       "      <td>32</td>\n",
       "    </tr>\n",
       "    <tr>\n",
       "      <th>2022</th>\n",
       "      <td>[Argentina, Croatia, France, Argentina, Morocc...</td>\n",
       "      <td>[France, Morocco, Morocco, Croatia, Portugal, ...</td>\n",
       "      <td>[Belgium, Tunisia, Cameroon, France, Brazil, J...</td>\n",
       "      <td>32</td>\n",
       "    </tr>\n",
       "  </tbody>\n",
       "</table>\n",
       "</div>"
      ],
      "text/plain": [
       "                                                   home  \\\n",
       "Year                                                      \n",
       "1930  [Uruguay, Uruguay, Argentina, Argentina, Urugu...   \n",
       "1934  [Italy, Germany, Czechoslovakia, Italy, Italy,...   \n",
       "1938  [Brazil, Italy, Hungary, Italy, Brazil, Sweden...   \n",
       "1950  [Sweden, Uruguay, Brazil, Uruguay, Brazil, Uru...   \n",
       "1954  [Germany, Austria, Hungary, Germany, Germany, ...   \n",
       "1958  [Brazil, France, Sweden, Brazil, France, West ...   \n",
       "1962  [Brazil, Chile, Brazil, Czechoslovakia, Chile,...   \n",
       "1966  [England, Portugal, England, West Germany, Por...   \n",
       "1970  [Brazil, West Germany, Italy, Brazil, Brazil, ...   \n",
       "1974  [Netherlands, Brazil, Poland, Netherlands, Arg...   \n",
       "1978  [Argentina, Brazil, Netherlands, Austria, Braz...   \n",
       "1982  [Italy, Poland, Poland, West Germany, Italy, S...   \n",
       "1986  [Argentina, France, France, Argentina, Argenti...   \n",
       "1990  [West Germany, Italy, West Germany, Italy, Wes...   \n",
       "1994  [Brazil, Sweden, Bulgaria, Sweden, Bulgaria, R...   \n",
       "1998  [Brazil, Netherlands, France, Brazil, Netherla...   \n",
       "2002  [Germany, Korea Republic, Brazil, Germany, Spa...   \n",
       "2006  [Italy, Germany, Portugal, Germany, England, B...   \n",
       "2010  [Netherlands, Uruguay, Germany, Uruguay, Argen...   \n",
       "2014  [Germany, Brazil, Netherlands, Brazil, Argenti...   \n",
       "2018  [France, Belgium, Croatia, France, Sweden, Rus...   \n",
       "2022  [Argentina, Croatia, France, Argentina, Morocc...   \n",
       "\n",
       "                                                   away  \\\n",
       "Year                                                      \n",
       "1930  [Argentina, Yugoslavia, United States, Chile, ...   \n",
       "1934  [Czechoslovakia, Austria, Germany, Austria, Sp...   \n",
       "1938  [Sweden, Hungary, Sweden, Brazil, Czechoslovak...   \n",
       "1950  [Spain, Brazil, Spain, Sweden, Sweden, Spain, ...   \n",
       "1954  [Hungary, Uruguay, Uruguay, Austria, Yugoslavi...   \n",
       "1958  [Sweden, West Germany, West Germany, France, N...   \n",
       "1962  [Czechoslovakia, Yugoslavia, Chile, Yugoslavia...   \n",
       "1966  [West Germany, Soviet Union, Portugal, Soviet ...   \n",
       "1970  [Italy, Uruguay, West Germany, Uruguay, Peru, ...   \n",
       "1974  [West Germany, Poland, West Germany, Brazil, W...   \n",
       "1978  [Netherlands, Italy, Italy, West Germany, Pola...   \n",
       "1982  [West Germany, France, Italy, France, Brazil, ...   \n",
       "1986  [West Germany, Belgium, West Germany, Belgium,...   \n",
       "1990  [Argentina, England, England, Argentina, Czech...   \n",
       "1994  [Italy, Bulgaria, Italy, Brazil, Germany, Swed...   \n",
       "1998  [France, Croatia, Croatia, Netherlands, Argent...   \n",
       "2002  [Brazil, Türkiye, Türkiye, Korea Republic, Kor...   \n",
       "2006  [France, Portugal, France, Italy, Portugal, Fr...   \n",
       "2010  [Spain, Germany, Spain, Netherlands, Germany, ...   \n",
       "2014  [Argentina, Netherlands, Argentina, Germany, B...   \n",
       "2018  [Croatia, England, England, Belgium, England, ...   \n",
       "2022  [France, Morocco, Morocco, Croatia, Portugal, ...   \n",
       "\n",
       "                                                  teams  number  \n",
       "Year                                                             \n",
       "1930  [United States, Argentina, Belgium, Chile, Uru...      13  \n",
       "1934  [Italy, Germany, Austria, Sweden, Egypt, Argen...      16  \n",
       "1938  [Italy, Germany, Sweden, Belgium, Poland, Fran...      15  \n",
       "1950  [Italy, Sweden, United States, Chile, Uruguay,...      13  \n",
       "1954  [Germany, Italy, Austria, Belgium, Uruguay, Ko...      16  \n",
       "1958  [Wales, Sweden, Austria, Argentina, Soviet Uni...      16  \n",
       "1962  [Italy, Bulgaria, Argentina, Soviet Union, Chi...      16  \n",
       "1966  [Portugal, Italy, Bulgaria, Argentina, Soviet ...      16  \n",
       "1970  [Italy, Bulgaria, Sweden, El Salvador, Belgium...      16  \n",
       "1974  [Italy, Australia, Bulgaria, Zaire, Sweden, Ha...      15  \n",
       "1978  [Italy, Austria, Sweden, Argentina, Poland, Tu...      16  \n",
       "1982  [Austria, Belgium, Honduras, Cameroon, France,...      24  \n",
       "1986  [Bulgaria, Belgium, France, Brazil, Paraguay, ...      24  \n",
       "1990  [Sweden, Austria, Belgium, Egypt, Cameroon, Br...      24  \n",
       "1994  [Bulgaria, Sweden, Belgium, Cameroon, Brazil, ...      24  \n",
       "1998  [Bulgaria, Austria, Belgium, Tunisia, Cameroon...      32  \n",
       "2002  [Sweden, Belgium, Tunisia, Cameroon, France, B...      32  \n",
       "2006  [Sweden, Tunisia, France, Brazil, Paraguay, Ja...      32  \n",
       "2010  [Honduras, Cameroon, Korea DPR, France, Paragu...      32  \n",
       "2014  [Belgium, Honduras, Cameroon, France, Brazil, ...      32  \n",
       "2018  [Sweden, Egypt, Belgium, Tunisia, France, Braz...      32  \n",
       "2022  [Belgium, Tunisia, Cameroon, France, Brazil, J...      32  "
      ]
     },
     "execution_count": 41,
     "metadata": {},
     "output_type": "execute_result"
    }
   ],
   "source": [
    "# In which year a  particular team participated\n",
    "df1 = matches.groupby('Year').agg(home=('home_team',list),away=('away_team',list))\n",
    "df1['teams']=df1.apply(lambda x:list(set(x['home']+x['away'])),axis=1)\n",
    "df1['number']=df1['teams'].apply(len)\n",
    "df1"
   ]
  },
  {
   "cell_type": "markdown",
   "metadata": {},
   "source": []
  },
  {
   "cell_type": "code",
   "execution_count": 42,
   "metadata": {},
   "outputs": [
    {
     "data": {
      "text/plain": [
       "Text(0.5, 1.0, 'Team participating over Years')"
      ]
     },
     "execution_count": 42,
     "metadata": {},
     "output_type": "execute_result"
    },
    {
     "data": {
      "image/png": "[encoded data removed]",
      "text/plain": [
       "<Figure size 1200x2000 with 2 Axes>"
      ]
     },
     "metadata": {},
     "output_type": "display_data"
    }
   ],
   "source": [
    "pivot=df1['teams'].explode().reset_index().pivot_table(index='teams',columns='Year',values='Year', aggfunc='size', fill_value=0)\n",
    "plt.figure(figsize=(12,20))\n",
    "sns.heatmap(pivot,linewidths=0.5)\n",
    "plt.xlabel(\"Year\")\n",
    "plt.ylabel(\"Teams\")\n",
    "plt.title(\"Team participating over Years\")"
   ]
  },
  {
   "cell_type": "code",
   "execution_count": 43,
   "metadata": {},
   "outputs": [
    {
     "data": {
      "text/html": [
       "<div>\n",
       "<style scoped>\n",
       "    .dataframe tbody tr th:only-of-type {\n",
       "        vertical-align: middle;\n",
       "    }\n",
       "\n",
       "    .dataframe tbody tr th {\n",
       "        vertical-align: top;\n",
       "    }\n",
       "\n",
       "    .dataframe thead th {\n",
       "        text-align: right;\n",
       "    }\n",
       "</style>\n",
       "<table border=\"1\" class=\"dataframe\">\n",
       "  <thead>\n",
       "    <tr style=\"text-align: right;\">\n",
       "      <th>Year</th>\n",
       "      <th>1930</th>\n",
       "      <th>1934</th>\n",
       "      <th>1938</th>\n",
       "      <th>1950</th>\n",
       "      <th>1954</th>\n",
       "      <th>1958</th>\n",
       "      <th>1962</th>\n",
       "      <th>1966</th>\n",
       "      <th>1970</th>\n",
       "      <th>1974</th>\n",
       "      <th>...</th>\n",
       "      <th>1986</th>\n",
       "      <th>1990</th>\n",
       "      <th>1994</th>\n",
       "      <th>1998</th>\n",
       "      <th>2002</th>\n",
       "      <th>2006</th>\n",
       "      <th>2010</th>\n",
       "      <th>2014</th>\n",
       "      <th>2018</th>\n",
       "      <th>2022</th>\n",
       "    </tr>\n",
       "    <tr>\n",
       "      <th>teams</th>\n",
       "      <th></th>\n",
       "      <th></th>\n",
       "      <th></th>\n",
       "      <th></th>\n",
       "      <th></th>\n",
       "      <th></th>\n",
       "      <th></th>\n",
       "      <th></th>\n",
       "      <th></th>\n",
       "      <th></th>\n",
       "      <th></th>\n",
       "      <th></th>\n",
       "      <th></th>\n",
       "      <th></th>\n",
       "      <th></th>\n",
       "      <th></th>\n",
       "      <th></th>\n",
       "      <th></th>\n",
       "      <th></th>\n",
       "      <th></th>\n",
       "      <th></th>\n",
       "    </tr>\n",
       "  </thead>\n",
       "  <tbody>\n",
       "    <tr>\n",
       "      <th>Algeria</th>\n",
       "      <td>0</td>\n",
       "      <td>0</td>\n",
       "      <td>0</td>\n",
       "      <td>0</td>\n",
       "      <td>0</td>\n",
       "      <td>0</td>\n",
       "      <td>0</td>\n",
       "      <td>0</td>\n",
       "      <td>0</td>\n",
       "      <td>0</td>\n",
       "      <td>...</td>\n",
       "      <td>1</td>\n",
       "      <td>0</td>\n",
       "      <td>0</td>\n",
       "      <td>0</td>\n",
       "      <td>0</td>\n",
       "      <td>0</td>\n",
       "      <td>1</td>\n",
       "      <td>1</td>\n",
       "      <td>0</td>\n",
       "      <td>0</td>\n",
       "    </tr>\n",
       "    <tr>\n",
       "      <th>Angola</th>\n",
       "      <td>0</td>\n",
       "      <td>0</td>\n",
       "      <td>0</td>\n",
       "      <td>0</td>\n",
       "      <td>0</td>\n",
       "      <td>0</td>\n",
       "      <td>0</td>\n",
       "      <td>0</td>\n",
       "      <td>0</td>\n",
       "      <td>0</td>\n",
       "      <td>...</td>\n",
       "      <td>0</td>\n",
       "      <td>0</td>\n",
       "      <td>0</td>\n",
       "      <td>0</td>\n",
       "      <td>0</td>\n",
       "      <td>1</td>\n",
       "      <td>0</td>\n",
       "      <td>0</td>\n",
       "      <td>0</td>\n",
       "      <td>0</td>\n",
       "    </tr>\n",
       "    <tr>\n",
       "      <th>Argentina</th>\n",
       "      <td>1</td>\n",
       "      <td>1</td>\n",
       "      <td>0</td>\n",
       "      <td>0</td>\n",
       "      <td>0</td>\n",
       "      <td>1</td>\n",
       "      <td>1</td>\n",
       "      <td>1</td>\n",
       "      <td>0</td>\n",
       "      <td>1</td>\n",
       "      <td>...</td>\n",
       "      <td>1</td>\n",
       "      <td>1</td>\n",
       "      <td>1</td>\n",
       "      <td>1</td>\n",
       "      <td>1</td>\n",
       "      <td>1</td>\n",
       "      <td>1</td>\n",
       "      <td>1</td>\n",
       "      <td>1</td>\n",
       "      <td>1</td>\n",
       "    </tr>\n",
       "    <tr>\n",
       "      <th>Australia</th>\n",
       "      <td>0</td>\n",
       "      <td>0</td>\n",
       "      <td>0</td>\n",
       "      <td>0</td>\n",
       "      <td>0</td>\n",
       "      <td>0</td>\n",
       "      <td>0</td>\n",
       "      <td>0</td>\n",
       "      <td>0</td>\n",
       "      <td>1</td>\n",
       "      <td>...</td>\n",
       "      <td>0</td>\n",
       "      <td>0</td>\n",
       "      <td>0</td>\n",
       "      <td>0</td>\n",
       "      <td>0</td>\n",
       "      <td>1</td>\n",
       "      <td>1</td>\n",
       "      <td>1</td>\n",
       "      <td>1</td>\n",
       "      <td>1</td>\n",
       "    </tr>\n",
       "    <tr>\n",
       "      <th>Austria</th>\n",
       "      <td>0</td>\n",
       "      <td>1</td>\n",
       "      <td>0</td>\n",
       "      <td>0</td>\n",
       "      <td>1</td>\n",
       "      <td>1</td>\n",
       "      <td>0</td>\n",
       "      <td>0</td>\n",
       "      <td>0</td>\n",
       "      <td>0</td>\n",
       "      <td>...</td>\n",
       "      <td>0</td>\n",
       "      <td>1</td>\n",
       "      <td>0</td>\n",
       "      <td>1</td>\n",
       "      <td>0</td>\n",
       "      <td>0</td>\n",
       "      <td>0</td>\n",
       "      <td>0</td>\n",
       "      <td>0</td>\n",
       "      <td>0</td>\n",
       "    </tr>\n",
       "    <tr>\n",
       "      <th>...</th>\n",
       "      <td>...</td>\n",
       "      <td>...</td>\n",
       "      <td>...</td>\n",
       "      <td>...</td>\n",
       "      <td>...</td>\n",
       "      <td>...</td>\n",
       "      <td>...</td>\n",
       "      <td>...</td>\n",
       "      <td>...</td>\n",
       "      <td>...</td>\n",
       "      <td>...</td>\n",
       "      <td>...</td>\n",
       "      <td>...</td>\n",
       "      <td>...</td>\n",
       "      <td>...</td>\n",
       "      <td>...</td>\n",
       "      <td>...</td>\n",
       "      <td>...</td>\n",
       "      <td>...</td>\n",
       "      <td>...</td>\n",
       "      <td>...</td>\n",
       "    </tr>\n",
       "    <tr>\n",
       "      <th>Uruguay</th>\n",
       "      <td>1</td>\n",
       "      <td>0</td>\n",
       "      <td>0</td>\n",
       "      <td>1</td>\n",
       "      <td>1</td>\n",
       "      <td>0</td>\n",
       "      <td>1</td>\n",
       "      <td>1</td>\n",
       "      <td>1</td>\n",
       "      <td>1</td>\n",
       "      <td>...</td>\n",
       "      <td>1</td>\n",
       "      <td>1</td>\n",
       "      <td>0</td>\n",
       "      <td>0</td>\n",
       "      <td>1</td>\n",
       "      <td>0</td>\n",
       "      <td>1</td>\n",
       "      <td>1</td>\n",
       "      <td>1</td>\n",
       "      <td>1</td>\n",
       "    </tr>\n",
       "    <tr>\n",
       "      <th>Wales</th>\n",
       "      <td>0</td>\n",
       "      <td>0</td>\n",
       "      <td>0</td>\n",
       "      <td>0</td>\n",
       "      <td>0</td>\n",
       "      <td>1</td>\n",
       "      <td>0</td>\n",
       "      <td>0</td>\n",
       "      <td>0</td>\n",
       "      <td>0</td>\n",
       "      <td>...</td>\n",
       "      <td>0</td>\n",
       "      <td>0</td>\n",
       "      <td>0</td>\n",
       "      <td>0</td>\n",
       "      <td>0</td>\n",
       "      <td>0</td>\n",
       "      <td>0</td>\n",
       "      <td>0</td>\n",
       "      <td>0</td>\n",
       "      <td>1</td>\n",
       "    </tr>\n",
       "    <tr>\n",
       "      <th>West Germany</th>\n",
       "      <td>0</td>\n",
       "      <td>0</td>\n",
       "      <td>0</td>\n",
       "      <td>0</td>\n",
       "      <td>0</td>\n",
       "      <td>1</td>\n",
       "      <td>1</td>\n",
       "      <td>1</td>\n",
       "      <td>1</td>\n",
       "      <td>1</td>\n",
       "      <td>...</td>\n",
       "      <td>1</td>\n",
       "      <td>1</td>\n",
       "      <td>0</td>\n",
       "      <td>0</td>\n",
       "      <td>0</td>\n",
       "      <td>0</td>\n",
       "      <td>0</td>\n",
       "      <td>0</td>\n",
       "      <td>0</td>\n",
       "      <td>0</td>\n",
       "    </tr>\n",
       "    <tr>\n",
       "      <th>Yugoslavia</th>\n",
       "      <td>1</td>\n",
       "      <td>0</td>\n",
       "      <td>0</td>\n",
       "      <td>1</td>\n",
       "      <td>1</td>\n",
       "      <td>1</td>\n",
       "      <td>1</td>\n",
       "      <td>0</td>\n",
       "      <td>0</td>\n",
       "      <td>1</td>\n",
       "      <td>...</td>\n",
       "      <td>0</td>\n",
       "      <td>1</td>\n",
       "      <td>0</td>\n",
       "      <td>0</td>\n",
       "      <td>0</td>\n",
       "      <td>0</td>\n",
       "      <td>0</td>\n",
       "      <td>0</td>\n",
       "      <td>0</td>\n",
       "      <td>0</td>\n",
       "    </tr>\n",
       "    <tr>\n",
       "      <th>Zaire</th>\n",
       "      <td>0</td>\n",
       "      <td>0</td>\n",
       "      <td>0</td>\n",
       "      <td>0</td>\n",
       "      <td>0</td>\n",
       "      <td>0</td>\n",
       "      <td>0</td>\n",
       "      <td>0</td>\n",
       "      <td>0</td>\n",
       "      <td>1</td>\n",
       "      <td>...</td>\n",
       "      <td>0</td>\n",
       "      <td>0</td>\n",
       "      <td>0</td>\n",
       "      <td>0</td>\n",
       "      <td>0</td>\n",
       "      <td>0</td>\n",
       "      <td>0</td>\n",
       "      <td>0</td>\n",
       "      <td>0</td>\n",
       "      <td>0</td>\n",
       "    </tr>\n",
       "  </tbody>\n",
       "</table>\n",
       "<p>85 rows × 22 columns</p>\n",
       "</div>"
      ],
      "text/plain": [
       "Year          1930  1934  1938  1950  1954  1958  1962  1966  1970  1974  ...  \\\n",
       "teams                                                                     ...   \n",
       "Algeria          0     0     0     0     0     0     0     0     0     0  ...   \n",
       "Angola           0     0     0     0     0     0     0     0     0     0  ...   \n",
       "Argentina        1     1     0     0     0     1     1     1     0     1  ...   \n",
       "Australia        0     0     0     0     0     0     0     0     0     1  ...   \n",
       "Austria          0     1     0     0     1     1     0     0     0     0  ...   \n",
       "...            ...   ...   ...   ...   ...   ...   ...   ...   ...   ...  ...   \n",
       "Uruguay          1     0     0     1     1     0     1     1     1     1  ...   \n",
       "Wales            0     0     0     0     0     1     0     0     0     0  ...   \n",
       "West Germany     0     0     0     0     0     1     1     1     1     1  ...   \n",
       "Yugoslavia       1     0     0     1     1     1     1     0     0     1  ...   \n",
       "Zaire            0     0     0     0     0     0     0     0     0     1  ...   \n",
       "\n",
       "Year          1986  1990  1994  1998  2002  2006  2010  2014  2018  2022  \n",
       "teams                                                                     \n",
       "Algeria          1     0     0     0     0     0     1     1     0     0  \n",
       "Angola           0     0     0     0     0     1     0     0     0     0  \n",
       "Argentina        1     1     1     1     1     1     1     1     1     1  \n",
       "Australia        0     0     0     0     0     1     1     1     1     1  \n",
       "Austria          0     1     0     1     0     0     0     0     0     0  \n",
       "...            ...   ...   ...   ...   ...   ...   ...   ...   ...   ...  \n",
       "Uruguay          1     1     0     0     1     0     1     1     1     1  \n",
       "Wales            0     0     0     0     0     0     0     0     0     1  \n",
       "West Germany     1     1     0     0     0     0     0     0     0     0  \n",
       "Yugoslavia       0     1     0     0     0     0     0     0     0     0  \n",
       "Zaire            0     0     0     0     0     0     0     0     0     0  \n",
       "\n",
       "[85 rows x 22 columns]"
      ]
     },
     "execution_count": 43,
     "metadata": {},
     "output_type": "execute_result"
    }
   ],
   "source": [
    "pivot\n"
   ]
  },
  {
   "cell_type": "markdown",
   "metadata": {},
   "source": [
    "### Conclusions \n",
    "1. Brazil is the only country to play all the editions \n",
    "2. Countries like Qatar,Canada,Wales are new in the tournament \n",
    "3. Countries like Cuba,Israel,Kuwait,Jamica,Ukrain,Tongo,etc participated in only 1 edition of Fifa"
   ]
  },
  {
   "cell_type": "code",
   "execution_count": 44,
   "metadata": {},
   "outputs": [
    {
     "data": {
      "text/html": [
       "<div>\n",
       "<style scoped>\n",
       "    .dataframe tbody tr th:only-of-type {\n",
       "        vertical-align: middle;\n",
       "    }\n",
       "\n",
       "    .dataframe tbody tr th {\n",
       "        vertical-align: top;\n",
       "    }\n",
       "\n",
       "    .dataframe thead th {\n",
       "        text-align: right;\n",
       "    }\n",
       "</style>\n",
       "<table border=\"1\" class=\"dataframe\">\n",
       "  <thead>\n",
       "    <tr style=\"text-align: right;\">\n",
       "      <th></th>\n",
       "      <th>team</th>\n",
       "      <th>team_code</th>\n",
       "      <th>association</th>\n",
       "      <th>rank</th>\n",
       "      <th>previous_rank</th>\n",
       "      <th>points</th>\n",
       "      <th>previous_points</th>\n",
       "    </tr>\n",
       "  </thead>\n",
       "  <tbody>\n",
       "    <tr>\n",
       "      <th>0</th>\n",
       "      <td>Brazil</td>\n",
       "      <td>BRA</td>\n",
       "      <td>CONMEBOL</td>\n",
       "      <td>1</td>\n",
       "      <td>1</td>\n",
       "      <td>1841.30</td>\n",
       "      <td>1837.56</td>\n",
       "    </tr>\n",
       "    <tr>\n",
       "      <th>1</th>\n",
       "      <td>Belgium</td>\n",
       "      <td>BEL</td>\n",
       "      <td>UEFA</td>\n",
       "      <td>2</td>\n",
       "      <td>2</td>\n",
       "      <td>1816.71</td>\n",
       "      <td>1821.92</td>\n",
       "    </tr>\n",
       "    <tr>\n",
       "      <th>2</th>\n",
       "      <td>Argentina</td>\n",
       "      <td>ARG</td>\n",
       "      <td>CONMEBOL</td>\n",
       "      <td>3</td>\n",
       "      <td>3</td>\n",
       "      <td>1773.88</td>\n",
       "      <td>1770.65</td>\n",
       "    </tr>\n",
       "    <tr>\n",
       "      <th>3</th>\n",
       "      <td>France</td>\n",
       "      <td>FRA</td>\n",
       "      <td>UEFA</td>\n",
       "      <td>4</td>\n",
       "      <td>4</td>\n",
       "      <td>1759.78</td>\n",
       "      <td>1764.85</td>\n",
       "    </tr>\n",
       "    <tr>\n",
       "      <th>4</th>\n",
       "      <td>England</td>\n",
       "      <td>ENG</td>\n",
       "      <td>UEFA</td>\n",
       "      <td>5</td>\n",
       "      <td>5</td>\n",
       "      <td>1728.47</td>\n",
       "      <td>1737.46</td>\n",
       "    </tr>\n",
       "    <tr>\n",
       "      <th>...</th>\n",
       "      <td>...</td>\n",
       "      <td>...</td>\n",
       "      <td>...</td>\n",
       "      <td>...</td>\n",
       "      <td>...</td>\n",
       "      <td>...</td>\n",
       "      <td>...</td>\n",
       "    </tr>\n",
       "    <tr>\n",
       "      <th>206</th>\n",
       "      <td>Sri Lanka</td>\n",
       "      <td>SRI</td>\n",
       "      <td>AFC</td>\n",
       "      <td>207</td>\n",
       "      <td>207</td>\n",
       "      <td>825.25</td>\n",
       "      <td>825.25</td>\n",
       "    </tr>\n",
       "    <tr>\n",
       "      <th>207</th>\n",
       "      <td>US Virgin Islands</td>\n",
       "      <td>VIR</td>\n",
       "      <td>CONCACAF</td>\n",
       "      <td>208</td>\n",
       "      <td>208</td>\n",
       "      <td>823.97</td>\n",
       "      <td>823.97</td>\n",
       "    </tr>\n",
       "    <tr>\n",
       "      <th>208</th>\n",
       "      <td>British Virgin Islands</td>\n",
       "      <td>VGB</td>\n",
       "      <td>CONCACAF</td>\n",
       "      <td>209</td>\n",
       "      <td>209</td>\n",
       "      <td>809.32</td>\n",
       "      <td>809.32</td>\n",
       "    </tr>\n",
       "    <tr>\n",
       "      <th>209</th>\n",
       "      <td>Anguilla</td>\n",
       "      <td>AIA</td>\n",
       "      <td>CONCACAF</td>\n",
       "      <td>210</td>\n",
       "      <td>210</td>\n",
       "      <td>790.74</td>\n",
       "      <td>790.74</td>\n",
       "    </tr>\n",
       "    <tr>\n",
       "      <th>210</th>\n",
       "      <td>San Marino</td>\n",
       "      <td>SMR</td>\n",
       "      <td>UEFA</td>\n",
       "      <td>211</td>\n",
       "      <td>211</td>\n",
       "      <td>762.22</td>\n",
       "      <td>763.82</td>\n",
       "    </tr>\n",
       "  </tbody>\n",
       "</table>\n",
       "<p>211 rows × 7 columns</p>\n",
       "</div>"
      ],
      "text/plain": [
       "                       team team_code association  rank  previous_rank  \\\n",
       "0                    Brazil       BRA    CONMEBOL     1              1   \n",
       "1                   Belgium       BEL        UEFA     2              2   \n",
       "2                 Argentina       ARG    CONMEBOL     3              3   \n",
       "3                    France       FRA        UEFA     4              4   \n",
       "4                   England       ENG        UEFA     5              5   \n",
       "..                      ...       ...         ...   ...            ...   \n",
       "206               Sri Lanka       SRI         AFC   207            207   \n",
       "207       US Virgin Islands       VIR    CONCACAF   208            208   \n",
       "208  British Virgin Islands       VGB    CONCACAF   209            209   \n",
       "209                Anguilla       AIA    CONCACAF   210            210   \n",
       "210              San Marino       SMR        UEFA   211            211   \n",
       "\n",
       "      points  previous_points  \n",
       "0    1841.30          1837.56  \n",
       "1    1816.71          1821.92  \n",
       "2    1773.88          1770.65  \n",
       "3    1759.78          1764.85  \n",
       "4    1728.47          1737.46  \n",
       "..       ...              ...  \n",
       "206   825.25           825.25  \n",
       "207   823.97           823.97  \n",
       "208   809.32           809.32  \n",
       "209   790.74           790.74  \n",
       "210   762.22           763.82  \n",
       "\n",
       "[211 rows x 7 columns]"
      ]
     },
     "execution_count": 44,
     "metadata": {},
     "output_type": "execute_result"
    }
   ],
   "source": [
    "# Checking for which team rank increased,decreased, or remain same \n",
    "fifa_ranking"
   ]
  },
  {
   "cell_type": "code",
   "execution_count": 45,
   "metadata": {},
   "outputs": [],
   "source": [
    "same_ranking =fifa_ranking[fifa_ranking['rank']==fifa_ranking['previous_rank']]['team'].tolist()\n",
    "increase_ranking =fifa_ranking[fifa_ranking['rank']>fifa_ranking['previous_rank']]['team'].tolist()\n",
    "decrease_ranking =fifa_ranking[fifa_ranking['rank']<fifa_ranking['previous_rank']]['team'].tolist()"
   ]
  },
  {
   "cell_type": "code",
   "execution_count": 46,
   "metadata": {},
   "outputs": [
    {
     "name": "stdout",
     "output_type": "stream",
     "text": [
      "The length of same_ranking is  66\n",
      "The length of increase_ranking is  68\n",
      "The length of decrease_ranking is  77\n"
     ]
    }
   ],
   "source": [
    "print(\"The length of same_ranking is \",len(same_ranking))\n",
    "print(\"The length of increase_ranking is \",len(increase_ranking))\n",
    "print(\"The length of decrease_ranking is \",len(decrease_ranking))"
   ]
  },
  {
   "cell_type": "code",
   "execution_count": 47,
   "metadata": {},
   "outputs": [],
   "source": [
    "max_length = max(len(same_ranking),len(increase_ranking),len(decrease_ranking))\n",
    "same_ranking+= ['None']*(max_length-len(same_ranking))\n",
    "increase_ranking+= ['None']*(max_length-len(increase_ranking))\n",
    "decrease_ranking+= ['None']*(max_length-len(decrease_ranking))\n"
   ]
  },
  {
   "cell_type": "code",
   "execution_count": 48,
   "metadata": {},
   "outputs": [
    {
     "data": {
      "text/plain": [
       "['Brazil',\n",
       " 'Belgium',\n",
       " 'Argentina',\n",
       " 'France',\n",
       " 'England',\n",
       " 'Netherlands',\n",
       " 'Portugal',\n",
       " 'Denmark',\n",
       " 'Germany',\n",
       " 'Colombia',\n",
       " 'Senegal',\n",
       " 'Wales',\n",
       " 'Japan',\n",
       " 'Poland',\n",
       " 'Ukraine',\n",
       " 'Korea Republic',\n",
       " 'Chile',\n",
       " 'Tunisia',\n",
       " 'Ecuador',\n",
       " 'Mali',\n",
       " 'Albania',\n",
       " 'Oman',\n",
       " 'Israel',\n",
       " 'Uzbekistan',\n",
       " 'Honduras',\n",
       " 'Guinea',\n",
       " 'Bahrain',\n",
       " 'Benin',\n",
       " 'Palestine',\n",
       " 'Kyrgyz Republic',\n",
       " 'Equatorial Guinea',\n",
       " 'Thailand',\n",
       " 'Korea DPR',\n",
       " 'Guatemala',\n",
       " 'Turkmenistan',\n",
       " 'Ethiopia',\n",
       " 'St Kitts and Nevis',\n",
       " 'Burundi',\n",
       " 'Kuwait',\n",
       " 'Liberia',\n",
       " 'Chinese Taipei',\n",
       " 'Myanmar',\n",
       " 'Tahiti',\n",
       " 'Fiji',\n",
       " 'Vanuatu',\n",
       " 'South Sudan',\n",
       " 'Barbados',\n",
       " 'Cuba',\n",
       " 'Puerto Rico',\n",
       " 'Mauritius',\n",
       " 'Chad',\n",
       " 'Macau',\n",
       " 'American Samoa',\n",
       " 'Cook Islands',\n",
       " 'Brunei Darussalam',\n",
       " 'Samoa',\n",
       " 'Bangladesh',\n",
       " 'Djibouti',\n",
       " 'Tonga',\n",
       " 'Guam',\n",
       " 'Turks and Caicos Islands',\n",
       " 'Sri Lanka',\n",
       " 'US Virgin Islands',\n",
       " 'British Virgin Islands',\n",
       " 'Anguilla',\n",
       " 'San Marino',\n",
       " 'None',\n",
       " 'None',\n",
       " 'None',\n",
       " 'None',\n",
       " 'None',\n",
       " 'None',\n",
       " 'None',\n",
       " 'None',\n",
       " 'None',\n",
       " 'None',\n",
       " 'None']"
      ]
     },
     "execution_count": 48,
     "metadata": {},
     "output_type": "execute_result"
    }
   ],
   "source": [
    "same_ranking"
   ]
  },
  {
   "cell_type": "code",
   "execution_count": 49,
   "metadata": {},
   "outputs": [
    {
     "data": {
      "text/html": [
       "<div>\n",
       "<style scoped>\n",
       "    .dataframe tbody tr th:only-of-type {\n",
       "        vertical-align: middle;\n",
       "    }\n",
       "\n",
       "    .dataframe tbody tr th {\n",
       "        vertical-align: top;\n",
       "    }\n",
       "\n",
       "    .dataframe thead th {\n",
       "        text-align: right;\n",
       "    }\n",
       "</style>\n",
       "<table border=\"1\" class=\"dataframe\">\n",
       "  <thead>\n",
       "    <tr style=\"text-align: right;\">\n",
       "      <th></th>\n",
       "      <th>same_ranking</th>\n",
       "      <th>increase_ranking</th>\n",
       "      <th>decrease_ranking</th>\n",
       "    </tr>\n",
       "  </thead>\n",
       "  <tbody>\n",
       "    <tr>\n",
       "      <th>0</th>\n",
       "      <td>Brazil</td>\n",
       "      <td>Spain</td>\n",
       "      <td>Italy</td>\n",
       "    </tr>\n",
       "    <tr>\n",
       "      <th>1</th>\n",
       "      <td>Belgium</td>\n",
       "      <td>Mexico</td>\n",
       "      <td>Croatia</td>\n",
       "    </tr>\n",
       "    <tr>\n",
       "      <th>2</th>\n",
       "      <td>Argentina</td>\n",
       "      <td>Uruguay</td>\n",
       "      <td>Switzerland</td>\n",
       "    </tr>\n",
       "    <tr>\n",
       "      <th>3</th>\n",
       "      <td>France</td>\n",
       "      <td>USA</td>\n",
       "      <td>IR Iran</td>\n",
       "    </tr>\n",
       "    <tr>\n",
       "      <th>4</th>\n",
       "      <td>England</td>\n",
       "      <td>Peru</td>\n",
       "      <td>Serbia</td>\n",
       "    </tr>\n",
       "    <tr>\n",
       "      <th>...</th>\n",
       "      <td>...</td>\n",
       "      <td>...</td>\n",
       "      <td>...</td>\n",
       "    </tr>\n",
       "    <tr>\n",
       "      <th>72</th>\n",
       "      <td>None</td>\n",
       "      <td>None</td>\n",
       "      <td>Timor-Leste</td>\n",
       "    </tr>\n",
       "    <tr>\n",
       "      <th>73</th>\n",
       "      <td>None</td>\n",
       "      <td>None</td>\n",
       "      <td>Eritrea</td>\n",
       "    </tr>\n",
       "    <tr>\n",
       "      <th>74</th>\n",
       "      <td>None</td>\n",
       "      <td>None</td>\n",
       "      <td>Aruba</td>\n",
       "    </tr>\n",
       "    <tr>\n",
       "      <th>75</th>\n",
       "      <td>None</td>\n",
       "      <td>None</td>\n",
       "      <td>Bahamas</td>\n",
       "    </tr>\n",
       "    <tr>\n",
       "      <th>76</th>\n",
       "      <td>None</td>\n",
       "      <td>None</td>\n",
       "      <td>Somalia</td>\n",
       "    </tr>\n",
       "  </tbody>\n",
       "</table>\n",
       "<p>77 rows × 3 columns</p>\n",
       "</div>"
      ],
      "text/plain": [
       "   same_ranking increase_ranking decrease_ranking\n",
       "0        Brazil            Spain            Italy\n",
       "1       Belgium           Mexico          Croatia\n",
       "2     Argentina          Uruguay      Switzerland\n",
       "3        France              USA          IR Iran\n",
       "4       England             Peru           Serbia\n",
       "..          ...              ...              ...\n",
       "72         None             None      Timor-Leste\n",
       "73         None             None          Eritrea\n",
       "74         None             None            Aruba\n",
       "75         None             None          Bahamas\n",
       "76         None             None          Somalia\n",
       "\n",
       "[77 rows x 3 columns]"
      ]
     },
     "execution_count": 49,
     "metadata": {},
     "output_type": "execute_result"
    }
   ],
   "source": [
    "df2 =pd.DataFrame(\n",
    "    {'same_ranking':same_ranking,\n",
    "     'increase_ranking':increase_ranking,\n",
    "     'decrease_ranking':decrease_ranking}\n",
    ")\n",
    "df2"
   ]
  },
  {
   "cell_type": "code",
   "execution_count": 50,
   "metadata": {},
   "outputs": [],
   "source": [
    "    # Creating which take a team name as input and return that its ranking\n",
    "def ranking(team):\n",
    "     result = []\n",
    "     for i in df2.columns:\n",
    "        m= df2[i]==team\n",
    "        if m.any():\n",
    "            result.append(i)\n",
    "     return result\n",
    "        "
   ]
  },
  {
   "cell_type": "code",
   "execution_count": 51,
   "metadata": {},
   "outputs": [
    {
     "data": {
      "text/plain": [
       "['increase_ranking']"
      ]
     },
     "execution_count": 51,
     "metadata": {},
     "output_type": "execute_result"
    }
   ],
   "source": [
    "ranking('India')"
   ]
  },
  {
   "cell_type": "markdown",
   "metadata": {},
   "source": [
    "## Advance EDA"
   ]
  },
  {
   "cell_type": "code",
   "execution_count": 52,
   "metadata": {},
   "outputs": [],
   "source": [
    "# Probability of a team winning a knockout match \n",
    "def winning(team):\n",
    "    df3 = matches[(matches['home_team']==team) |(matches['away_team']==team)]\n",
    "    finals=df3[(df3['Round']=='Final')]\n",
    "    semi_finals=df3[(df3['Round']=='Semi-finals')]\n",
    "    Q_finals = df3[(df3['Round']=='Quarter-finals')]\n",
    "    t_f= finals.shape[0]\n",
    "    s_f= semi_finals.shape[0]\n",
    "    q_f=  Q_finals.shape[0]\n",
    "    w_f = finals[((finals['home_team']==team) & (finals['h_total']>finals['a_total'])) | ((finals['away_team']==team) & (finals['a_total']>finals['h_total']))].shape[0]\n",
    "    w_s =  semi_finals[((semi_finals['home_team']==team) & ( semi_finals['h_total']>semi_finals['a_total'])) | (( semi_finals['away_team']==team) & ( semi_finals['a_total']>semi_finals['h_total']))].shape[0]\n",
    "    w_q = Q_finals[((Q_finals['home_team']==team) & (Q_finals['h_total']>Q_finals['a_total'])) | ((Q_finals['away_team']==team) & (Q_finals['a_total']>Q_finals['h_total']))].shape[0]\n",
    "    a1= pd.DataFrame({\n",
    "        'Round' : 'Final',\n",
    "        'wins': [w_f],\n",
    "        'Total-matches': [t_f]\n",
    "    })\n",
    "    a2= pd.DataFrame({\n",
    "        'Round' : 'Semi-Final',\n",
    "        'wins': [w_s],\n",
    "        'Total-matches': [s_f]\n",
    "    })\n",
    "    a3= pd.DataFrame({\n",
    "        'Round' : 'Quater-Final',\n",
    "        'wins': [w_q],\n",
    "        'Total-matches': [q_f]\n",
    "    })\n",
    "    a = pd.concat([a1,a2,a3],axis=0)\n",
    "    a['Percentage'] = (a['wins']/a['Total-matches'])*100\n",
    "    return a"
   ]
  },
  {
   "cell_type": "code",
   "execution_count": 53,
   "metadata": {},
   "outputs": [
    {
     "data": {
      "text/plain": [
       "Index(['home_team', 'away_team', 'home_score', 'home_xg', 'home_penalty',\n",
       "       'away_score', 'away_xg', 'away_penalty', 'home_manager', 'home_captain',\n",
       "       'away_manager', 'away_captain', 'Attendance', 'Venue', 'Officials',\n",
       "       'Round', 'Date', 'Score', 'Referee', 'Notes', 'Host', 'Year',\n",
       "       'home_goal', 'away_goal', 'home_goal_long', 'away_goal_long',\n",
       "       'home_own_goal', 'away_own_goal', 'home_penalty_goal',\n",
       "       'away_penalty_goal', 'home_penalty_miss_long', 'away_penalty_miss_long',\n",
       "       'home_penalty_shootout_goal_long', 'away_penalty_shootout_goal_long',\n",
       "       'home_penalty_shootout_miss_long', 'away_penalty_shootout_miss_long',\n",
       "       'home_red_card', 'away_red_card', 'home_yellow_red_card',\n",
       "       'away_yellow_red_card', 'home_yellow_card_long',\n",
       "       'away_yellow_card_long', 'home_substitute_in_long',\n",
       "       'away_substitute_in_long', 'h_total', 'a_total'],\n",
       "      dtype='object')"
      ]
     },
     "execution_count": 53,
     "metadata": {},
     "output_type": "execute_result"
    }
   ],
   "source": [
    "matches.columns"
   ]
  },
  {
   "cell_type": "code",
   "execution_count": 54,
   "metadata": {},
   "outputs": [
    {
     "data": {
      "text/plain": [
       "array(['Final', 'Third-place match', 'Semi-finals', 'Quarter-finals',\n",
       "       'Round of 16', 'Group stage', 'Second group stage',\n",
       "       'First group stage', 'Second round', 'First round',\n",
       "       'Group stage play-off', 'Final stage'], dtype=object)"
      ]
     },
     "execution_count": 54,
     "metadata": {},
     "output_type": "execute_result"
    }
   ],
   "source": [
    "matches['Round'].unique()"
   ]
  },
  {
   "cell_type": "code",
   "execution_count": 55,
   "metadata": {},
   "outputs": [
    {
     "data": {
      "text/html": [
       "<div>\n",
       "<style scoped>\n",
       "    .dataframe tbody tr th:only-of-type {\n",
       "        vertical-align: middle;\n",
       "    }\n",
       "\n",
       "    .dataframe tbody tr th {\n",
       "        vertical-align: top;\n",
       "    }\n",
       "\n",
       "    .dataframe thead th {\n",
       "        text-align: right;\n",
       "    }\n",
       "</style>\n",
       "<table border=\"1\" class=\"dataframe\">\n",
       "  <thead>\n",
       "    <tr style=\"text-align: right;\">\n",
       "      <th></th>\n",
       "      <th>home_team</th>\n",
       "      <th>away_team</th>\n",
       "      <th>home_score</th>\n",
       "      <th>home_xg</th>\n",
       "      <th>home_penalty</th>\n",
       "      <th>away_score</th>\n",
       "      <th>away_xg</th>\n",
       "      <th>away_penalty</th>\n",
       "      <th>home_manager</th>\n",
       "      <th>home_captain</th>\n",
       "      <th>...</th>\n",
       "      <th>home_red_card</th>\n",
       "      <th>away_red_card</th>\n",
       "      <th>home_yellow_red_card</th>\n",
       "      <th>away_yellow_red_card</th>\n",
       "      <th>home_yellow_card_long</th>\n",
       "      <th>away_yellow_card_long</th>\n",
       "      <th>home_substitute_in_long</th>\n",
       "      <th>away_substitute_in_long</th>\n",
       "      <th>h_total</th>\n",
       "      <th>a_total</th>\n",
       "    </tr>\n",
       "  </thead>\n",
       "  <tbody>\n",
       "    <tr>\n",
       "      <th>0</th>\n",
       "      <td>Argentina</td>\n",
       "      <td>France</td>\n",
       "      <td>3</td>\n",
       "      <td>3.3</td>\n",
       "      <td>4.0</td>\n",
       "      <td>3</td>\n",
       "      <td>2.2</td>\n",
       "      <td>2.0</td>\n",
       "      <td>Lionel Scaloni</td>\n",
       "      <td>Lionel Messi</td>\n",
       "      <td>...</td>\n",
       "      <td>NaN</td>\n",
       "      <td>NaN</td>\n",
       "      <td>NaN</td>\n",
       "      <td>NaN</td>\n",
       "      <td>['45+7&amp;rsquor;|2:0|Enzo Fernández', '90+8&amp;rsqu...</td>\n",
       "      <td>['55&amp;rsquor;|2:0|Adrien Rabiot', '87&amp;rsquor;|2...</td>\n",
       "      <td>['64&amp;rsquor;|2:0|Marcos Acuña|for Ángel Di Mar...</td>\n",
       "      <td>['41&amp;rsquor;|2:0|Randal Kolo Muani|for Ousmane...</td>\n",
       "      <td>7.0</td>\n",
       "      <td>5.0</td>\n",
       "    </tr>\n",
       "    <tr>\n",
       "      <th>2</th>\n",
       "      <td>France</td>\n",
       "      <td>Morocco</td>\n",
       "      <td>2</td>\n",
       "      <td>2.0</td>\n",
       "      <td>0.0</td>\n",
       "      <td>0</td>\n",
       "      <td>0.9</td>\n",
       "      <td>0.0</td>\n",
       "      <td>Didier Deschamps</td>\n",
       "      <td>Hugo Lloris</td>\n",
       "      <td>...</td>\n",
       "      <td>NaN</td>\n",
       "      <td>NaN</td>\n",
       "      <td>NaN</td>\n",
       "      <td>NaN</td>\n",
       "      <td>NaN</td>\n",
       "      <td>['27&amp;rsquor;|1:0|Sofiane Boufal']</td>\n",
       "      <td>['65&amp;rsquor;|1:0|Marcus Thuram|for Olivier Gir...</td>\n",
       "      <td>['21&amp;rsquor;|1:0|Selim Amallah|for Romain Saïs...</td>\n",
       "      <td>2.0</td>\n",
       "      <td>0.0</td>\n",
       "    </tr>\n",
       "    <tr>\n",
       "      <th>3</th>\n",
       "      <td>Argentina</td>\n",
       "      <td>Croatia</td>\n",
       "      <td>3</td>\n",
       "      <td>2.3</td>\n",
       "      <td>0.0</td>\n",
       "      <td>0</td>\n",
       "      <td>0.5</td>\n",
       "      <td>0.0</td>\n",
       "      <td>Lionel Scaloni</td>\n",
       "      <td>Lionel Messi</td>\n",
       "      <td>...</td>\n",
       "      <td>NaN</td>\n",
       "      <td>NaN</td>\n",
       "      <td>NaN</td>\n",
       "      <td>NaN</td>\n",
       "      <td>['68&amp;rsquor;|2:0|Cristian Romero', '71&amp;rsquor;...</td>\n",
       "      <td>['32&amp;rsquor;|0:0|Mateo Kovačić', '32&amp;rsquor;|0...</td>\n",
       "      <td>['62&amp;rsquor;|2:0|Lisandro Martínez|for Leandro...</td>\n",
       "      <td>['46&amp;rsquor;|2:0|Mislav Oršić|for Borna Sosa',...</td>\n",
       "      <td>3.0</td>\n",
       "      <td>0.0</td>\n",
       "    </tr>\n",
       "    <tr>\n",
       "      <th>4</th>\n",
       "      <td>Morocco</td>\n",
       "      <td>Portugal</td>\n",
       "      <td>1</td>\n",
       "      <td>1.4</td>\n",
       "      <td>0.0</td>\n",
       "      <td>0</td>\n",
       "      <td>0.9</td>\n",
       "      <td>0.0</td>\n",
       "      <td>Hoalid Regragui</td>\n",
       "      <td>Romain Saïss</td>\n",
       "      <td>...</td>\n",
       "      <td>NaN</td>\n",
       "      <td>NaN</td>\n",
       "      <td>Walid Cheddira · 90+3</td>\n",
       "      <td>NaN</td>\n",
       "      <td>['70&amp;rsquor;|1:0|Achraf Dari', '90+1&amp;rsquor;|1...</td>\n",
       "      <td>['87&amp;rsquor;|1:0|Vitinha']</td>\n",
       "      <td>['57&amp;rsquor;|1:0|Achraf Dari|for Romain Saïss'...</td>\n",
       "      <td>['51&amp;rsquor;|1:0|João Cancelo|for Raphaël Guer...</td>\n",
       "      <td>1.0</td>\n",
       "      <td>0.0</td>\n",
       "    </tr>\n",
       "    <tr>\n",
       "      <th>5</th>\n",
       "      <td>England</td>\n",
       "      <td>France</td>\n",
       "      <td>1</td>\n",
       "      <td>2.4</td>\n",
       "      <td>0.0</td>\n",
       "      <td>2</td>\n",
       "      <td>0.9</td>\n",
       "      <td>0.0</td>\n",
       "      <td>Gareth Southgate</td>\n",
       "      <td>Harry Kane</td>\n",
       "      <td>...</td>\n",
       "      <td>NaN</td>\n",
       "      <td>NaN</td>\n",
       "      <td>NaN</td>\n",
       "      <td>NaN</td>\n",
       "      <td>['90&amp;rsquor;|1:2|Harry Maguire']</td>\n",
       "      <td>['43&amp;rsquor;|0:1|Antoine Griezmann', '47&amp;rsquo...</td>\n",
       "      <td>['79&amp;rsquor;|1:2|Raheem Sterling|for Bukayo Sa...</td>\n",
       "      <td>['79&amp;rsquor;|1:2|Kingsley Coman|for Ousmane De...</td>\n",
       "      <td>1.0</td>\n",
       "      <td>2.0</td>\n",
       "    </tr>\n",
       "    <tr>\n",
       "      <th>...</th>\n",
       "      <td>...</td>\n",
       "      <td>...</td>\n",
       "      <td>...</td>\n",
       "      <td>...</td>\n",
       "      <td>...</td>\n",
       "      <td>...</td>\n",
       "      <td>...</td>\n",
       "      <td>...</td>\n",
       "      <td>...</td>\n",
       "      <td>...</td>\n",
       "      <td>...</td>\n",
       "      <td>...</td>\n",
       "      <td>...</td>\n",
       "      <td>...</td>\n",
       "      <td>...</td>\n",
       "      <td>...</td>\n",
       "      <td>...</td>\n",
       "      <td>...</td>\n",
       "      <td>...</td>\n",
       "      <td>...</td>\n",
       "      <td>...</td>\n",
       "    </tr>\n",
       "    <tr>\n",
       "      <th>936</th>\n",
       "      <td>Italy</td>\n",
       "      <td>Spain</td>\n",
       "      <td>1</td>\n",
       "      <td>NaN</td>\n",
       "      <td>0.0</td>\n",
       "      <td>1</td>\n",
       "      <td>NaN</td>\n",
       "      <td>0.0</td>\n",
       "      <td>Vittorio Pozzo</td>\n",
       "      <td>Gianpiero Combi</td>\n",
       "      <td>...</td>\n",
       "      <td>NaN</td>\n",
       "      <td>NaN</td>\n",
       "      <td>NaN</td>\n",
       "      <td>NaN</td>\n",
       "      <td>NaN</td>\n",
       "      <td>NaN</td>\n",
       "      <td>NaN</td>\n",
       "      <td>NaN</td>\n",
       "      <td>1.0</td>\n",
       "      <td>1.0</td>\n",
       "    </tr>\n",
       "    <tr>\n",
       "      <th>937</th>\n",
       "      <td>Germany</td>\n",
       "      <td>Sweden</td>\n",
       "      <td>2</td>\n",
       "      <td>NaN</td>\n",
       "      <td>0.0</td>\n",
       "      <td>1</td>\n",
       "      <td>NaN</td>\n",
       "      <td>0.0</td>\n",
       "      <td>Otto Nerz</td>\n",
       "      <td>Fritz Szepan</td>\n",
       "      <td>...</td>\n",
       "      <td>NaN</td>\n",
       "      <td>NaN</td>\n",
       "      <td>NaN</td>\n",
       "      <td>NaN</td>\n",
       "      <td>NaN</td>\n",
       "      <td>NaN</td>\n",
       "      <td>NaN</td>\n",
       "      <td>NaN</td>\n",
       "      <td>2.0</td>\n",
       "      <td>1.0</td>\n",
       "    </tr>\n",
       "    <tr>\n",
       "      <th>946</th>\n",
       "      <td>Uruguay</td>\n",
       "      <td>Argentina</td>\n",
       "      <td>4</td>\n",
       "      <td>NaN</td>\n",
       "      <td>0.0</td>\n",
       "      <td>2</td>\n",
       "      <td>NaN</td>\n",
       "      <td>0.0</td>\n",
       "      <td>Alberto Suppici</td>\n",
       "      <td>José Nasazzi</td>\n",
       "      <td>...</td>\n",
       "      <td>NaN</td>\n",
       "      <td>NaN</td>\n",
       "      <td>NaN</td>\n",
       "      <td>NaN</td>\n",
       "      <td>NaN</td>\n",
       "      <td>NaN</td>\n",
       "      <td>NaN</td>\n",
       "      <td>NaN</td>\n",
       "      <td>4.0</td>\n",
       "      <td>2.0</td>\n",
       "    </tr>\n",
       "    <tr>\n",
       "      <th>947</th>\n",
       "      <td>Uruguay</td>\n",
       "      <td>Yugoslavia</td>\n",
       "      <td>6</td>\n",
       "      <td>NaN</td>\n",
       "      <td>0.0</td>\n",
       "      <td>1</td>\n",
       "      <td>NaN</td>\n",
       "      <td>0.0</td>\n",
       "      <td>Alberto Suppici</td>\n",
       "      <td>José Nasazzi</td>\n",
       "      <td>...</td>\n",
       "      <td>NaN</td>\n",
       "      <td>NaN</td>\n",
       "      <td>NaN</td>\n",
       "      <td>NaN</td>\n",
       "      <td>NaN</td>\n",
       "      <td>NaN</td>\n",
       "      <td>NaN</td>\n",
       "      <td>NaN</td>\n",
       "      <td>6.0</td>\n",
       "      <td>1.0</td>\n",
       "    </tr>\n",
       "    <tr>\n",
       "      <th>948</th>\n",
       "      <td>Argentina</td>\n",
       "      <td>United States</td>\n",
       "      <td>6</td>\n",
       "      <td>NaN</td>\n",
       "      <td>0.0</td>\n",
       "      <td>1</td>\n",
       "      <td>NaN</td>\n",
       "      <td>0.0</td>\n",
       "      <td>Francisco Olazar</td>\n",
       "      <td>Manuel Ferreira</td>\n",
       "      <td>...</td>\n",
       "      <td>NaN</td>\n",
       "      <td>NaN</td>\n",
       "      <td>NaN</td>\n",
       "      <td>NaN</td>\n",
       "      <td>NaN</td>\n",
       "      <td>NaN</td>\n",
       "      <td>NaN</td>\n",
       "      <td>NaN</td>\n",
       "      <td>6.0</td>\n",
       "      <td>1.0</td>\n",
       "    </tr>\n",
       "  </tbody>\n",
       "</table>\n",
       "<p>129 rows × 46 columns</p>\n",
       "</div>"
      ],
      "text/plain": [
       "     home_team      away_team  home_score  home_xg  home_penalty  away_score  \\\n",
       "0    Argentina         France           3      3.3           4.0           3   \n",
       "2       France        Morocco           2      2.0           0.0           0   \n",
       "3    Argentina        Croatia           3      2.3           0.0           0   \n",
       "4      Morocco       Portugal           1      1.4           0.0           0   \n",
       "5      England         France           1      2.4           0.0           2   \n",
       "..         ...            ...         ...      ...           ...         ...   \n",
       "936      Italy          Spain           1      NaN           0.0           1   \n",
       "937    Germany         Sweden           2      NaN           0.0           1   \n",
       "946    Uruguay      Argentina           4      NaN           0.0           2   \n",
       "947    Uruguay     Yugoslavia           6      NaN           0.0           1   \n",
       "948  Argentina  United States           6      NaN           0.0           1   \n",
       "\n",
       "     away_xg  away_penalty      home_manager     home_captain  ...  \\\n",
       "0        2.2           2.0    Lionel Scaloni     Lionel Messi  ...   \n",
       "2        0.9           0.0  Didier Deschamps      Hugo Lloris  ...   \n",
       "3        0.5           0.0    Lionel Scaloni     Lionel Messi  ...   \n",
       "4        0.9           0.0   Hoalid Regragui     Romain Saïss  ...   \n",
       "5        0.9           0.0  Gareth Southgate       Harry Kane  ...   \n",
       "..       ...           ...               ...              ...  ...   \n",
       "936      NaN           0.0    Vittorio Pozzo  Gianpiero Combi  ...   \n",
       "937      NaN           0.0         Otto Nerz     Fritz Szepan  ...   \n",
       "946      NaN           0.0   Alberto Suppici     José Nasazzi  ...   \n",
       "947      NaN           0.0   Alberto Suppici     José Nasazzi  ...   \n",
       "948      NaN           0.0  Francisco Olazar  Manuel Ferreira  ...   \n",
       "\n",
       "    home_red_card away_red_card   home_yellow_red_card away_yellow_red_card  \\\n",
       "0             NaN           NaN                    NaN                  NaN   \n",
       "2             NaN           NaN                    NaN                  NaN   \n",
       "3             NaN           NaN                    NaN                  NaN   \n",
       "4             NaN           NaN  Walid Cheddira · 90+3                  NaN   \n",
       "5             NaN           NaN                    NaN                  NaN   \n",
       "..            ...           ...                    ...                  ...   \n",
       "936           NaN           NaN                    NaN                  NaN   \n",
       "937           NaN           NaN                    NaN                  NaN   \n",
       "946           NaN           NaN                    NaN                  NaN   \n",
       "947           NaN           NaN                    NaN                  NaN   \n",
       "948           NaN           NaN                    NaN                  NaN   \n",
       "\n",
       "                                 home_yellow_card_long  \\\n",
       "0    ['45+7&rsquor;|2:0|Enzo Fernández', '90+8&rsqu...   \n",
       "2                                                  NaN   \n",
       "3    ['68&rsquor;|2:0|Cristian Romero', '71&rsquor;...   \n",
       "4    ['70&rsquor;|1:0|Achraf Dari', '90+1&rsquor;|1...   \n",
       "5                     ['90&rsquor;|1:2|Harry Maguire']   \n",
       "..                                                 ...   \n",
       "936                                                NaN   \n",
       "937                                                NaN   \n",
       "946                                                NaN   \n",
       "947                                                NaN   \n",
       "948                                                NaN   \n",
       "\n",
       "                                 away_yellow_card_long  \\\n",
       "0    ['55&rsquor;|2:0|Adrien Rabiot', '87&rsquor;|2...   \n",
       "2                    ['27&rsquor;|1:0|Sofiane Boufal']   \n",
       "3    ['32&rsquor;|0:0|Mateo Kovačić', '32&rsquor;|0...   \n",
       "4                           ['87&rsquor;|1:0|Vitinha']   \n",
       "5    ['43&rsquor;|0:1|Antoine Griezmann', '47&rsquo...   \n",
       "..                                                 ...   \n",
       "936                                                NaN   \n",
       "937                                                NaN   \n",
       "946                                                NaN   \n",
       "947                                                NaN   \n",
       "948                                                NaN   \n",
       "\n",
       "                               home_substitute_in_long  \\\n",
       "0    ['64&rsquor;|2:0|Marcos Acuña|for Ángel Di Mar...   \n",
       "2    ['65&rsquor;|1:0|Marcus Thuram|for Olivier Gir...   \n",
       "3    ['62&rsquor;|2:0|Lisandro Martínez|for Leandro...   \n",
       "4    ['57&rsquor;|1:0|Achraf Dari|for Romain Saïss'...   \n",
       "5    ['79&rsquor;|1:2|Raheem Sterling|for Bukayo Sa...   \n",
       "..                                                 ...   \n",
       "936                                                NaN   \n",
       "937                                                NaN   \n",
       "946                                                NaN   \n",
       "947                                                NaN   \n",
       "948                                                NaN   \n",
       "\n",
       "                               away_substitute_in_long h_total a_total  \n",
       "0    ['41&rsquor;|2:0|Randal Kolo Muani|for Ousmane...     7.0     5.0  \n",
       "2    ['21&rsquor;|1:0|Selim Amallah|for Romain Saïs...     2.0     0.0  \n",
       "3    ['46&rsquor;|2:0|Mislav Oršić|for Borna Sosa',...     3.0     0.0  \n",
       "4    ['51&rsquor;|1:0|João Cancelo|for Raphaël Guer...     1.0     0.0  \n",
       "5    ['79&rsquor;|1:2|Kingsley Coman|for Ousmane De...     1.0     2.0  \n",
       "..                                                 ...     ...     ...  \n",
       "936                                                NaN     1.0     1.0  \n",
       "937                                                NaN     2.0     1.0  \n",
       "946                                                NaN     4.0     2.0  \n",
       "947                                                NaN     6.0     1.0  \n",
       "948                                                NaN     6.0     1.0  \n",
       "\n",
       "[129 rows x 46 columns]"
      ]
     },
     "execution_count": 55,
     "metadata": {},
     "output_type": "execute_result"
    }
   ],
   "source": [
    "\n",
    "knockouts=matches[(matches['Round']=='Final') |  (matches['Round']=='hird-place match') |  (matches['Round']=='Semi-finals') | (matches['Round']=='Quarter-finals')]\n",
    "knockouts "
   ]
  },
  {
   "cell_type": "code",
   "execution_count": 56,
   "metadata": {},
   "outputs": [
    {
     "data": {
      "text/html": [
       "<div>\n",
       "<style scoped>\n",
       "    .dataframe tbody tr th:only-of-type {\n",
       "        vertical-align: middle;\n",
       "    }\n",
       "\n",
       "    .dataframe tbody tr th {\n",
       "        vertical-align: top;\n",
       "    }\n",
       "\n",
       "    .dataframe thead th {\n",
       "        text-align: right;\n",
       "    }\n",
       "</style>\n",
       "<table border=\"1\" class=\"dataframe\">\n",
       "  <thead>\n",
       "    <tr style=\"text-align: right;\">\n",
       "      <th></th>\n",
       "      <th>home_team</th>\n",
       "      <th>away_team</th>\n",
       "      <th>h_total</th>\n",
       "      <th>a_total</th>\n",
       "    </tr>\n",
       "  </thead>\n",
       "  <tbody>\n",
       "    <tr>\n",
       "      <th>6</th>\n",
       "      <td>Croatia</td>\n",
       "      <td>Brazil</td>\n",
       "      <td>5.0</td>\n",
       "      <td>3.0</td>\n",
       "    </tr>\n",
       "    <tr>\n",
       "      <th>71</th>\n",
       "      <td>Brazil</td>\n",
       "      <td>Belgium</td>\n",
       "      <td>1.0</td>\n",
       "      <td>2.0</td>\n",
       "    </tr>\n",
       "    <tr>\n",
       "      <th>131</th>\n",
       "      <td>Brazil</td>\n",
       "      <td>Germany</td>\n",
       "      <td>1.0</td>\n",
       "      <td>7.0</td>\n",
       "    </tr>\n",
       "    <tr>\n",
       "      <th>135</th>\n",
       "      <td>Brazil</td>\n",
       "      <td>Colombia</td>\n",
       "      <td>2.0</td>\n",
       "      <td>1.0</td>\n",
       "    </tr>\n",
       "    <tr>\n",
       "      <th>198</th>\n",
       "      <td>Netherlands</td>\n",
       "      <td>Brazil</td>\n",
       "      <td>2.0</td>\n",
       "      <td>1.0</td>\n",
       "    </tr>\n",
       "    <tr>\n",
       "      <th>261</th>\n",
       "      <td>Brazil</td>\n",
       "      <td>France</td>\n",
       "      <td>0.0</td>\n",
       "      <td>1.0</td>\n",
       "    </tr>\n",
       "    <tr>\n",
       "      <th>320</th>\n",
       "      <td>Germany</td>\n",
       "      <td>Brazil</td>\n",
       "      <td>0.0</td>\n",
       "      <td>2.0</td>\n",
       "    </tr>\n",
       "    <tr>\n",
       "      <th>322</th>\n",
       "      <td>Brazil</td>\n",
       "      <td>Türkiye</td>\n",
       "      <td>1.0</td>\n",
       "      <td>0.0</td>\n",
       "    </tr>\n",
       "    <tr>\n",
       "      <th>326</th>\n",
       "      <td>England</td>\n",
       "      <td>Brazil</td>\n",
       "      <td>1.0</td>\n",
       "      <td>2.0</td>\n",
       "    </tr>\n",
       "    <tr>\n",
       "      <th>384</th>\n",
       "      <td>Brazil</td>\n",
       "      <td>France</td>\n",
       "      <td>0.0</td>\n",
       "      <td>3.0</td>\n",
       "    </tr>\n",
       "    <tr>\n",
       "      <th>387</th>\n",
       "      <td>Brazil</td>\n",
       "      <td>Netherlands</td>\n",
       "      <td>5.0</td>\n",
       "      <td>3.0</td>\n",
       "    </tr>\n",
       "    <tr>\n",
       "      <th>391</th>\n",
       "      <td>Brazil</td>\n",
       "      <td>Denmark</td>\n",
       "      <td>3.0</td>\n",
       "      <td>2.0</td>\n",
       "    </tr>\n",
       "    <tr>\n",
       "      <th>448</th>\n",
       "      <td>Brazil</td>\n",
       "      <td>Italy</td>\n",
       "      <td>3.0</td>\n",
       "      <td>2.0</td>\n",
       "    </tr>\n",
       "    <tr>\n",
       "      <th>451</th>\n",
       "      <td>Sweden</td>\n",
       "      <td>Brazil</td>\n",
       "      <td>0.0</td>\n",
       "      <td>1.0</td>\n",
       "    </tr>\n",
       "    <tr>\n",
       "      <th>455</th>\n",
       "      <td>Netherlands</td>\n",
       "      <td>Brazil</td>\n",
       "      <td>2.0</td>\n",
       "      <td>3.0</td>\n",
       "    </tr>\n",
       "    <tr>\n",
       "      <th>558</th>\n",
       "      <td>Brazil</td>\n",
       "      <td>France</td>\n",
       "      <td>4.0</td>\n",
       "      <td>5.0</td>\n",
       "    </tr>\n",
       "    <tr>\n",
       "      <th>732</th>\n",
       "      <td>Brazil</td>\n",
       "      <td>Italy</td>\n",
       "      <td>4.0</td>\n",
       "      <td>1.0</td>\n",
       "    </tr>\n",
       "    <tr>\n",
       "      <th>735</th>\n",
       "      <td>Brazil</td>\n",
       "      <td>Uruguay</td>\n",
       "      <td>3.0</td>\n",
       "      <td>1.0</td>\n",
       "    </tr>\n",
       "    <tr>\n",
       "      <th>736</th>\n",
       "      <td>Brazil</td>\n",
       "      <td>Peru</td>\n",
       "      <td>4.0</td>\n",
       "      <td>2.0</td>\n",
       "    </tr>\n",
       "    <tr>\n",
       "      <th>796</th>\n",
       "      <td>Brazil</td>\n",
       "      <td>Czechoslovakia</td>\n",
       "      <td>3.0</td>\n",
       "      <td>1.0</td>\n",
       "    </tr>\n",
       "    <tr>\n",
       "      <th>798</th>\n",
       "      <td>Brazil</td>\n",
       "      <td>Chile</td>\n",
       "      <td>4.0</td>\n",
       "      <td>2.0</td>\n",
       "    </tr>\n",
       "    <tr>\n",
       "      <th>801</th>\n",
       "      <td>Brazil</td>\n",
       "      <td>England</td>\n",
       "      <td>3.0</td>\n",
       "      <td>1.0</td>\n",
       "    </tr>\n",
       "    <tr>\n",
       "      <th>828</th>\n",
       "      <td>Brazil</td>\n",
       "      <td>Sweden</td>\n",
       "      <td>5.0</td>\n",
       "      <td>2.0</td>\n",
       "    </tr>\n",
       "    <tr>\n",
       "      <th>831</th>\n",
       "      <td>Brazil</td>\n",
       "      <td>France</td>\n",
       "      <td>5.0</td>\n",
       "      <td>2.0</td>\n",
       "    </tr>\n",
       "    <tr>\n",
       "      <th>834</th>\n",
       "      <td>Brazil</td>\n",
       "      <td>Wales</td>\n",
       "      <td>1.0</td>\n",
       "      <td>0.0</td>\n",
       "    </tr>\n",
       "    <tr>\n",
       "      <th>868</th>\n",
       "      <td>Hungary</td>\n",
       "      <td>Brazil</td>\n",
       "      <td>4.0</td>\n",
       "      <td>2.0</td>\n",
       "    </tr>\n",
       "    <tr>\n",
       "      <th>914</th>\n",
       "      <td>Italy</td>\n",
       "      <td>Brazil</td>\n",
       "      <td>2.0</td>\n",
       "      <td>1.0</td>\n",
       "    </tr>\n",
       "    <tr>\n",
       "      <th>915</th>\n",
       "      <td>Brazil</td>\n",
       "      <td>Czechoslovakia</td>\n",
       "      <td>2.0</td>\n",
       "      <td>1.0</td>\n",
       "    </tr>\n",
       "    <tr>\n",
       "      <th>917</th>\n",
       "      <td>Brazil</td>\n",
       "      <td>Czechoslovakia</td>\n",
       "      <td>1.0</td>\n",
       "      <td>1.0</td>\n",
       "    </tr>\n",
       "  </tbody>\n",
       "</table>\n",
       "</div>"
      ],
      "text/plain": [
       "       home_team       away_team  h_total  a_total\n",
       "6        Croatia          Brazil      5.0      3.0\n",
       "71        Brazil         Belgium      1.0      2.0\n",
       "131       Brazil         Germany      1.0      7.0\n",
       "135       Brazil        Colombia      2.0      1.0\n",
       "198  Netherlands          Brazil      2.0      1.0\n",
       "261       Brazil          France      0.0      1.0\n",
       "320      Germany          Brazil      0.0      2.0\n",
       "322       Brazil         Türkiye      1.0      0.0\n",
       "326      England          Brazil      1.0      2.0\n",
       "384       Brazil          France      0.0      3.0\n",
       "387       Brazil     Netherlands      5.0      3.0\n",
       "391       Brazil         Denmark      3.0      2.0\n",
       "448       Brazil           Italy      3.0      2.0\n",
       "451       Sweden          Brazil      0.0      1.0\n",
       "455  Netherlands          Brazil      2.0      3.0\n",
       "558       Brazil          France      4.0      5.0\n",
       "732       Brazil           Italy      4.0      1.0\n",
       "735       Brazil         Uruguay      3.0      1.0\n",
       "736       Brazil            Peru      4.0      2.0\n",
       "796       Brazil  Czechoslovakia      3.0      1.0\n",
       "798       Brazil           Chile      4.0      2.0\n",
       "801       Brazil         England      3.0      1.0\n",
       "828       Brazil          Sweden      5.0      2.0\n",
       "831       Brazil          France      5.0      2.0\n",
       "834       Brazil           Wales      1.0      0.0\n",
       "868      Hungary          Brazil      4.0      2.0\n",
       "914        Italy          Brazil      2.0      1.0\n",
       "915       Brazil  Czechoslovakia      2.0      1.0\n",
       "917       Brazil  Czechoslovakia      1.0      1.0"
      ]
     },
     "execution_count": 56,
     "metadata": {},
     "output_type": "execute_result"
    }
   ],
   "source": [
    "h= knockouts[(knockouts['home_team']=='Brazil') | (knockouts['away_team']=='Brazil')][['home_team','away_team','h_total','a_total']]\n",
    "h"
   ]
  },
  {
   "cell_type": "code",
   "execution_count": 57,
   "metadata": {},
   "outputs": [
    {
     "data": {
      "text/html": [
       "<div>\n",
       "<style scoped>\n",
       "    .dataframe tbody tr th:only-of-type {\n",
       "        vertical-align: middle;\n",
       "    }\n",
       "\n",
       "    .dataframe tbody tr th {\n",
       "        vertical-align: top;\n",
       "    }\n",
       "\n",
       "    .dataframe thead th {\n",
       "        text-align: right;\n",
       "    }\n",
       "</style>\n",
       "<table border=\"1\" class=\"dataframe\">\n",
       "  <thead>\n",
       "    <tr style=\"text-align: right;\">\n",
       "      <th></th>\n",
       "      <th>Round</th>\n",
       "      <th>wins</th>\n",
       "      <th>Total-matches</th>\n",
       "      <th>Percentage</th>\n",
       "    </tr>\n",
       "  </thead>\n",
       "  <tbody>\n",
       "    <tr>\n",
       "      <th>0</th>\n",
       "      <td>Final</td>\n",
       "      <td>3</td>\n",
       "      <td>6</td>\n",
       "      <td>50.0</td>\n",
       "    </tr>\n",
       "    <tr>\n",
       "      <th>0</th>\n",
       "      <td>Semi-Final</td>\n",
       "      <td>5</td>\n",
       "      <td>5</td>\n",
       "      <td>100.0</td>\n",
       "    </tr>\n",
       "    <tr>\n",
       "      <th>0</th>\n",
       "      <td>Quater-Final</td>\n",
       "      <td>4</td>\n",
       "      <td>8</td>\n",
       "      <td>50.0</td>\n",
       "    </tr>\n",
       "  </tbody>\n",
       "</table>\n",
       "</div>"
      ],
      "text/plain": [
       "          Round  wins  Total-matches  Percentage\n",
       "0         Final     3              6        50.0\n",
       "0    Semi-Final     5              5       100.0\n",
       "0  Quater-Final     4              8        50.0"
      ]
     },
     "execution_count": 57,
     "metadata": {},
     "output_type": "execute_result"
    }
   ],
   "source": [
    "winning('Argentina')"
   ]
  },
  {
   "cell_type": "code",
   "execution_count": 59,
   "metadata": {},
   "outputs": [
    {
     "data": {
      "text/html": [
       "<div>\n",
       "<style scoped>\n",
       "    .dataframe tbody tr th:only-of-type {\n",
       "        vertical-align: middle;\n",
       "    }\n",
       "\n",
       "    .dataframe tbody tr th {\n",
       "        vertical-align: top;\n",
       "    }\n",
       "\n",
       "    .dataframe thead th {\n",
       "        text-align: right;\n",
       "    }\n",
       "</style>\n",
       "<table border=\"1\" class=\"dataframe\">\n",
       "  <thead>\n",
       "    <tr style=\"text-align: right;\">\n",
       "      <th></th>\n",
       "      <th>Round</th>\n",
       "      <th>wins</th>\n",
       "      <th>Total-matches</th>\n",
       "      <th>Percentage</th>\n",
       "    </tr>\n",
       "  </thead>\n",
       "  <tbody>\n",
       "    <tr>\n",
       "      <th>0</th>\n",
       "      <td>Final</td>\n",
       "      <td>0</td>\n",
       "      <td>0</td>\n",
       "      <td>NaN</td>\n",
       "    </tr>\n",
       "    <tr>\n",
       "      <th>0</th>\n",
       "      <td>Semi-Final</td>\n",
       "      <td>0</td>\n",
       "      <td>2</td>\n",
       "      <td>0.000000</td>\n",
       "    </tr>\n",
       "    <tr>\n",
       "      <th>0</th>\n",
       "      <td>Quater-Final</td>\n",
       "      <td>2</td>\n",
       "      <td>3</td>\n",
       "      <td>66.666667</td>\n",
       "    </tr>\n",
       "  </tbody>\n",
       "</table>\n",
       "</div>"
      ],
      "text/plain": [
       "          Round  wins  Total-matches  Percentage\n",
       "0         Final     0              0         NaN\n",
       "0    Semi-Final     0              2    0.000000\n",
       "0  Quater-Final     2              3   66.666667"
      ]
     },
     "execution_count": 59,
     "metadata": {},
     "output_type": "execute_result"
    }
   ],
   "source": [
    "winning('Portugal')"
   ]
  },
  {
   "cell_type": "markdown",
   "metadata": {},
   "source": [
    "## Conclusion\n",
    "1. Argentina winning perecentage in final is 50 , in semi-final is 100,in Quater-Final is 50 \n",
    "2. England performance in Quater-final is disastrous of percentage 30 \n",
    "3. Portugl never Qualify for finals"
   ]
  },
  {
   "cell_type": "code",
   "execution_count": 60,
   "metadata": {},
   "outputs": [],
   "source": [
    "# Checking Playing strategy of teams in knockout vs non-knockout\n"
   ]
  },
  {
   "cell_type": "code",
   "execution_count": 61,
   "metadata": {},
   "outputs": [
    {
     "data": {
      "text/plain": [
       "Index(['home_team', 'away_team', 'home_score', 'home_xg', 'home_penalty',\n",
       "       'away_score', 'away_xg', 'away_penalty', 'home_manager', 'home_captain',\n",
       "       'away_manager', 'away_captain', 'Attendance', 'Venue', 'Officials',\n",
       "       'Round', 'Date', 'Score', 'Referee', 'Notes', 'Host', 'Year',\n",
       "       'home_goal', 'away_goal', 'home_goal_long', 'away_goal_long',\n",
       "       'home_own_goal', 'away_own_goal', 'home_penalty_goal',\n",
       "       'away_penalty_goal', 'home_penalty_miss_long', 'away_penalty_miss_long',\n",
       "       'home_penalty_shootout_goal_long', 'away_penalty_shootout_goal_long',\n",
       "       'home_penalty_shootout_miss_long', 'away_penalty_shootout_miss_long',\n",
       "       'home_red_card', 'away_red_card', 'home_yellow_red_card',\n",
       "       'away_yellow_red_card', 'home_yellow_card_long',\n",
       "       'away_yellow_card_long', 'home_substitute_in_long',\n",
       "       'away_substitute_in_long', 'h_total', 'a_total'],\n",
       "      dtype='object')"
      ]
     },
     "execution_count": 61,
     "metadata": {},
     "output_type": "execute_result"
    }
   ],
   "source": [
    "matches.columns"
   ]
  },
  {
   "cell_type": "code",
   "execution_count": 62,
   "metadata": {},
   "outputs": [
    {
     "data": {
      "text/plain": [
       "float"
      ]
     },
     "execution_count": 62,
     "metadata": {},
     "output_type": "execute_result"
    }
   ],
   "source": [
    "type(matches.iloc[8]['home_goal'])"
   ]
  },
  {
   "cell_type": "code",
   "execution_count": 63,
   "metadata": {},
   "outputs": [],
   "source": [
    "# Function to extract time from each row for home team \n",
    "import re\n",
    "def extract_time(row):\n",
    "    times =[]\n",
    "    if pd.notna(row['home_goal']):\n",
    "         m = re.findall(r'\\b(\\d+)\\b',row['home_goal'])\n",
    "         times.extend(m)\n",
    "         return ','.join(times)\n",
    "    else:\n",
    "         return ''\n",
    "\n",
    "        \n",
    "   "
   ]
  },
  {
   "cell_type": "code",
   "execution_count": 64,
   "metadata": {},
   "outputs": [],
   "source": [
    "# Function to extract time from each row for home team \n",
    "import re\n",
    "def extract_time2(row):\n",
    "    times =[]\n",
    "    if pd.notna(row['away_goal']):\n",
    "         m = re.findall(r'\\b(\\d+)\\b',row['away_goal'])\n",
    "         times.extend(m)\n",
    "         return ','.join(times)\n",
    "    else:\n",
    "         return ''\n",
    "\n",
    "        \n",
    "   "
   ]
  },
  {
   "cell_type": "code",
   "execution_count": 65,
   "metadata": {},
   "outputs": [],
   "source": [
    "matches['Home_Goals']=matches.apply(extract_time,axis=1)\n",
    "matches['Away_Goals'] = matches.apply(extract_time2,axis=1)"
   ]
  },
  {
   "cell_type": "code",
   "execution_count": 66,
   "metadata": {},
   "outputs": [
    {
     "data": {
      "text/html": [
       "<div>\n",
       "<style scoped>\n",
       "    .dataframe tbody tr th:only-of-type {\n",
       "        vertical-align: middle;\n",
       "    }\n",
       "\n",
       "    .dataframe tbody tr th {\n",
       "        vertical-align: top;\n",
       "    }\n",
       "\n",
       "    .dataframe thead th {\n",
       "        text-align: right;\n",
       "    }\n",
       "</style>\n",
       "<table border=\"1\" class=\"dataframe\">\n",
       "  <thead>\n",
       "    <tr style=\"text-align: right;\">\n",
       "      <th></th>\n",
       "      <th>home_team</th>\n",
       "      <th>away_team</th>\n",
       "      <th>home_score</th>\n",
       "      <th>home_xg</th>\n",
       "      <th>home_penalty</th>\n",
       "      <th>away_score</th>\n",
       "      <th>away_xg</th>\n",
       "      <th>away_penalty</th>\n",
       "      <th>home_manager</th>\n",
       "      <th>home_captain</th>\n",
       "      <th>...</th>\n",
       "      <th>home_yellow_red_card</th>\n",
       "      <th>away_yellow_red_card</th>\n",
       "      <th>home_yellow_card_long</th>\n",
       "      <th>away_yellow_card_long</th>\n",
       "      <th>home_substitute_in_long</th>\n",
       "      <th>away_substitute_in_long</th>\n",
       "      <th>h_total</th>\n",
       "      <th>a_total</th>\n",
       "      <th>Home_Goals</th>\n",
       "      <th>Away_Goals</th>\n",
       "    </tr>\n",
       "  </thead>\n",
       "  <tbody>\n",
       "    <tr>\n",
       "      <th>0</th>\n",
       "      <td>Argentina</td>\n",
       "      <td>France</td>\n",
       "      <td>3</td>\n",
       "      <td>3.3</td>\n",
       "      <td>4.0</td>\n",
       "      <td>3</td>\n",
       "      <td>2.2</td>\n",
       "      <td>2.0</td>\n",
       "      <td>Lionel Scaloni</td>\n",
       "      <td>Lionel Messi</td>\n",
       "      <td>...</td>\n",
       "      <td>NaN</td>\n",
       "      <td>NaN</td>\n",
       "      <td>['45+7&amp;rsquor;|2:0|Enzo Fernández', '90+8&amp;rsqu...</td>\n",
       "      <td>['55&amp;rsquor;|2:0|Adrien Rabiot', '87&amp;rsquor;|2...</td>\n",
       "      <td>['64&amp;rsquor;|2:0|Marcos Acuña|for Ángel Di Mar...</td>\n",
       "      <td>['41&amp;rsquor;|2:0|Randal Kolo Muani|for Ousmane...</td>\n",
       "      <td>7.0</td>\n",
       "      <td>5.0</td>\n",
       "      <td>36,108</td>\n",
       "      <td>81</td>\n",
       "    </tr>\n",
       "    <tr>\n",
       "      <th>1</th>\n",
       "      <td>Croatia</td>\n",
       "      <td>Morocco</td>\n",
       "      <td>2</td>\n",
       "      <td>0.7</td>\n",
       "      <td>0.0</td>\n",
       "      <td>1</td>\n",
       "      <td>1.2</td>\n",
       "      <td>0.0</td>\n",
       "      <td>Zlatko Dalić</td>\n",
       "      <td>Luka Modrić</td>\n",
       "      <td>...</td>\n",
       "      <td>NaN</td>\n",
       "      <td>NaN</td>\n",
       "      <td>NaN</td>\n",
       "      <td>['69&amp;rsquor;|2:1|Azzedine Ounahi', '84&amp;rsquor;...</td>\n",
       "      <td>['61&amp;rsquor;|2:1|Nikola Vlašić|for Andrej Kram...</td>\n",
       "      <td>['46&amp;rsquor;|2:1|Ilias Chair|for Abdelhamid Sa...</td>\n",
       "      <td>2.0</td>\n",
       "      <td>1.0</td>\n",
       "      <td>7,42</td>\n",
       "      <td>9</td>\n",
       "    </tr>\n",
       "  </tbody>\n",
       "</table>\n",
       "<p>2 rows × 48 columns</p>\n",
       "</div>"
      ],
      "text/plain": [
       "   home_team away_team  home_score  home_xg  home_penalty  away_score  \\\n",
       "0  Argentina    France           3      3.3           4.0           3   \n",
       "1    Croatia   Morocco           2      0.7           0.0           1   \n",
       "\n",
       "   away_xg  away_penalty    home_manager  home_captain  ...  \\\n",
       "0      2.2           2.0  Lionel Scaloni  Lionel Messi  ...   \n",
       "1      1.2           0.0    Zlatko Dalić   Luka Modrić  ...   \n",
       "\n",
       "  home_yellow_red_card away_yellow_red_card  \\\n",
       "0                  NaN                  NaN   \n",
       "1                  NaN                  NaN   \n",
       "\n",
       "                               home_yellow_card_long  \\\n",
       "0  ['45+7&rsquor;|2:0|Enzo Fernández', '90+8&rsqu...   \n",
       "1                                                NaN   \n",
       "\n",
       "                               away_yellow_card_long  \\\n",
       "0  ['55&rsquor;|2:0|Adrien Rabiot', '87&rsquor;|2...   \n",
       "1  ['69&rsquor;|2:1|Azzedine Ounahi', '84&rsquor;...   \n",
       "\n",
       "                             home_substitute_in_long  \\\n",
       "0  ['64&rsquor;|2:0|Marcos Acuña|for Ángel Di Mar...   \n",
       "1  ['61&rsquor;|2:1|Nikola Vlašić|for Andrej Kram...   \n",
       "\n",
       "                             away_substitute_in_long h_total a_total  \\\n",
       "0  ['41&rsquor;|2:0|Randal Kolo Muani|for Ousmane...     7.0     5.0   \n",
       "1  ['46&rsquor;|2:1|Ilias Chair|for Abdelhamid Sa...     2.0     1.0   \n",
       "\n",
       "  Home_Goals Away_Goals  \n",
       "0     36,108         81  \n",
       "1       7,42          9  \n",
       "\n",
       "[2 rows x 48 columns]"
      ]
     },
     "execution_count": 66,
     "metadata": {},
     "output_type": "execute_result"
    }
   ],
   "source": [
    "matches.head(2)"
   ]
  },
  {
   "cell_type": "code",
   "execution_count": 67,
   "metadata": {},
   "outputs": [
    {
     "data": {
      "text/plain": [
       "array(['Final', 'Third-place match', 'Semi-finals', 'Quarter-finals',\n",
       "       'Round of 16', 'Group stage', 'Second group stage',\n",
       "       'First group stage', 'Second round', 'First round',\n",
       "       'Group stage play-off', 'Final stage'], dtype=object)"
      ]
     },
     "execution_count": 67,
     "metadata": {},
     "output_type": "execute_result"
    }
   ],
   "source": [
    "matches['Round'].unique()"
   ]
  },
  {
   "cell_type": "code",
   "execution_count": 68,
   "metadata": {},
   "outputs": [],
   "source": [
    "knockout_round = ['Final','Semi-finals','Quarter-finals','Third-place match']\n",
    "matches['Knockouts']=matches['Round'].apply(lambda x: 'knockout' if x in knockout_round else 'non-knockout')"
   ]
  },
  {
   "cell_type": "code",
   "execution_count": 69,
   "metadata": {},
   "outputs": [
    {
     "data": {
      "text/html": [
       "<div>\n",
       "<style scoped>\n",
       "    .dataframe tbody tr th:only-of-type {\n",
       "        vertical-align: middle;\n",
       "    }\n",
       "\n",
       "    .dataframe tbody tr th {\n",
       "        vertical-align: top;\n",
       "    }\n",
       "\n",
       "    .dataframe thead th {\n",
       "        text-align: right;\n",
       "    }\n",
       "</style>\n",
       "<table border=\"1\" class=\"dataframe\">\n",
       "  <thead>\n",
       "    <tr style=\"text-align: right;\">\n",
       "      <th></th>\n",
       "      <th>home_team</th>\n",
       "      <th>away_team</th>\n",
       "      <th>home_score</th>\n",
       "      <th>home_xg</th>\n",
       "      <th>home_penalty</th>\n",
       "      <th>away_score</th>\n",
       "      <th>away_xg</th>\n",
       "      <th>away_penalty</th>\n",
       "      <th>home_manager</th>\n",
       "      <th>home_captain</th>\n",
       "      <th>...</th>\n",
       "      <th>away_yellow_red_card</th>\n",
       "      <th>home_yellow_card_long</th>\n",
       "      <th>away_yellow_card_long</th>\n",
       "      <th>home_substitute_in_long</th>\n",
       "      <th>away_substitute_in_long</th>\n",
       "      <th>h_total</th>\n",
       "      <th>a_total</th>\n",
       "      <th>Home_Goals</th>\n",
       "      <th>Away_Goals</th>\n",
       "      <th>Knockouts</th>\n",
       "    </tr>\n",
       "  </thead>\n",
       "  <tbody>\n",
       "    <tr>\n",
       "      <th>0</th>\n",
       "      <td>Argentina</td>\n",
       "      <td>France</td>\n",
       "      <td>3</td>\n",
       "      <td>3.3</td>\n",
       "      <td>4.0</td>\n",
       "      <td>3</td>\n",
       "      <td>2.2</td>\n",
       "      <td>2.0</td>\n",
       "      <td>Lionel Scaloni</td>\n",
       "      <td>Lionel Messi</td>\n",
       "      <td>...</td>\n",
       "      <td>NaN</td>\n",
       "      <td>['45+7&amp;rsquor;|2:0|Enzo Fernández', '90+8&amp;rsqu...</td>\n",
       "      <td>['55&amp;rsquor;|2:0|Adrien Rabiot', '87&amp;rsquor;|2...</td>\n",
       "      <td>['64&amp;rsquor;|2:0|Marcos Acuña|for Ángel Di Mar...</td>\n",
       "      <td>['41&amp;rsquor;|2:0|Randal Kolo Muani|for Ousmane...</td>\n",
       "      <td>7.0</td>\n",
       "      <td>5.0</td>\n",
       "      <td>36,108</td>\n",
       "      <td>81</td>\n",
       "      <td>knockout</td>\n",
       "    </tr>\n",
       "    <tr>\n",
       "      <th>1</th>\n",
       "      <td>Croatia</td>\n",
       "      <td>Morocco</td>\n",
       "      <td>2</td>\n",
       "      <td>0.7</td>\n",
       "      <td>0.0</td>\n",
       "      <td>1</td>\n",
       "      <td>1.2</td>\n",
       "      <td>0.0</td>\n",
       "      <td>Zlatko Dalić</td>\n",
       "      <td>Luka Modrić</td>\n",
       "      <td>...</td>\n",
       "      <td>NaN</td>\n",
       "      <td>NaN</td>\n",
       "      <td>['69&amp;rsquor;|2:1|Azzedine Ounahi', '84&amp;rsquor;...</td>\n",
       "      <td>['61&amp;rsquor;|2:1|Nikola Vlašić|for Andrej Kram...</td>\n",
       "      <td>['46&amp;rsquor;|2:1|Ilias Chair|for Abdelhamid Sa...</td>\n",
       "      <td>2.0</td>\n",
       "      <td>1.0</td>\n",
       "      <td>7,42</td>\n",
       "      <td>9</td>\n",
       "      <td>knockout</td>\n",
       "    </tr>\n",
       "  </tbody>\n",
       "</table>\n",
       "<p>2 rows × 49 columns</p>\n",
       "</div>"
      ],
      "text/plain": [
       "   home_team away_team  home_score  home_xg  home_penalty  away_score  \\\n",
       "0  Argentina    France           3      3.3           4.0           3   \n",
       "1    Croatia   Morocco           2      0.7           0.0           1   \n",
       "\n",
       "   away_xg  away_penalty    home_manager  home_captain  ...  \\\n",
       "0      2.2           2.0  Lionel Scaloni  Lionel Messi  ...   \n",
       "1      1.2           0.0    Zlatko Dalić   Luka Modrić  ...   \n",
       "\n",
       "  away_yellow_red_card                              home_yellow_card_long  \\\n",
       "0                  NaN  ['45+7&rsquor;|2:0|Enzo Fernández', '90+8&rsqu...   \n",
       "1                  NaN                                                NaN   \n",
       "\n",
       "                               away_yellow_card_long  \\\n",
       "0  ['55&rsquor;|2:0|Adrien Rabiot', '87&rsquor;|2...   \n",
       "1  ['69&rsquor;|2:1|Azzedine Ounahi', '84&rsquor;...   \n",
       "\n",
       "                             home_substitute_in_long  \\\n",
       "0  ['64&rsquor;|2:0|Marcos Acuña|for Ángel Di Mar...   \n",
       "1  ['61&rsquor;|2:1|Nikola Vlašić|for Andrej Kram...   \n",
       "\n",
       "                             away_substitute_in_long h_total a_total  \\\n",
       "0  ['41&rsquor;|2:0|Randal Kolo Muani|for Ousmane...     7.0     5.0   \n",
       "1  ['46&rsquor;|2:1|Ilias Chair|for Abdelhamid Sa...     2.0     1.0   \n",
       "\n",
       "  Home_Goals Away_Goals Knockouts  \n",
       "0     36,108         81  knockout  \n",
       "1       7,42          9  knockout  \n",
       "\n",
       "[2 rows x 49 columns]"
      ]
     },
     "execution_count": 69,
     "metadata": {},
     "output_type": "execute_result"
    }
   ],
   "source": [
    "matches.head(2)"
   ]
  },
  {
   "cell_type": "code",
   "execution_count": 70,
   "metadata": {},
   "outputs": [],
   "source": [
    "def determine(row):\n",
    "    if row['Time']<=45:\n",
    "        return 'First Half'\n",
    "    elif row['Time']>45 and row['Time']<=90:\n",
    "        return \"Second Half\"\n",
    "    else:\n",
    "        return \"Extra Time\"\n",
    "       "
   ]
  },
  {
   "cell_type": "code",
   "execution_count": 71,
   "metadata": {},
   "outputs": [],
   "source": [
    "# Creating a function which give us idea about how team play in knockout and non knockouts matches \n",
    "def analysis_knockout(country,round):\n",
    "    h_k = matches[((matches['home_team']==country) & (matches['Knockouts']=='knockout'))]['Home_Goals'].str.split(',').explode().reset_index()\n",
    "    h_nk = matches[((matches['home_team']==country) & (matches['Knockouts']=='non-knockout'))]['Home_Goals'].str.split(',').explode().reset_index()\n",
    "    a_k = matches[((matches['away_team']==country) & (matches['Knockouts']=='knockout'))]['Away_Goals'].str.split(',').explode().reset_index()\n",
    "    a_nk = matches[((matches['away_team']==country) & (matches['Knockouts']=='non-knockout'))]['Away_Goals'].str.split(',').explode().reset_index()\n",
    "    knock=pd.concat([h_k,a_k],axis=0,ignore_index=True)\n",
    "    non_knock=pd.concat([h_nk,a_nk],ignore_index=True,axis=0)\n",
    "\n",
    "    knock.replace(r'^\\s*$',0,regex=True,inplace=True)\n",
    "    knock.fillna(0,inplace=True)\n",
    "\n",
    "    non_knock.replace(r'^\\s*$',0,regex=True,inplace=True)\n",
    "    non_knock.fillna(0,inplace=True)\n",
    "\n",
    "    knock['Home_Goals'] = knock['Home_Goals'].astype(int)\n",
    "    knock['Away_Goals'] = knock['Away_Goals'].astype(int)\n",
    "    knock['Time'] = knock['Away_Goals']+knock['Home_Goals']\n",
    "    knock=knock[knock['Time']!= 0]\n",
    "\n",
    "    non_knock['Home_Goals'] = non_knock['Home_Goals'].astype(int)\n",
    "    non_knock['Away_Goals'] = non_knock['Away_Goals'].astype(int)\n",
    "    non_knock['Time'] = non_knock['Away_Goals']+non_knock['Home_Goals']\n",
    "    non_knock=non_knock[non_knock['Time']!= 0]\n",
    "\n",
    "    knock['time']=knock.apply(determine,axis=1)\n",
    "    non_knock['time']=non_knock.apply(determine,axis=1)\n",
    "\n",
    "    \n",
    "    if(round=='knockout'):\n",
    "        print((knock['time'].value_counts()/len(knock['time']))*100)\n",
    "    else:\n",
    "        print((non_knock['time'].value_counts()/len(non_knock['time']))*100)\n",
    "\n",
    "    \n",
    "    \n",
    "    "
   ]
  },
  {
   "cell_type": "code",
   "execution_count": 72,
   "metadata": {},
   "outputs": [
    {
     "name": "stdout",
     "output_type": "stream",
     "text": [
      "time\n",
      "Second Half    80.0\n",
      "First Half     20.0\n",
      "Name: count, dtype: float64\n"
     ]
    }
   ],
   "source": [
    "analysis_knockout('Portugal','knockout')"
   ]
  },
  {
   "cell_type": "markdown",
   "metadata": {},
   "source": [
    "## Conclusions\n",
    "1. Generally teams played aggresive in 2nd Half in both knockout and non knockout matches\n",
    "2. In knockout Tournaments, Mexico only scored in First half,either they are defending in second half and maintaing the lead\n",
    "3. Spain played equally in both halfs in non-knockout matches while in non-knockouts matches they play very safely in first half but in second half they retaliate very violently (Spain has same goals in first half and in extra time in knockout matches).\n",
    "4. In Knockout matches Portugal becomes vigorously attacking in second half. They never take their any knockout match in the extra time"
   ]
  },
  {
   "cell_type": "code",
   "execution_count": 82,
   "metadata": {},
   "outputs": [],
   "source": [
    "# Team expected Performance and Actual Performance\n"
   ]
  },
  {
   "cell_type": "code",
   "execution_count": 86,
   "metadata": {},
   "outputs": [
    {
     "data": {
      "text/plain": [
       "Index(['home_team', 'away_team', 'home_score', 'home_xg', 'home_penalty',\n",
       "       'away_score', 'away_xg', 'away_penalty', 'home_manager', 'home_captain',\n",
       "       'away_manager', 'away_captain', 'Attendance', 'Venue', 'Officials',\n",
       "       'Round', 'Date', 'Score', 'Referee', 'Notes', 'Host', 'Year',\n",
       "       'home_goal', 'away_goal', 'home_goal_long', 'away_goal_long',\n",
       "       'home_own_goal', 'away_own_goal', 'home_penalty_goal',\n",
       "       'away_penalty_goal', 'home_penalty_miss_long', 'away_penalty_miss_long',\n",
       "       'home_penalty_shootout_goal_long', 'away_penalty_shootout_goal_long',\n",
       "       'home_penalty_shootout_miss_long', 'away_penalty_shootout_miss_long',\n",
       "       'home_red_card', 'away_red_card', 'home_yellow_red_card',\n",
       "       'away_yellow_red_card', 'home_yellow_card_long',\n",
       "       'away_yellow_card_long', 'home_substitute_in_long',\n",
       "       'away_substitute_in_long', 'h_total', 'a_total', 'Home_Goals',\n",
       "       'Away_Goals', 'Knockouts'],\n",
       "      dtype='object')"
      ]
     },
     "execution_count": 86,
     "metadata": {},
     "output_type": "execute_result"
    }
   ],
   "source": [
    "matches.columns"
   ]
  },
  {
   "cell_type": "code",
   "execution_count": 118,
   "metadata": {},
   "outputs": [],
   "source": [
    "# Calculate expected goals and total goals for each team \n",
    "matches.head()\n",
    "home_team=matches.groupby(['home_team','Year']).agg({\n",
    "    'home_score':'sum',\n",
    "    'home_xg':'sum'\n",
    "}).reset_index()\n",
    "home_team=home_team[(home_team['Year']==2018) | (home_team['Year']==2022)]\n",
    "home_team.rename(columns={'home_team':'team'},inplace=True)\n",
    "\n",
    "\n",
    "away_team=matches.groupby(['away_team','Year']).agg({\n",
    "    'away_score':'sum',\n",
    "    'away_xg':'sum'\n",
    "}).reset_index()\n",
    "away_team=away_team[(away_team['Year']==2018) | (away_team['Year']==2022)]\n",
    "away_team.rename(columns={'away_team':'team'},inplace=True)\n"
   ]
  },
  {
   "cell_type": "code",
   "execution_count": 122,
   "metadata": {},
   "outputs": [],
   "source": [
    "home_team['home_performance'] = (((home_team['home_score']-home_team['home_xg']))/home_team['home_xg'])*100\n",
    "away_team['away_performance'] = (((away_team['away_score']-away_team['away_xg']))/away_team['away_xg'])*100\n",
    "\n",
    "# home_team['performance'] = (home_team['score']/home_team['home_xg'])*100\n",
    "# away_team['performance'] = (away_team['score']/away_team['away_xg'])*100\n"
   ]
  },
  {
   "cell_type": "code",
   "execution_count": 131,
   "metadata": {},
   "outputs": [
    {
     "data": {
      "text/html": [
       "<div>\n",
       "<style scoped>\n",
       "    .dataframe tbody tr th:only-of-type {\n",
       "        vertical-align: middle;\n",
       "    }\n",
       "\n",
       "    .dataframe tbody tr th {\n",
       "        vertical-align: top;\n",
       "    }\n",
       "\n",
       "    .dataframe thead th {\n",
       "        text-align: right;\n",
       "    }\n",
       "</style>\n",
       "<table border=\"1\" class=\"dataframe\">\n",
       "  <thead>\n",
       "    <tr style=\"text-align: right;\">\n",
       "      <th></th>\n",
       "      <th>team</th>\n",
       "      <th>Year</th>\n",
       "      <th>home_score</th>\n",
       "      <th>home_xg</th>\n",
       "      <th>home_performance</th>\n",
       "      <th>away_score</th>\n",
       "      <th>away_xg</th>\n",
       "      <th>away_performance</th>\n",
       "      <th>Total_score</th>\n",
       "      <th>Total_xg</th>\n",
       "      <th>Overall Performance</th>\n",
       "    </tr>\n",
       "  </thead>\n",
       "  <tbody>\n",
       "    <tr>\n",
       "      <th>0</th>\n",
       "      <td>Argentina</td>\n",
       "      <td>2018</td>\n",
       "      <td>1</td>\n",
       "      <td>3.2</td>\n",
       "      <td>-68.750000</td>\n",
       "      <td>5</td>\n",
       "      <td>1.7</td>\n",
       "      <td>194.117647</td>\n",
       "      <td>6</td>\n",
       "      <td>4.9</td>\n",
       "      <td>22.448980</td>\n",
       "    </tr>\n",
       "    <tr>\n",
       "      <th>1</th>\n",
       "      <td>Argentina</td>\n",
       "      <td>2022</td>\n",
       "      <td>11</td>\n",
       "      <td>9.7</td>\n",
       "      <td>13.402062</td>\n",
       "      <td>4</td>\n",
       "      <td>5.4</td>\n",
       "      <td>-25.925926</td>\n",
       "      <td>15</td>\n",
       "      <td>15.1</td>\n",
       "      <td>-0.662252</td>\n",
       "    </tr>\n",
       "    <tr>\n",
       "      <th>2</th>\n",
       "      <td>Australia</td>\n",
       "      <td>2018</td>\n",
       "      <td>0</td>\n",
       "      <td>0.9</td>\n",
       "      <td>-100.000000</td>\n",
       "      <td>2</td>\n",
       "      <td>2.3</td>\n",
       "      <td>-13.043478</td>\n",
       "      <td>2</td>\n",
       "      <td>3.2</td>\n",
       "      <td>-37.500000</td>\n",
       "    </tr>\n",
       "    <tr>\n",
       "      <th>3</th>\n",
       "      <td>Australia</td>\n",
       "      <td>2022</td>\n",
       "      <td>1</td>\n",
       "      <td>0.6</td>\n",
       "      <td>66.666667</td>\n",
       "      <td>3</td>\n",
       "      <td>1.7</td>\n",
       "      <td>76.470588</td>\n",
       "      <td>4</td>\n",
       "      <td>2.3</td>\n",
       "      <td>73.913043</td>\n",
       "    </tr>\n",
       "    <tr>\n",
       "      <th>4</th>\n",
       "      <td>Belgium</td>\n",
       "      <td>2018</td>\n",
       "      <td>13</td>\n",
       "      <td>11.2</td>\n",
       "      <td>16.071429</td>\n",
       "      <td>3</td>\n",
       "      <td>2.2</td>\n",
       "      <td>36.363636</td>\n",
       "      <td>16</td>\n",
       "      <td>13.4</td>\n",
       "      <td>19.402985</td>\n",
       "    </tr>\n",
       "    <tr>\n",
       "      <th>...</th>\n",
       "      <td>...</td>\n",
       "      <td>...</td>\n",
       "      <td>...</td>\n",
       "      <td>...</td>\n",
       "      <td>...</td>\n",
       "      <td>...</td>\n",
       "      <td>...</td>\n",
       "      <td>...</td>\n",
       "      <td>...</td>\n",
       "      <td>...</td>\n",
       "      <td>...</td>\n",
       "    </tr>\n",
       "    <tr>\n",
       "      <th>59</th>\n",
       "      <td>Tunisia</td>\n",
       "      <td>2022</td>\n",
       "      <td>1</td>\n",
       "      <td>1.4</td>\n",
       "      <td>-28.571429</td>\n",
       "      <td>0</td>\n",
       "      <td>0.9</td>\n",
       "      <td>-100.000000</td>\n",
       "      <td>1</td>\n",
       "      <td>2.3</td>\n",
       "      <td>-56.521739</td>\n",
       "    </tr>\n",
       "    <tr>\n",
       "      <th>60</th>\n",
       "      <td>United States</td>\n",
       "      <td>2022</td>\n",
       "      <td>1</td>\n",
       "      <td>0.8</td>\n",
       "      <td>25.000000</td>\n",
       "      <td>2</td>\n",
       "      <td>3.3</td>\n",
       "      <td>-39.393939</td>\n",
       "      <td>3</td>\n",
       "      <td>4.1</td>\n",
       "      <td>-26.829268</td>\n",
       "    </tr>\n",
       "    <tr>\n",
       "      <th>61</th>\n",
       "      <td>Uruguay</td>\n",
       "      <td>2018</td>\n",
       "      <td>6</td>\n",
       "      <td>5.6</td>\n",
       "      <td>7.142857</td>\n",
       "      <td>1</td>\n",
       "      <td>1.6</td>\n",
       "      <td>-37.500000</td>\n",
       "      <td>7</td>\n",
       "      <td>7.2</td>\n",
       "      <td>-2.777778</td>\n",
       "    </tr>\n",
       "    <tr>\n",
       "      <th>62</th>\n",
       "      <td>Uruguay</td>\n",
       "      <td>2022</td>\n",
       "      <td>0</td>\n",
       "      <td>0.6</td>\n",
       "      <td>-100.000000</td>\n",
       "      <td>2</td>\n",
       "      <td>3.1</td>\n",
       "      <td>-35.483871</td>\n",
       "      <td>2</td>\n",
       "      <td>3.7</td>\n",
       "      <td>-45.945946</td>\n",
       "    </tr>\n",
       "    <tr>\n",
       "      <th>63</th>\n",
       "      <td>Wales</td>\n",
       "      <td>2022</td>\n",
       "      <td>0</td>\n",
       "      <td>1.2</td>\n",
       "      <td>-100.000000</td>\n",
       "      <td>1</td>\n",
       "      <td>1.5</td>\n",
       "      <td>-33.333333</td>\n",
       "      <td>1</td>\n",
       "      <td>2.7</td>\n",
       "      <td>-62.962963</td>\n",
       "    </tr>\n",
       "  </tbody>\n",
       "</table>\n",
       "<p>64 rows × 11 columns</p>\n",
       "</div>"
      ],
      "text/plain": [
       "             team  Year  home_score  home_xg  home_performance  away_score  \\\n",
       "0       Argentina  2018           1      3.2        -68.750000           5   \n",
       "1       Argentina  2022          11      9.7         13.402062           4   \n",
       "2       Australia  2018           0      0.9       -100.000000           2   \n",
       "3       Australia  2022           1      0.6         66.666667           3   \n",
       "4         Belgium  2018          13     11.2         16.071429           3   \n",
       "..            ...   ...         ...      ...               ...         ...   \n",
       "59        Tunisia  2022           1      1.4        -28.571429           0   \n",
       "60  United States  2022           1      0.8         25.000000           2   \n",
       "61        Uruguay  2018           6      5.6          7.142857           1   \n",
       "62        Uruguay  2022           0      0.6       -100.000000           2   \n",
       "63          Wales  2022           0      1.2       -100.000000           1   \n",
       "\n",
       "    away_xg  away_performance  Total_score  Total_xg  Overall Performance  \n",
       "0       1.7        194.117647            6       4.9            22.448980  \n",
       "1       5.4        -25.925926           15      15.1            -0.662252  \n",
       "2       2.3        -13.043478            2       3.2           -37.500000  \n",
       "3       1.7         76.470588            4       2.3            73.913043  \n",
       "4       2.2         36.363636           16      13.4            19.402985  \n",
       "..      ...               ...          ...       ...                  ...  \n",
       "59      0.9       -100.000000            1       2.3           -56.521739  \n",
       "60      3.3        -39.393939            3       4.1           -26.829268  \n",
       "61      1.6        -37.500000            7       7.2            -2.777778  \n",
       "62      3.1        -35.483871            2       3.7           -45.945946  \n",
       "63      1.5        -33.333333            1       2.7           -62.962963  \n",
       "\n",
       "[64 rows x 11 columns]"
      ]
     },
     "execution_count": 131,
     "metadata": {},
     "output_type": "execute_result"
    }
   ],
   "source": [
    "# Concating both tabels\n",
    "merged=home_team.merge(away_team,on=['team','Year'])\n",
    "merged['Total_score'] = merged['home_score'] + merged['away_score']\n",
    "merged['Total_xg'] = merged['home_xg'] + merged['away_xg']\n",
    "merged['Overall Performance'] = (((merged['Total_score']-merged['Total_xg']))/merged['Total_xg'])*100\n",
    "merged"
   ]
  },
  {
   "cell_type": "code",
   "execution_count": 126,
   "metadata": {},
   "outputs": [],
   "source": [
    "def performance(team):\n",
    "    df3=merged[merged['team']==team]\n",
    "    return df3[['team','Year','home_performance','away_performance','Overall Performance']]\n",
    "    \n",
    "    "
   ]
  },
  {
   "cell_type": "code",
   "execution_count": 133,
   "metadata": {},
   "outputs": [
    {
     "data": {
      "text/html": [
       "<div>\n",
       "<style scoped>\n",
       "    .dataframe tbody tr th:only-of-type {\n",
       "        vertical-align: middle;\n",
       "    }\n",
       "\n",
       "    .dataframe tbody tr th {\n",
       "        vertical-align: top;\n",
       "    }\n",
       "\n",
       "    .dataframe thead th {\n",
       "        text-align: right;\n",
       "    }\n",
       "</style>\n",
       "<table border=\"1\" class=\"dataframe\">\n",
       "  <thead>\n",
       "    <tr style=\"text-align: right;\">\n",
       "      <th></th>\n",
       "      <th>team</th>\n",
       "      <th>Year</th>\n",
       "      <th>home_performance</th>\n",
       "      <th>away_performance</th>\n",
       "      <th>Overall Performance</th>\n",
       "    </tr>\n",
       "  </thead>\n",
       "  <tbody>\n",
       "    <tr>\n",
       "      <th>46</th>\n",
       "      <td>Russia</td>\n",
       "      <td>2018</td>\n",
       "      <td>156.410256</td>\n",
       "      <td>-9.090909</td>\n",
       "      <td>120.0</td>\n",
       "    </tr>\n",
       "  </tbody>\n",
       "</table>\n",
       "</div>"
      ],
      "text/plain": [
       "      team  Year  home_performance  away_performance  Overall Performance\n",
       "46  Russia  2018        156.410256         -9.090909                120.0"
      ]
     },
     "execution_count": 133,
     "metadata": {},
     "output_type": "execute_result"
    }
   ],
   "source": [
    "performance('Russia')"
   ]
  },
  {
   "cell_type": "markdown",
   "metadata": {},
   "source": [
    "## Conclusions\n",
    "1. In 2018 ,Argentina failed to take home advantages and underperformed at home . However they performed very well to their away games\n",
    "2. In 2018 Russia play very good as FIFA took place in their home.\n",
    "3. Russia was also the underdog Team in 2018\n",
    "4. Netherland was the underdog TEam in 2022\n",
    "5. Among top teams Portugal scored 40% more than excepted goals\n",
    "6. Brazil was the most overrated team of 2018 and 2022"
   ]
  },
  {
   "cell_type": "code",
   "execution_count": null,
   "metadata": {},
   "outputs": [],
   "source": []
  }
 ],
 "metadata": {
  "kernelspec": {
   "display_name": "Python 3",
   "language": "python",
   "name": "python3"
  },
  "language_info": {
   "codemirror_mode": {
    "name": "ipython",
    "version": 3
   },
   "file_extension": ".py",
   "mimetype": "text/x-python",
   "name": "python",
   "nbconvert_exporter": "python",
   "pygments_lexer": "ipython3",
   "version": "3.12.2"
  }
 },
 "nbformat": 4,
 "nbformat_minor": 2
}
